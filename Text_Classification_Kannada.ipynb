{
  "nbformat": 4,
  "nbformat_minor": 0,
  "metadata": {
    "accelerator": "GPU",
    "colab": {
      "name": "Text Classification - Kannada.ipynb",
      "provenance": [],
      "collapsed_sections": [],
      "machine_shape": "hm",
      "mount_file_id": "12rnpUloyHj92fRs9v22lxAWz-oX4Za1E",
      "authorship_tag": "ABX9TyNJJBPgT/MBvWBZiOTxCsos",
      "include_colab_link": true
    },
    "kernelspec": {
      "display_name": "Python 3",
      "name": "python3"
    },
    "widgets": {
      "application/vnd.jupyter.widget-state+json": {
        "9ba56d695f814ae3a3e003da8aa5a44a": {
          "model_module": "@jupyter-widgets/controls",
          "model_name": "HBoxModel",
          "state": {
            "_view_name": "HBoxView",
            "_dom_classes": [],
            "_model_name": "HBoxModel",
            "_view_module": "@jupyter-widgets/controls",
            "_model_module_version": "1.5.0",
            "_view_count": null,
            "_view_module_version": "1.5.0",
            "box_style": "",
            "layout": "IPY_MODEL_ad9cd8e9cc0449729d380a6d55b1aaab",
            "_model_module": "@jupyter-widgets/controls",
            "children": [
              "IPY_MODEL_085b0c5c7a98495f856ae768d3283060",
              "IPY_MODEL_d75241f73dca43b1b97ec9bbed46bd84"
            ]
          }
        },
        "ad9cd8e9cc0449729d380a6d55b1aaab": {
          "model_module": "@jupyter-widgets/base",
          "model_name": "LayoutModel",
          "state": {
            "_view_name": "LayoutView",
            "grid_template_rows": null,
            "right": null,
            "justify_content": null,
            "_view_module": "@jupyter-widgets/base",
            "overflow": null,
            "_model_module_version": "1.2.0",
            "_view_count": null,
            "flex_flow": null,
            "width": null,
            "min_width": null,
            "border": null,
            "align_items": null,
            "bottom": null,
            "_model_module": "@jupyter-widgets/base",
            "top": null,
            "grid_column": null,
            "overflow_y": null,
            "overflow_x": null,
            "grid_auto_flow": null,
            "grid_area": null,
            "grid_template_columns": null,
            "flex": null,
            "_model_name": "LayoutModel",
            "justify_items": null,
            "grid_row": null,
            "max_height": null,
            "align_content": null,
            "visibility": null,
            "align_self": null,
            "height": null,
            "min_height": null,
            "padding": null,
            "grid_auto_rows": null,
            "grid_gap": null,
            "max_width": null,
            "order": null,
            "_view_module_version": "1.2.0",
            "grid_template_areas": null,
            "object_position": null,
            "object_fit": null,
            "grid_auto_columns": null,
            "margin": null,
            "display": null,
            "left": null
          }
        },
        "085b0c5c7a98495f856ae768d3283060": {
          "model_module": "@jupyter-widgets/controls",
          "model_name": "FloatProgressModel",
          "state": {
            "_view_name": "ProgressView",
            "style": "IPY_MODEL_53937de76a2e47489535c36aad064c47",
            "_dom_classes": [],
            "description": "Downloading: 100%",
            "_model_name": "FloatProgressModel",
            "bar_style": "success",
            "max": 625,
            "_view_module": "@jupyter-widgets/controls",
            "_model_module_version": "1.5.0",
            "value": 625,
            "_view_count": null,
            "_view_module_version": "1.5.0",
            "orientation": "horizontal",
            "min": 0,
            "description_tooltip": null,
            "_model_module": "@jupyter-widgets/controls",
            "layout": "IPY_MODEL_be08ed7df9c947b39763abba33d7f966"
          }
        },
        "d75241f73dca43b1b97ec9bbed46bd84": {
          "model_module": "@jupyter-widgets/controls",
          "model_name": "HTMLModel",
          "state": {
            "_view_name": "HTMLView",
            "style": "IPY_MODEL_dc874edca6e448f8998dafd641f0bd44",
            "_dom_classes": [],
            "description": "",
            "_model_name": "HTMLModel",
            "placeholder": "​",
            "_view_module": "@jupyter-widgets/controls",
            "_model_module_version": "1.5.0",
            "value": " 625/625 [00:00&lt;00:00, 1.07kB/s]",
            "_view_count": null,
            "_view_module_version": "1.5.0",
            "description_tooltip": null,
            "_model_module": "@jupyter-widgets/controls",
            "layout": "IPY_MODEL_fbf8e287733045928b46443d1d558e40"
          }
        },
        "53937de76a2e47489535c36aad064c47": {
          "model_module": "@jupyter-widgets/controls",
          "model_name": "ProgressStyleModel",
          "state": {
            "_view_name": "StyleView",
            "_model_name": "ProgressStyleModel",
            "description_width": "initial",
            "_view_module": "@jupyter-widgets/base",
            "_model_module_version": "1.5.0",
            "_view_count": null,
            "_view_module_version": "1.2.0",
            "bar_color": null,
            "_model_module": "@jupyter-widgets/controls"
          }
        },
        "be08ed7df9c947b39763abba33d7f966": {
          "model_module": "@jupyter-widgets/base",
          "model_name": "LayoutModel",
          "state": {
            "_view_name": "LayoutView",
            "grid_template_rows": null,
            "right": null,
            "justify_content": null,
            "_view_module": "@jupyter-widgets/base",
            "overflow": null,
            "_model_module_version": "1.2.0",
            "_view_count": null,
            "flex_flow": null,
            "width": null,
            "min_width": null,
            "border": null,
            "align_items": null,
            "bottom": null,
            "_model_module": "@jupyter-widgets/base",
            "top": null,
            "grid_column": null,
            "overflow_y": null,
            "overflow_x": null,
            "grid_auto_flow": null,
            "grid_area": null,
            "grid_template_columns": null,
            "flex": null,
            "_model_name": "LayoutModel",
            "justify_items": null,
            "grid_row": null,
            "max_height": null,
            "align_content": null,
            "visibility": null,
            "align_self": null,
            "height": null,
            "min_height": null,
            "padding": null,
            "grid_auto_rows": null,
            "grid_gap": null,
            "max_width": null,
            "order": null,
            "_view_module_version": "1.2.0",
            "grid_template_areas": null,
            "object_position": null,
            "object_fit": null,
            "grid_auto_columns": null,
            "margin": null,
            "display": null,
            "left": null
          }
        },
        "dc874edca6e448f8998dafd641f0bd44": {
          "model_module": "@jupyter-widgets/controls",
          "model_name": "DescriptionStyleModel",
          "state": {
            "_view_name": "StyleView",
            "_model_name": "DescriptionStyleModel",
            "description_width": "",
            "_view_module": "@jupyter-widgets/base",
            "_model_module_version": "1.5.0",
            "_view_count": null,
            "_view_module_version": "1.2.0",
            "_model_module": "@jupyter-widgets/controls"
          }
        },
        "fbf8e287733045928b46443d1d558e40": {
          "model_module": "@jupyter-widgets/base",
          "model_name": "LayoutModel",
          "state": {
            "_view_name": "LayoutView",
            "grid_template_rows": null,
            "right": null,
            "justify_content": null,
            "_view_module": "@jupyter-widgets/base",
            "overflow": null,
            "_model_module_version": "1.2.0",
            "_view_count": null,
            "flex_flow": null,
            "width": null,
            "min_width": null,
            "border": null,
            "align_items": null,
            "bottom": null,
            "_model_module": "@jupyter-widgets/base",
            "top": null,
            "grid_column": null,
            "overflow_y": null,
            "overflow_x": null,
            "grid_auto_flow": null,
            "grid_area": null,
            "grid_template_columns": null,
            "flex": null,
            "_model_name": "LayoutModel",
            "justify_items": null,
            "grid_row": null,
            "max_height": null,
            "align_content": null,
            "visibility": null,
            "align_self": null,
            "height": null,
            "min_height": null,
            "padding": null,
            "grid_auto_rows": null,
            "grid_gap": null,
            "max_width": null,
            "order": null,
            "_view_module_version": "1.2.0",
            "grid_template_areas": null,
            "object_position": null,
            "object_fit": null,
            "grid_auto_columns": null,
            "margin": null,
            "display": null,
            "left": null
          }
        },
        "477f2a481cbf4aa4a468233528e2494c": {
          "model_module": "@jupyter-widgets/controls",
          "model_name": "HBoxModel",
          "state": {
            "_view_name": "HBoxView",
            "_dom_classes": [],
            "_model_name": "HBoxModel",
            "_view_module": "@jupyter-widgets/controls",
            "_model_module_version": "1.5.0",
            "_view_count": null,
            "_view_module_version": "1.5.0",
            "box_style": "",
            "layout": "IPY_MODEL_3f06d80388474e67aef04a8099422f73",
            "_model_module": "@jupyter-widgets/controls",
            "children": [
              "IPY_MODEL_8948b4b5ad4c457d8d9685293cf6d806",
              "IPY_MODEL_cee3fd95017b46cd8ab60e1cd5a51b86"
            ]
          }
        },
        "3f06d80388474e67aef04a8099422f73": {
          "model_module": "@jupyter-widgets/base",
          "model_name": "LayoutModel",
          "state": {
            "_view_name": "LayoutView",
            "grid_template_rows": null,
            "right": null,
            "justify_content": null,
            "_view_module": "@jupyter-widgets/base",
            "overflow": null,
            "_model_module_version": "1.2.0",
            "_view_count": null,
            "flex_flow": null,
            "width": null,
            "min_width": null,
            "border": null,
            "align_items": null,
            "bottom": null,
            "_model_module": "@jupyter-widgets/base",
            "top": null,
            "grid_column": null,
            "overflow_y": null,
            "overflow_x": null,
            "grid_auto_flow": null,
            "grid_area": null,
            "grid_template_columns": null,
            "flex": null,
            "_model_name": "LayoutModel",
            "justify_items": null,
            "grid_row": null,
            "max_height": null,
            "align_content": null,
            "visibility": null,
            "align_self": null,
            "height": null,
            "min_height": null,
            "padding": null,
            "grid_auto_rows": null,
            "grid_gap": null,
            "max_width": null,
            "order": null,
            "_view_module_version": "1.2.0",
            "grid_template_areas": null,
            "object_position": null,
            "object_fit": null,
            "grid_auto_columns": null,
            "margin": null,
            "display": null,
            "left": null
          }
        },
        "8948b4b5ad4c457d8d9685293cf6d806": {
          "model_module": "@jupyter-widgets/controls",
          "model_name": "FloatProgressModel",
          "state": {
            "_view_name": "ProgressView",
            "style": "IPY_MODEL_98d498c4d4bb4587aa270e6beeeb0bfa",
            "_dom_classes": [],
            "description": "Downloading: 100%",
            "_model_name": "FloatProgressModel",
            "bar_style": "success",
            "max": 995526,
            "_view_module": "@jupyter-widgets/controls",
            "_model_module_version": "1.5.0",
            "value": 995526,
            "_view_count": null,
            "_view_module_version": "1.5.0",
            "orientation": "horizontal",
            "min": 0,
            "description_tooltip": null,
            "_model_module": "@jupyter-widgets/controls",
            "layout": "IPY_MODEL_1be8858170014996a5b8b76be5a8bb35"
          }
        },
        "cee3fd95017b46cd8ab60e1cd5a51b86": {
          "model_module": "@jupyter-widgets/controls",
          "model_name": "HTMLModel",
          "state": {
            "_view_name": "HTMLView",
            "style": "IPY_MODEL_5412e82da7bb40a18f709efef53501db",
            "_dom_classes": [],
            "description": "",
            "_model_name": "HTMLModel",
            "placeholder": "​",
            "_view_module": "@jupyter-widgets/controls",
            "_model_module_version": "1.5.0",
            "value": " 996k/996k [00:23&lt;00:00, 41.7kB/s]",
            "_view_count": null,
            "_view_module_version": "1.5.0",
            "description_tooltip": null,
            "_model_module": "@jupyter-widgets/controls",
            "layout": "IPY_MODEL_8882d86cca874b1fa43e34a2f7e0a314"
          }
        },
        "98d498c4d4bb4587aa270e6beeeb0bfa": {
          "model_module": "@jupyter-widgets/controls",
          "model_name": "ProgressStyleModel",
          "state": {
            "_view_name": "StyleView",
            "_model_name": "ProgressStyleModel",
            "description_width": "initial",
            "_view_module": "@jupyter-widgets/base",
            "_model_module_version": "1.5.0",
            "_view_count": null,
            "_view_module_version": "1.2.0",
            "bar_color": null,
            "_model_module": "@jupyter-widgets/controls"
          }
        },
        "1be8858170014996a5b8b76be5a8bb35": {
          "model_module": "@jupyter-widgets/base",
          "model_name": "LayoutModel",
          "state": {
            "_view_name": "LayoutView",
            "grid_template_rows": null,
            "right": null,
            "justify_content": null,
            "_view_module": "@jupyter-widgets/base",
            "overflow": null,
            "_model_module_version": "1.2.0",
            "_view_count": null,
            "flex_flow": null,
            "width": null,
            "min_width": null,
            "border": null,
            "align_items": null,
            "bottom": null,
            "_model_module": "@jupyter-widgets/base",
            "top": null,
            "grid_column": null,
            "overflow_y": null,
            "overflow_x": null,
            "grid_auto_flow": null,
            "grid_area": null,
            "grid_template_columns": null,
            "flex": null,
            "_model_name": "LayoutModel",
            "justify_items": null,
            "grid_row": null,
            "max_height": null,
            "align_content": null,
            "visibility": null,
            "align_self": null,
            "height": null,
            "min_height": null,
            "padding": null,
            "grid_auto_rows": null,
            "grid_gap": null,
            "max_width": null,
            "order": null,
            "_view_module_version": "1.2.0",
            "grid_template_areas": null,
            "object_position": null,
            "object_fit": null,
            "grid_auto_columns": null,
            "margin": null,
            "display": null,
            "left": null
          }
        },
        "5412e82da7bb40a18f709efef53501db": {
          "model_module": "@jupyter-widgets/controls",
          "model_name": "DescriptionStyleModel",
          "state": {
            "_view_name": "StyleView",
            "_model_name": "DescriptionStyleModel",
            "description_width": "",
            "_view_module": "@jupyter-widgets/base",
            "_model_module_version": "1.5.0",
            "_view_count": null,
            "_view_module_version": "1.2.0",
            "_model_module": "@jupyter-widgets/controls"
          }
        },
        "8882d86cca874b1fa43e34a2f7e0a314": {
          "model_module": "@jupyter-widgets/base",
          "model_name": "LayoutModel",
          "state": {
            "_view_name": "LayoutView",
            "grid_template_rows": null,
            "right": null,
            "justify_content": null,
            "_view_module": "@jupyter-widgets/base",
            "overflow": null,
            "_model_module_version": "1.2.0",
            "_view_count": null,
            "flex_flow": null,
            "width": null,
            "min_width": null,
            "border": null,
            "align_items": null,
            "bottom": null,
            "_model_module": "@jupyter-widgets/base",
            "top": null,
            "grid_column": null,
            "overflow_y": null,
            "overflow_x": null,
            "grid_auto_flow": null,
            "grid_area": null,
            "grid_template_columns": null,
            "flex": null,
            "_model_name": "LayoutModel",
            "justify_items": null,
            "grid_row": null,
            "max_height": null,
            "align_content": null,
            "visibility": null,
            "align_self": null,
            "height": null,
            "min_height": null,
            "padding": null,
            "grid_auto_rows": null,
            "grid_gap": null,
            "max_width": null,
            "order": null,
            "_view_module_version": "1.2.0",
            "grid_template_areas": null,
            "object_position": null,
            "object_fit": null,
            "grid_auto_columns": null,
            "margin": null,
            "display": null,
            "left": null
          }
        },
        "0f5b592e460c4459b33d45b2a2d03306": {
          "model_module": "@jupyter-widgets/controls",
          "model_name": "HBoxModel",
          "state": {
            "_view_name": "HBoxView",
            "_dom_classes": [],
            "_model_name": "HBoxModel",
            "_view_module": "@jupyter-widgets/controls",
            "_model_module_version": "1.5.0",
            "_view_count": null,
            "_view_module_version": "1.5.0",
            "box_style": "",
            "layout": "IPY_MODEL_4ee8369308674d7e9ea24c8661e02a95",
            "_model_module": "@jupyter-widgets/controls",
            "children": [
              "IPY_MODEL_e361b2e5c066484aaa650d04f45b8463",
              "IPY_MODEL_5899bbc9557c4448be2f1cec54508b6c"
            ]
          }
        },
        "4ee8369308674d7e9ea24c8661e02a95": {
          "model_module": "@jupyter-widgets/base",
          "model_name": "LayoutModel",
          "state": {
            "_view_name": "LayoutView",
            "grid_template_rows": null,
            "right": null,
            "justify_content": null,
            "_view_module": "@jupyter-widgets/base",
            "overflow": null,
            "_model_module_version": "1.2.0",
            "_view_count": null,
            "flex_flow": null,
            "width": null,
            "min_width": null,
            "border": null,
            "align_items": null,
            "bottom": null,
            "_model_module": "@jupyter-widgets/base",
            "top": null,
            "grid_column": null,
            "overflow_y": null,
            "overflow_x": null,
            "grid_auto_flow": null,
            "grid_area": null,
            "grid_template_columns": null,
            "flex": null,
            "_model_name": "LayoutModel",
            "justify_items": null,
            "grid_row": null,
            "max_height": null,
            "align_content": null,
            "visibility": null,
            "align_self": null,
            "height": null,
            "min_height": null,
            "padding": null,
            "grid_auto_rows": null,
            "grid_gap": null,
            "max_width": null,
            "order": null,
            "_view_module_version": "1.2.0",
            "grid_template_areas": null,
            "object_position": null,
            "object_fit": null,
            "grid_auto_columns": null,
            "margin": null,
            "display": null,
            "left": null
          }
        },
        "e361b2e5c066484aaa650d04f45b8463": {
          "model_module": "@jupyter-widgets/controls",
          "model_name": "FloatProgressModel",
          "state": {
            "_view_name": "ProgressView",
            "style": "IPY_MODEL_69a743c560fb4b1d9bce7d7adc1c7bf3",
            "_dom_classes": [],
            "description": "Downloading: 100%",
            "_model_name": "FloatProgressModel",
            "bar_style": "success",
            "max": 1961828,
            "_view_module": "@jupyter-widgets/controls",
            "_model_module_version": "1.5.0",
            "value": 1961828,
            "_view_count": null,
            "_view_module_version": "1.5.0",
            "orientation": "horizontal",
            "min": 0,
            "description_tooltip": null,
            "_model_module": "@jupyter-widgets/controls",
            "layout": "IPY_MODEL_be576d35560740999166eeebdfad640e"
          }
        },
        "5899bbc9557c4448be2f1cec54508b6c": {
          "model_module": "@jupyter-widgets/controls",
          "model_name": "HTMLModel",
          "state": {
            "_view_name": "HTMLView",
            "style": "IPY_MODEL_72138d8839c547e4b1d8087bd74f3963",
            "_dom_classes": [],
            "description": "",
            "_model_name": "HTMLModel",
            "placeholder": "​",
            "_view_module": "@jupyter-widgets/controls",
            "_model_module_version": "1.5.0",
            "value": " 1.96M/1.96M [00:12&lt;00:00, 154kB/s]",
            "_view_count": null,
            "_view_module_version": "1.5.0",
            "description_tooltip": null,
            "_model_module": "@jupyter-widgets/controls",
            "layout": "IPY_MODEL_15ea8fb0f21c41e9b89816bb9febf6a3"
          }
        },
        "69a743c560fb4b1d9bce7d7adc1c7bf3": {
          "model_module": "@jupyter-widgets/controls",
          "model_name": "ProgressStyleModel",
          "state": {
            "_view_name": "StyleView",
            "_model_name": "ProgressStyleModel",
            "description_width": "initial",
            "_view_module": "@jupyter-widgets/base",
            "_model_module_version": "1.5.0",
            "_view_count": null,
            "_view_module_version": "1.2.0",
            "bar_color": null,
            "_model_module": "@jupyter-widgets/controls"
          }
        },
        "be576d35560740999166eeebdfad640e": {
          "model_module": "@jupyter-widgets/base",
          "model_name": "LayoutModel",
          "state": {
            "_view_name": "LayoutView",
            "grid_template_rows": null,
            "right": null,
            "justify_content": null,
            "_view_module": "@jupyter-widgets/base",
            "overflow": null,
            "_model_module_version": "1.2.0",
            "_view_count": null,
            "flex_flow": null,
            "width": null,
            "min_width": null,
            "border": null,
            "align_items": null,
            "bottom": null,
            "_model_module": "@jupyter-widgets/base",
            "top": null,
            "grid_column": null,
            "overflow_y": null,
            "overflow_x": null,
            "grid_auto_flow": null,
            "grid_area": null,
            "grid_template_columns": null,
            "flex": null,
            "_model_name": "LayoutModel",
            "justify_items": null,
            "grid_row": null,
            "max_height": null,
            "align_content": null,
            "visibility": null,
            "align_self": null,
            "height": null,
            "min_height": null,
            "padding": null,
            "grid_auto_rows": null,
            "grid_gap": null,
            "max_width": null,
            "order": null,
            "_view_module_version": "1.2.0",
            "grid_template_areas": null,
            "object_position": null,
            "object_fit": null,
            "grid_auto_columns": null,
            "margin": null,
            "display": null,
            "left": null
          }
        },
        "72138d8839c547e4b1d8087bd74f3963": {
          "model_module": "@jupyter-widgets/controls",
          "model_name": "DescriptionStyleModel",
          "state": {
            "_view_name": "StyleView",
            "_model_name": "DescriptionStyleModel",
            "description_width": "",
            "_view_module": "@jupyter-widgets/base",
            "_model_module_version": "1.5.0",
            "_view_count": null,
            "_view_module_version": "1.2.0",
            "_model_module": "@jupyter-widgets/controls"
          }
        },
        "15ea8fb0f21c41e9b89816bb9febf6a3": {
          "model_module": "@jupyter-widgets/base",
          "model_name": "LayoutModel",
          "state": {
            "_view_name": "LayoutView",
            "grid_template_rows": null,
            "right": null,
            "justify_content": null,
            "_view_module": "@jupyter-widgets/base",
            "overflow": null,
            "_model_module_version": "1.2.0",
            "_view_count": null,
            "flex_flow": null,
            "width": null,
            "min_width": null,
            "border": null,
            "align_items": null,
            "bottom": null,
            "_model_module": "@jupyter-widgets/base",
            "top": null,
            "grid_column": null,
            "overflow_y": null,
            "overflow_x": null,
            "grid_auto_flow": null,
            "grid_area": null,
            "grid_template_columns": null,
            "flex": null,
            "_model_name": "LayoutModel",
            "justify_items": null,
            "grid_row": null,
            "max_height": null,
            "align_content": null,
            "visibility": null,
            "align_self": null,
            "height": null,
            "min_height": null,
            "padding": null,
            "grid_auto_rows": null,
            "grid_gap": null,
            "max_width": null,
            "order": null,
            "_view_module_version": "1.2.0",
            "grid_template_areas": null,
            "object_position": null,
            "object_fit": null,
            "grid_auto_columns": null,
            "margin": null,
            "display": null,
            "left": null
          }
        },
        "132e4eb6d7934b82b741c2bdefab6b4c": {
          "model_module": "@jupyter-widgets/controls",
          "model_name": "HBoxModel",
          "state": {
            "_view_name": "HBoxView",
            "_dom_classes": [],
            "_model_name": "HBoxModel",
            "_view_module": "@jupyter-widgets/controls",
            "_model_module_version": "1.5.0",
            "_view_count": null,
            "_view_module_version": "1.5.0",
            "box_style": "",
            "layout": "IPY_MODEL_bae5607db85143dbbc6d02dc0a4f9f83",
            "_model_module": "@jupyter-widgets/controls",
            "children": [
              "IPY_MODEL_762511ba6b8f4a23a8a85d7db2c9c767",
              "IPY_MODEL_48be4008d0634a44ad2dc0c0772d1a2c"
            ]
          }
        },
        "bae5607db85143dbbc6d02dc0a4f9f83": {
          "model_module": "@jupyter-widgets/base",
          "model_name": "LayoutModel",
          "state": {
            "_view_name": "LayoutView",
            "grid_template_rows": null,
            "right": null,
            "justify_content": null,
            "_view_module": "@jupyter-widgets/base",
            "overflow": null,
            "_model_module_version": "1.2.0",
            "_view_count": null,
            "flex_flow": null,
            "width": null,
            "min_width": null,
            "border": null,
            "align_items": null,
            "bottom": null,
            "_model_module": "@jupyter-widgets/base",
            "top": null,
            "grid_column": null,
            "overflow_y": null,
            "overflow_x": null,
            "grid_auto_flow": null,
            "grid_area": null,
            "grid_template_columns": null,
            "flex": null,
            "_model_name": "LayoutModel",
            "justify_items": null,
            "grid_row": null,
            "max_height": null,
            "align_content": null,
            "visibility": null,
            "align_self": null,
            "height": null,
            "min_height": null,
            "padding": null,
            "grid_auto_rows": null,
            "grid_gap": null,
            "max_width": null,
            "order": null,
            "_view_module_version": "1.2.0",
            "grid_template_areas": null,
            "object_position": null,
            "object_fit": null,
            "grid_auto_columns": null,
            "margin": null,
            "display": null,
            "left": null
          }
        },
        "762511ba6b8f4a23a8a85d7db2c9c767": {
          "model_module": "@jupyter-widgets/controls",
          "model_name": "FloatProgressModel",
          "state": {
            "_view_name": "ProgressView",
            "style": "IPY_MODEL_26bf65634e474ec8bc9d29abea885a18",
            "_dom_classes": [],
            "description": "Downloading: 100%",
            "_model_name": "FloatProgressModel",
            "bar_style": "success",
            "max": 1083389348,
            "_view_module": "@jupyter-widgets/controls",
            "_model_module_version": "1.5.0",
            "value": 1083389348,
            "_view_count": null,
            "_view_module_version": "1.5.0",
            "orientation": "horizontal",
            "min": 0,
            "description_tooltip": null,
            "_model_module": "@jupyter-widgets/controls",
            "layout": "IPY_MODEL_b9c6f06b565f46a79936522d33d5347a"
          }
        },
        "48be4008d0634a44ad2dc0c0772d1a2c": {
          "model_module": "@jupyter-widgets/controls",
          "model_name": "HTMLModel",
          "state": {
            "_view_name": "HTMLView",
            "style": "IPY_MODEL_872f9bf0919a4e28a88d37dafd844166",
            "_dom_classes": [],
            "description": "",
            "_model_name": "HTMLModel",
            "placeholder": "​",
            "_view_module": "@jupyter-widgets/controls",
            "_model_module_version": "1.5.0",
            "value": " 1.08G/1.08G [00:11&lt;00:00, 95.2MB/s]",
            "_view_count": null,
            "_view_module_version": "1.5.0",
            "description_tooltip": null,
            "_model_module": "@jupyter-widgets/controls",
            "layout": "IPY_MODEL_9325de3e1e1a4eeb9a84f4630992ee1b"
          }
        },
        "26bf65634e474ec8bc9d29abea885a18": {
          "model_module": "@jupyter-widgets/controls",
          "model_name": "ProgressStyleModel",
          "state": {
            "_view_name": "StyleView",
            "_model_name": "ProgressStyleModel",
            "description_width": "initial",
            "_view_module": "@jupyter-widgets/base",
            "_model_module_version": "1.5.0",
            "_view_count": null,
            "_view_module_version": "1.2.0",
            "bar_color": null,
            "_model_module": "@jupyter-widgets/controls"
          }
        },
        "b9c6f06b565f46a79936522d33d5347a": {
          "model_module": "@jupyter-widgets/base",
          "model_name": "LayoutModel",
          "state": {
            "_view_name": "LayoutView",
            "grid_template_rows": null,
            "right": null,
            "justify_content": null,
            "_view_module": "@jupyter-widgets/base",
            "overflow": null,
            "_model_module_version": "1.2.0",
            "_view_count": null,
            "flex_flow": null,
            "width": null,
            "min_width": null,
            "border": null,
            "align_items": null,
            "bottom": null,
            "_model_module": "@jupyter-widgets/base",
            "top": null,
            "grid_column": null,
            "overflow_y": null,
            "overflow_x": null,
            "grid_auto_flow": null,
            "grid_area": null,
            "grid_template_columns": null,
            "flex": null,
            "_model_name": "LayoutModel",
            "justify_items": null,
            "grid_row": null,
            "max_height": null,
            "align_content": null,
            "visibility": null,
            "align_self": null,
            "height": null,
            "min_height": null,
            "padding": null,
            "grid_auto_rows": null,
            "grid_gap": null,
            "max_width": null,
            "order": null,
            "_view_module_version": "1.2.0",
            "grid_template_areas": null,
            "object_position": null,
            "object_fit": null,
            "grid_auto_columns": null,
            "margin": null,
            "display": null,
            "left": null
          }
        },
        "872f9bf0919a4e28a88d37dafd844166": {
          "model_module": "@jupyter-widgets/controls",
          "model_name": "DescriptionStyleModel",
          "state": {
            "_view_name": "StyleView",
            "_model_name": "DescriptionStyleModel",
            "description_width": "",
            "_view_module": "@jupyter-widgets/base",
            "_model_module_version": "1.5.0",
            "_view_count": null,
            "_view_module_version": "1.2.0",
            "_model_module": "@jupyter-widgets/controls"
          }
        },
        "9325de3e1e1a4eeb9a84f4630992ee1b": {
          "model_module": "@jupyter-widgets/base",
          "model_name": "LayoutModel",
          "state": {
            "_view_name": "LayoutView",
            "grid_template_rows": null,
            "right": null,
            "justify_content": null,
            "_view_module": "@jupyter-widgets/base",
            "overflow": null,
            "_model_module_version": "1.2.0",
            "_view_count": null,
            "flex_flow": null,
            "width": null,
            "min_width": null,
            "border": null,
            "align_items": null,
            "bottom": null,
            "_model_module": "@jupyter-widgets/base",
            "top": null,
            "grid_column": null,
            "overflow_y": null,
            "overflow_x": null,
            "grid_auto_flow": null,
            "grid_area": null,
            "grid_template_columns": null,
            "flex": null,
            "_model_name": "LayoutModel",
            "justify_items": null,
            "grid_row": null,
            "max_height": null,
            "align_content": null,
            "visibility": null,
            "align_self": null,
            "height": null,
            "min_height": null,
            "padding": null,
            "grid_auto_rows": null,
            "grid_gap": null,
            "max_width": null,
            "order": null,
            "_view_module_version": "1.2.0",
            "grid_template_areas": null,
            "object_position": null,
            "object_fit": null,
            "grid_auto_columns": null,
            "margin": null,
            "display": null,
            "left": null
          }
        }
      }
    }
  },
  "cells": [
    {
      "cell_type": "markdown",
      "metadata": {
        "id": "view-in-github",
        "colab_type": "text"
      },
      "source": [
        "<a href=\"https://colab.research.google.com/github/Chaarangan/text-classification/blob/main/Text_Classification_Kannada.ipynb\" target=\"_parent\"><img src=\"https://colab.research.google.com/assets/colab-badge.svg\" alt=\"Open In Colab\"/></a>"
      ]
    },
    {
      "cell_type": "code",
      "metadata": {
        "id": "Z_tGoy3vQDIj"
      },
      "source": [
        "# And pandas for data import\n",
        "import pandas as pd"
      ],
      "execution_count": null,
      "outputs": []
    },
    {
      "cell_type": "code",
      "metadata": {
        "colab": {
          "base_uri": "https://localhost:8080/"
        },
        "id": "nGmDyhiFQnmS",
        "outputId": "966bf21c-e662-4ce5-9a00-83879ceb6cb4"
      },
      "source": [
        "# Import Files\n",
        "import os\n",
        "\n",
        "# Import data from csv\n",
        "data = pd.read_csv(\"/tmp/kannada_offensive_train.csv\")\n",
        "data_dev = pd.read_csv(\"/tmp/kannada_offensive_dev.csv\")\n",
        "\n",
        "# Select required columns\n",
        "data = data[['text', 'label']]\n",
        "data_dev = data_dev[['text', 'label']]\n",
        "\n",
        "# Remove a row if any of the two remaining columns are missing\n",
        "data = data.dropna();\n",
        "data_dev = data_dev.dropna()\n",
        "\n",
        "print(data)\n",
        "print(data_dev)"
      ],
      "execution_count": null,
      "outputs": [
        {
          "output_type": "stream",
          "text": [
            "                                                   text                                 label\n",
            "0     Tik tok alli jagala madtidralla adra baggenu o...                         Not_offensive\n",
            "1                               Anyone from kerala here                           not-Kannada\n",
            "2                             Movie rerelease madi plss                         Not_offensive\n",
            "3     Amazon prime alli bittidira....yella manele no...                         Not_offensive\n",
            "4     Guru sure news nanu tik tok dawn lod madeda ya...                         Not_offensive\n",
            "...                                                 ...                                   ...\n",
            "6212                @Gajendra hv neen en maadirodu mele  Offensive_Targeted_Insult_Individual\n",
            "6213                       Sir neev adthidda game yavdu                         Not_offensive\n",
            "6214                          Dubb Full movie in telugu                         Not_offensive\n",
            "6215  Mostly nimma mate keli tic tok ban agirbeku ಅಣ...                         Not_offensive\n",
            "6216  Sir Nimm Mathininda Navu Kalibeku Agirodu Ennu...                         Not_offensive\n",
            "\n",
            "[6217 rows x 2 columns]\n",
            "                                                  text                                 label\n",
            "0                                       100 days pakka                         Not_offensive\n",
            "1                                            Super sir                           not-Kannada\n",
            "2                                             Hands up                           not-Kannada\n",
            "3    Sari nivu video na roast madi adre madvaga pub...                         Not_offensive\n",
            "4                         Krishana  shapa tatteleebeku                         Not_offensive\n",
            "..                                                 ...                                   ...\n",
            "772  Nanu kuda direction course kalita iddene...nim...                         Not_offensive\n",
            "773                     Ninige bere kelsa ilvaa madoke  Offensive_Targeted_Insult_Individual\n",
            "774                           മലയാളീസ് ഹാൻഡ്‌സ് അപ്പ്‌                           not-Kannada\n",
            "775  ದರ್ಶನ್ ಅಭಿಮಾನಿಗಳ ಕಡೆಯಿಂದ ಆಲ್ ದ ಬೆಸ್ಟ್ ಆಲ್ ದ ಬೆ...                         Not_offensive\n",
            "776                                  ಕಥೆಯಲ್ಲಿ ದಮ್ ಇಲ್ಲ       Offensive_Targeted_Insult_Group\n",
            "\n",
            "[777 rows x 2 columns]\n"
          ],
          "name": "stdout"
        }
      ]
    },
    {
      "cell_type": "code",
      "metadata": {
        "id": "5jCgHcJSmILF"
      },
      "source": [
        "# copy + klearn because you allways need sklearn\n",
        "import copy\n",
        "from sklearn.model_selection import train_test_split"
      ],
      "execution_count": null,
      "outputs": []
    },
    {
      "cell_type": "code",
      "metadata": {
        "colab": {
          "base_uri": "https://localhost:8080/"
        },
        "id": "XcjLMKKbT3En",
        "outputId": "845325fc-6f91-40fe-e6f9-9ae064e6e6f6"
      },
      "source": [
        "# Remove rows, where the label is present only ones (can't be split)\n",
        "data = data.groupby('label').filter(lambda x : len(x) > 1)\n",
        "data_dev = data_dev.groupby('label').filter(lambda x : len(x) > 1)\n",
        "\n",
        "# Remove rows, where the label is present only in the array\n",
        "data = data[data.label.isin(['Not_offensive', 'Offensive_Targeted_Insult_Other', 'Offensive_Targeted_Insult_Individual', 'Offensive_Targeted_Insult_Group', 'not-Kannada', 'Offensive_Untargetede'])]\n",
        "data_dev = data_dev[data_dev.label.isin(['Not_offensive', 'Offensive_Targeted_Insult_Other', 'Offensive_Targeted_Insult_Individual', 'Offensive_Targeted_Insult_Group', 'not-Kannada', 'Offensive_Untargetede'])]\n",
        "\n",
        "# Set your model output as categorical and save in new label col\n",
        "data['label_label'] = pd.Categorical(data['label'])\n",
        "data_dev['label_label'] = pd.Categorical(data_dev['label'])\n",
        "\n",
        "# Transform your output to numeric\n",
        "data['label'] = data['label_label'].cat.codes\n",
        "data_dev['label'] = data_dev['label_label'].cat.codes\n",
        "\n",
        "print(data)\n",
        "print(data_dev)"
      ],
      "execution_count": null,
      "outputs": [
        {
          "output_type": "stream",
          "text": [
            "0                             Not_offensive\n",
            "1                               not-Kannada\n",
            "2                               not-Kannada\n",
            "3                             Not_offensive\n",
            "4                             Not_offensive\n",
            "                       ...                 \n",
            "772                           Not_offensive\n",
            "773    Offensive_Targeted_Insult_Individual\n",
            "774                             not-Kannada\n",
            "775                           Not_offensive\n",
            "776         Offensive_Targeted_Insult_Group\n",
            "Name: label_label, Length: 777, dtype: category\n",
            "Categories (6, object): ['Not_offensive', 'Offensive_Targeted_Insult_Group',\n",
            "                         'Offensive_Targeted_Insult_Individual', 'Offensive_Targeted_Insult_Other',\n",
            "                         'Offensive_Untargetede', 'not-Kannada']\n"
          ],
          "name": "stdout"
        }
      ]
    },
    {
      "cell_type": "code",
      "metadata": {
        "colab": {
          "base_uri": "https://localhost:8080/",
          "height": 296
        },
        "id": "4UZgGSxiQwEe",
        "outputId": "8a14a4f9-4cc8-45b2-cdff-4420035d2b4f"
      },
      "source": [
        "#Plot the bar chart of Train\n",
        "import seaborn as sns\n",
        "\n",
        "sns.countplot(x='label', data=data)"
      ],
      "execution_count": null,
      "outputs": [
        {
          "output_type": "execute_result",
          "data": {
            "text/plain": [
              "<matplotlib.axes._subplots.AxesSubplot at 0x7f4af4a8ea90>"
            ]
          },
          "metadata": {
            "tags": []
          },
          "execution_count": 6
        },
        {
          "output_type": "display_data",
          "data": {
            "image/png": "[encoded data removed]",
            "text/plain": [
              "<Figure size 432x288 with 1 Axes>"
            ]
          },
          "metadata": {
            "tags": [],
            "needs_background": "light"
          }
        }
      ]
    },
    {
      "cell_type": "code",
      "metadata": {
        "colab": {
          "base_uri": "https://localhost:8080/",
          "height": 296
        },
        "id": "HQ98iitSQyOs",
        "outputId": "6f2206d4-c2e5-46d8-b67c-f76f482220ba"
      },
      "source": [
        "#Plot the bar chart of Dev\n",
        "sns.countplot(x='label', data=data_dev)"
      ],
      "execution_count": null,
      "outputs": [
        {
          "output_type": "execute_result",
          "data": {
            "text/plain": [
              "<matplotlib.axes._subplots.AxesSubplot at 0x7f4af496cda0>"
            ]
          },
          "metadata": {
            "tags": []
          },
          "execution_count": 7
        },
        {
          "output_type": "display_data",
          "data": {
            "image/png": "[encoded data removed]",
            "text/plain": [
              "<Figure size 432x288 with 1 Axes>"
            ]
          },
          "metadata": {
            "tags": [],
            "needs_background": "light"
          }
        }
      ]
    },
    {
      "cell_type": "code",
      "metadata": {
        "id": "HjNECnjyfhN5",
        "colab": {
          "base_uri": "https://localhost:8080/"
        },
        "outputId": "ee0b5750-f154-472e-9574-fcbcd46a2c3e"
      },
      "source": [
        "# Load Huggingface transformers\n",
        "!pip install transformers\n",
        "from transformers import TFBertModel,  BertConfig, BertTokenizerFast\n",
        "from tensorflow.keras.models import Model"
      ],
      "execution_count": null,
      "outputs": [
        {
          "output_type": "stream",
          "text": [
            "Collecting transformers\n",
            "\u001b[?25l  Downloading https://files.pythonhosted.org/packages/50/0c/7d5950fcd80b029be0a8891727ba21e0cd27692c407c51261c3c921f6da3/transformers-4.1.1-py3-none-any.whl (1.5MB)\n",
            "\u001b[K     |████████████████████████████████| 1.5MB 12.2MB/s \n",
            "\u001b[?25hCollecting sacremoses\n",
            "\u001b[?25l  Downloading https://files.pythonhosted.org/packages/7d/34/09d19aff26edcc8eb2a01bed8e98f13a1537005d31e95233fd48216eed10/sacremoses-0.0.43.tar.gz (883kB)\n",
            "\u001b[K     |████████████████████████████████| 890kB 76.1MB/s \n",
            "\u001b[?25hRequirement already satisfied: dataclasses; python_version < \"3.7\" in /usr/local/lib/python3.6/dist-packages (from transformers) (0.8)\n",
            "Requirement already satisfied: regex!=2019.12.17 in /usr/local/lib/python3.6/dist-packages (from transformers) (2019.12.20)\n",
            "Requirement already satisfied: requests in /usr/local/lib/python3.6/dist-packages (from transformers) (2.23.0)\n",
            "Requirement already satisfied: filelock in /usr/local/lib/python3.6/dist-packages (from transformers) (3.0.12)\n",
            "Requirement already satisfied: numpy in /usr/local/lib/python3.6/dist-packages (from transformers) (1.19.4)\n",
            "Collecting tokenizers==0.9.4\n",
            "\u001b[?25l  Downloading https://files.pythonhosted.org/packages/0f/1c/e789a8b12e28be5bc1ce2156cf87cb522b379be9cadc7ad8091a4cc107c4/tokenizers-0.9.4-cp36-cp36m-manylinux2010_x86_64.whl (2.9MB)\n",
            "\u001b[K     |████████████████████████████████| 2.9MB 68.2MB/s \n",
            "\u001b[?25hRequirement already satisfied: packaging in /usr/local/lib/python3.6/dist-packages (from transformers) (20.8)\n",
            "Requirement already satisfied: tqdm>=4.27 in /usr/local/lib/python3.6/dist-packages (from transformers) (4.41.1)\n",
            "Requirement already satisfied: six in /usr/local/lib/python3.6/dist-packages (from sacremoses->transformers) (1.15.0)\n",
            "Requirement already satisfied: click in /usr/local/lib/python3.6/dist-packages (from sacremoses->transformers) (7.1.2)\n",
            "Requirement already satisfied: joblib in /usr/local/lib/python3.6/dist-packages (from sacremoses->transformers) (1.0.0)\n",
            "Requirement already satisfied: urllib3!=1.25.0,!=1.25.1,<1.26,>=1.21.1 in /usr/local/lib/python3.6/dist-packages (from requests->transformers) (1.24.3)\n",
            "Requirement already satisfied: chardet<4,>=3.0.2 in /usr/local/lib/python3.6/dist-packages (from requests->transformers) (3.0.4)\n",
            "Requirement already satisfied: certifi>=2017.4.17 in /usr/local/lib/python3.6/dist-packages (from requests->transformers) (2020.12.5)\n",
            "Requirement already satisfied: idna<3,>=2.5 in /usr/local/lib/python3.6/dist-packages (from requests->transformers) (2.10)\n",
            "Requirement already satisfied: pyparsing>=2.0.2 in /usr/local/lib/python3.6/dist-packages (from packaging->transformers) (2.4.7)\n",
            "Building wheels for collected packages: sacremoses\n",
            "  Building wheel for sacremoses (setup.py) ... \u001b[?25l\u001b[?25hdone\n",
            "  Created wheel for sacremoses: filename=sacremoses-0.0.43-cp36-none-any.whl size=893261 sha256=82e5cac546a3b64b76b2c354f61f8bc19d865ecbc220cf563659554714777f65\n",
            "  Stored in directory: /root/.cache/pip/wheels/29/3c/fd/7ce5c3f0666dab31a50123635e6fb5e19ceb42ce38d4e58f45\n",
            "Successfully built sacremoses\n",
            "Installing collected packages: sacremoses, tokenizers, transformers\n",
            "Successfully installed sacremoses-0.0.43 tokenizers-0.9.4 transformers-4.1.1\n"
          ],
          "name": "stdout"
        }
      ]
    },
    {
      "cell_type": "code",
      "metadata": {
        "colab": {
          "base_uri": "https://localhost:8080/",
          "height": 318,
          "referenced_widgets": [
            "9ba56d695f814ae3a3e003da8aa5a44a",
            "ad9cd8e9cc0449729d380a6d55b1aaab",
            "085b0c5c7a98495f856ae768d3283060",
            "d75241f73dca43b1b97ec9bbed46bd84",
            "53937de76a2e47489535c36aad064c47",
            "be08ed7df9c947b39763abba33d7f966",
            "dc874edca6e448f8998dafd641f0bd44",
            "fbf8e287733045928b46443d1d558e40",
            "477f2a481cbf4aa4a468233528e2494c",
            "3f06d80388474e67aef04a8099422f73",
            "8948b4b5ad4c457d8d9685293cf6d806",
            "cee3fd95017b46cd8ab60e1cd5a51b86",
            "98d498c4d4bb4587aa270e6beeeb0bfa",
            "1be8858170014996a5b8b76be5a8bb35",
            "5412e82da7bb40a18f709efef53501db",
            "8882d86cca874b1fa43e34a2f7e0a314",
            "0f5b592e460c4459b33d45b2a2d03306",
            "4ee8369308674d7e9ea24c8661e02a95",
            "e361b2e5c066484aaa650d04f45b8463",
            "5899bbc9557c4448be2f1cec54508b6c",
            "69a743c560fb4b1d9bce7d7adc1c7bf3",
            "be576d35560740999166eeebdfad640e",
            "72138d8839c547e4b1d8087bd74f3963",
            "15ea8fb0f21c41e9b89816bb9febf6a3",
            "132e4eb6d7934b82b741c2bdefab6b4c",
            "bae5607db85143dbbc6d02dc0a4f9f83",
            "762511ba6b8f4a23a8a85d7db2c9c767",
            "48be4008d0634a44ad2dc0c0772d1a2c",
            "26bf65634e474ec8bc9d29abea885a18",
            "b9c6f06b565f46a79936522d33d5347a",
            "872f9bf0919a4e28a88d37dafd844166",
            "9325de3e1e1a4eeb9a84f4630992ee1b"
          ]
        },
        "id": "mkvZJs5QQ-KG",
        "outputId": "ec34be1f-38e4-4da5-b16b-222c244e5654"
      },
      "source": [
        "#Setup BERT\n",
        "\n",
        "# Name of the BERT model to use\n",
        "model_name = 'bert-base-multilingual-cased'\n",
        "\n",
        "# Load transformers config and set output_hidden_states to False\n",
        "config = BertConfig.from_pretrained(model_name)\n",
        "config.output_hidden_states = False\n",
        "\n",
        "# Load BERT tokenizer\n",
        "tokenizer = BertTokenizerFast.from_pretrained(pretrained_model_name_or_path = model_name, config = config)\n",
        "\n",
        "# Load the Transformers BERT model\n",
        "transformer_model = TFBertModel.from_pretrained(model_name, config = config)"
      ],
      "execution_count": null,
      "outputs": [
        {
          "output_type": "display_data",
          "data": {
            "application/vnd.jupyter.widget-view+json": {
              "model_id": "9ba56d695f814ae3a3e003da8aa5a44a",
              "version_minor": 0,
              "version_major": 2
            },
            "text/plain": [
              "HBox(children=(FloatProgress(value=0.0, description='Downloading', max=625.0, style=ProgressStyle(description_…"
            ]
          },
          "metadata": {
            "tags": []
          }
        },
        {
          "output_type": "stream",
          "text": [
            "\n"
          ],
          "name": "stdout"
        },
        {
          "output_type": "display_data",
          "data": {
            "application/vnd.jupyter.widget-view+json": {
              "model_id": "477f2a481cbf4aa4a468233528e2494c",
              "version_minor": 0,
              "version_major": 2
            },
            "text/plain": [
              "HBox(children=(FloatProgress(value=0.0, description='Downloading', max=995526.0, style=ProgressStyle(descripti…"
            ]
          },
          "metadata": {
            "tags": []
          }
        },
        {
          "output_type": "stream",
          "text": [
            "\n"
          ],
          "name": "stdout"
        },
        {
          "output_type": "display_data",
          "data": {
            "application/vnd.jupyter.widget-view+json": {
              "model_id": "0f5b592e460c4459b33d45b2a2d03306",
              "version_minor": 0,
              "version_major": 2
            },
            "text/plain": [
              "HBox(children=(FloatProgress(value=0.0, description='Downloading', max=1961828.0, style=ProgressStyle(descript…"
            ]
          },
          "metadata": {
            "tags": []
          }
        },
        {
          "output_type": "stream",
          "text": [
            "\n"
          ],
          "name": "stdout"
        },
        {
          "output_type": "display_data",
          "data": {
            "application/vnd.jupyter.widget-view+json": {
              "model_id": "132e4eb6d7934b82b741c2bdefab6b4c",
              "version_minor": 0,
              "version_major": 2
            },
            "text/plain": [
              "HBox(children=(FloatProgress(value=0.0, description='Downloading', max=1083389348.0, style=ProgressStyle(descr…"
            ]
          },
          "metadata": {
            "tags": []
          }
        },
        {
          "output_type": "stream",
          "text": [
            "\n"
          ],
          "name": "stdout"
        },
        {
          "output_type": "stream",
          "text": [
            "Some layers from the model checkpoint at bert-base-multilingual-cased were not used when initializing TFBertModel: ['mlm___cls', 'nsp___cls']\n",
            "- This IS expected if you are initializing TFBertModel from the checkpoint of a model trained on another task or with another architecture (e.g. initializing a BertForSequenceClassification model from a BertForPreTraining model).\n",
            "- This IS NOT expected if you are initializing TFBertModel from the checkpoint of a model that you expect to be exactly identical (initializing a BertForSequenceClassification model from a BertForSequenceClassification model).\n",
            "All the layers of TFBertModel were initialized from the model checkpoint at bert-base-multilingual-cased.\n",
            "If your task is similar to the task the model of the checkpoint was trained on, you can already use TFBertModel for predictions without further training.\n"
          ],
          "name": "stderr"
        }
      ]
    },
    {
      "cell_type": "code",
      "metadata": {
        "id": "lOh-kukFhNfh"
      },
      "source": [
        "# Then what you need from tensorflow.keras\n",
        "from tensorflow.keras.layers import Input, Dropout, Dense\n",
        "from tensorflow.keras.initializers import TruncatedNormal"
      ],
      "execution_count": null,
      "outputs": []
    },
    {
      "cell_type": "code",
      "metadata": {
        "colab": {
          "base_uri": "https://localhost:8080/"
        },
        "id": "JklUuiM5Q_9D",
        "outputId": "47c101c2-e661-4e23-da2f-bf0bd9139937"
      },
      "source": [
        "#Build the model \n",
        "\n",
        "# Load the MainLayer\n",
        "bert = transformer_model.layers[0]\n",
        "\n",
        "# Max length of tokens\n",
        "max_length = 100\n",
        "\n",
        "# Build your model input\n",
        "input_ids = Input(shape=(max_length,), name='input_ids', dtype='int32')\n",
        "attention_mask = Input(shape=(max_length,), name='attention_mask', dtype='int32')\n",
        "inputs = {'input_ids': input_ids, 'attention_mask': attention_mask}\n",
        "\n",
        "# Load the Transformers BERT model as a layer in a Keras model\n",
        "bert_model = bert(inputs)[1]\n",
        "dropout = Dropout(config.hidden_dropout_prob, name='pooled_output')\n",
        "pooled_output = dropout(bert_model, training=False)\n",
        "\n",
        "# Then build your model output\n",
        "label = Dense(units=len(data.label_label.value_counts()), kernel_initializer=TruncatedNormal(stddev=config.initializer_range), name='class_type')(pooled_output)\n",
        "outputs = {'label': label}\n",
        "\n",
        "# And combine it all in a model object\n",
        "model = Model(inputs=inputs, outputs=outputs, name='bert-base-multilingual-cased')\n",
        "\n",
        "# Take a look at the model\n",
        "model.summary()"
      ],
      "execution_count": null,
      "outputs": [
        {
          "output_type": "stream",
          "text": [
            "Model: \"bert-base-multilingual-cased\"\n",
            "__________________________________________________________________________________________________\n",
            "Layer (type)                    Output Shape         Param #     Connected to                     \n",
            "==================================================================================================\n",
            "attention_mask (InputLayer)     [(None, 100)]        0                                            \n",
            "__________________________________________________________________________________________________\n",
            "input_ids (InputLayer)          [(None, 100)]        0                                            \n",
            "__________________________________________________________________________________________________\n",
            "bert (TFBertMainLayer)          TFBaseModelOutputWit 177853440   attention_mask[0][0]             \n",
            "                                                                 input_ids[0][0]                  \n",
            "__________________________________________________________________________________________________\n",
            "pooled_output (Dropout)         (None, 768)          0           bert[0][1]                       \n",
            "__________________________________________________________________________________________________\n",
            "class_type (Dense)              (None, 6)            4614        pooled_output[0][0]              \n",
            "==================================================================================================\n",
            "Total params: 177,858,054\n",
            "Trainable params: 177,858,054\n",
            "Non-trainable params: 0\n",
            "__________________________________________________________________________________________________\n"
          ],
          "name": "stdout"
        }
      ]
    },
    {
      "cell_type": "code",
      "metadata": {
        "id": "POHXwS79foUE"
      },
      "source": [
        "#Import Keras Libraries\n",
        "from tensorflow.keras.optimizers import Adam\n",
        "from tensorflow.keras.callbacks import EarlyStopping\n",
        "from tensorflow.keras.losses import CategoricalCrossentropy\n",
        "from tensorflow.keras.metrics import CategoricalAccuracy\n",
        "from tensorflow.keras.utils import to_categorical"
      ],
      "execution_count": null,
      "outputs": []
    },
    {
      "cell_type": "code",
      "metadata": {
        "colab": {
          "base_uri": "https://localhost:8080/"
        },
        "id": "BNfuPB_DRCWq",
        "outputId": "df436568-3117-43bc-a81d-f7d9109bd91f"
      },
      "source": [
        "#Train the model\n",
        "\n",
        "# Set an optimizer\n",
        "optimizer = Adam(\n",
        "    learning_rate=5e-05,\n",
        "    epsilon=1e-08,\n",
        "    decay=0.01,\n",
        "    clipnorm=1.0)\n",
        "\n",
        "# Set loss and metrics\n",
        "loss = {'label': CategoricalCrossentropy(from_logits = True)}\n",
        "metric = {'label': CategoricalAccuracy('accuracy')}\n",
        "\n",
        "# Compile the model\n",
        "model.compile(\n",
        "    optimizer = optimizer,\n",
        "    loss = loss, \n",
        "    metrics = metric)\n",
        "\n",
        "# Ready output data for the model\n",
        "y_label = to_categorical(data['label'])\n",
        "\n",
        "# Tokenize the input (takes some time)\n",
        "x = tokenizer(\n",
        "    text=data['text'].to_list(),\n",
        "    add_special_tokens=True,\n",
        "    max_length=max_length,\n",
        "    truncation=True,\n",
        "    padding=True, \n",
        "    return_tensors='tf',\n",
        "    return_token_type_ids = False,\n",
        "    return_attention_mask = True,\n",
        "    verbose = True)\n",
        "\n",
        "# Fit the model\n",
        "history = model.fit(\n",
        "    x={'input_ids': x['input_ids'], 'attention_mask': x['attention_mask']},\n",
        "    y={'label': y_label},\n",
        "    validation_split=0.2,\n",
        "    batch_size=64,\n",
        "    epochs=50)\n",
        "\n",
        "model.save(\"/tmp/text-classification-kannada.h5\")"
      ],
      "execution_count": null,
      "outputs": [
        {
          "output_type": "stream",
          "text": [
            "Epoch 1/50\n",
            "78/78 [==============================] - 79s 799ms/step - loss: 0.3985 - accuracy: 0.8719 - val_loss: 1.3410 - val_accuracy: 0.6905\n",
            "Epoch 2/50\n",
            "78/78 [==============================] - 60s 771ms/step - loss: 0.1494 - accuracy: 0.9459 - val_loss: 1.3833 - val_accuracy: 0.6809\n",
            "Epoch 3/50\n",
            "78/78 [==============================] - 60s 769ms/step - loss: 0.1304 - accuracy: 0.9525 - val_loss: 1.4373 - val_accuracy: 0.7018\n",
            "Epoch 4/50\n",
            "78/78 [==============================] - 60s 771ms/step - loss: 0.0865 - accuracy: 0.9702 - val_loss: 1.4439 - val_accuracy: 0.7251\n",
            "Epoch 5/50\n",
            "78/78 [==============================] - 60s 771ms/step - loss: 0.0629 - accuracy: 0.9764 - val_loss: 1.5412 - val_accuracy: 0.6897\n",
            "Epoch 6/50\n",
            "78/78 [==============================] - 60s 770ms/step - loss: 0.0478 - accuracy: 0.9816 - val_loss: 1.6064 - val_accuracy: 0.6865\n",
            "Epoch 7/50\n",
            "78/78 [==============================] - 60s 770ms/step - loss: 0.0465 - accuracy: 0.9833 - val_loss: 1.5069 - val_accuracy: 0.7114\n",
            "Epoch 8/50\n",
            "78/78 [==============================] - 60s 770ms/step - loss: 0.0451 - accuracy: 0.9841 - val_loss: 1.5753 - val_accuracy: 0.7090\n",
            "Epoch 9/50\n",
            "78/78 [==============================] - 60s 771ms/step - loss: 0.0412 - accuracy: 0.9834 - val_loss: 1.5655 - val_accuracy: 0.7122\n",
            "Epoch 10/50\n",
            "78/78 [==============================] - 60s 770ms/step - loss: 0.0347 - accuracy: 0.9852 - val_loss: 1.6258 - val_accuracy: 0.7018\n",
            "Epoch 11/50\n",
            "78/78 [==============================] - 60s 771ms/step - loss: 0.0415 - accuracy: 0.9853 - val_loss: 1.6243 - val_accuracy: 0.7034\n",
            "Epoch 12/50\n",
            "78/78 [==============================] - 60s 770ms/step - loss: 0.0376 - accuracy: 0.9853 - val_loss: 1.6584 - val_accuracy: 0.6929\n",
            "Epoch 13/50\n",
            "78/78 [==============================] - 60s 770ms/step - loss: 0.0344 - accuracy: 0.9853 - val_loss: 1.6471 - val_accuracy: 0.6986\n",
            "Epoch 14/50\n",
            "78/78 [==============================] - 60s 770ms/step - loss: 0.0329 - accuracy: 0.9850 - val_loss: 1.6741 - val_accuracy: 0.6994\n",
            "Epoch 15/50\n",
            "78/78 [==============================] - 60s 771ms/step - loss: 0.0302 - accuracy: 0.9885 - val_loss: 1.6668 - val_accuracy: 0.7074\n",
            "Epoch 16/50\n",
            "78/78 [==============================] - 60s 770ms/step - loss: 0.0332 - accuracy: 0.9858 - val_loss: 1.6590 - val_accuracy: 0.7162\n",
            "Epoch 17/50\n",
            "78/78 [==============================] - 60s 770ms/step - loss: 0.0311 - accuracy: 0.9831 - val_loss: 1.6877 - val_accuracy: 0.7122\n",
            "Epoch 18/50\n",
            "78/78 [==============================] - 60s 770ms/step - loss: 0.0291 - accuracy: 0.9896 - val_loss: 1.6921 - val_accuracy: 0.7106\n",
            "Epoch 19/50\n",
            "78/78 [==============================] - 60s 770ms/step - loss: 0.0301 - accuracy: 0.9843 - val_loss: 1.6851 - val_accuracy: 0.7178\n",
            "Epoch 20/50\n",
            "78/78 [==============================] - 60s 771ms/step - loss: 0.0262 - accuracy: 0.9874 - val_loss: 1.7751 - val_accuracy: 0.7002\n",
            "Epoch 21/50\n",
            "78/78 [==============================] - 60s 770ms/step - loss: 0.0278 - accuracy: 0.9885 - val_loss: 1.7167 - val_accuracy: 0.7154\n",
            "Epoch 22/50\n",
            "78/78 [==============================] - 60s 770ms/step - loss: 0.0277 - accuracy: 0.9861 - val_loss: 1.6974 - val_accuracy: 0.7195\n",
            "Epoch 23/50\n",
            "78/78 [==============================] - 60s 770ms/step - loss: 0.0261 - accuracy: 0.9883 - val_loss: 1.7277 - val_accuracy: 0.6994\n",
            "Epoch 24/50\n",
            "78/78 [==============================] - 60s 770ms/step - loss: 0.0288 - accuracy: 0.9873 - val_loss: 1.7136 - val_accuracy: 0.7138\n",
            "Epoch 25/50\n",
            "78/78 [==============================] - 60s 770ms/step - loss: 0.0284 - accuracy: 0.9875 - val_loss: 1.7466 - val_accuracy: 0.7050\n",
            "Epoch 26/50\n",
            "78/78 [==============================] - 60s 770ms/step - loss: 0.0231 - accuracy: 0.9910 - val_loss: 1.7830 - val_accuracy: 0.7034\n",
            "Epoch 27/50\n",
            "78/78 [==============================] - 60s 770ms/step - loss: 0.0249 - accuracy: 0.9899 - val_loss: 1.7688 - val_accuracy: 0.7074\n",
            "Epoch 28/50\n",
            "78/78 [==============================] - 60s 769ms/step - loss: 0.0226 - accuracy: 0.9885 - val_loss: 1.7653 - val_accuracy: 0.7074\n",
            "Epoch 29/50\n",
            "78/78 [==============================] - 60s 770ms/step - loss: 0.0235 - accuracy: 0.9906 - val_loss: 1.7304 - val_accuracy: 0.7090\n",
            "Epoch 30/50\n",
            "78/78 [==============================] - 60s 770ms/step - loss: 0.0243 - accuracy: 0.9894 - val_loss: 1.7679 - val_accuracy: 0.6986\n",
            "Epoch 31/50\n",
            "78/78 [==============================] - 60s 770ms/step - loss: 0.0236 - accuracy: 0.9874 - val_loss: 1.7642 - val_accuracy: 0.7042\n",
            "Epoch 32/50\n",
            "78/78 [==============================] - 60s 770ms/step - loss: 0.0279 - accuracy: 0.9873 - val_loss: 1.7562 - val_accuracy: 0.7026\n",
            "Epoch 33/50\n",
            "78/78 [==============================] - 60s 770ms/step - loss: 0.0229 - accuracy: 0.9913 - val_loss: 1.7518 - val_accuracy: 0.7186\n",
            "Epoch 34/50\n",
            "78/78 [==============================] - 60s 770ms/step - loss: 0.0242 - accuracy: 0.9880 - val_loss: 1.7766 - val_accuracy: 0.7146\n",
            "Epoch 35/50\n",
            "78/78 [==============================] - 60s 771ms/step - loss: 0.0280 - accuracy: 0.9854 - val_loss: 1.7896 - val_accuracy: 0.7154\n",
            "Epoch 36/50\n",
            "78/78 [==============================] - 60s 770ms/step - loss: 0.0236 - accuracy: 0.9899 - val_loss: 1.8134 - val_accuracy: 0.7106\n",
            "Epoch 37/50\n",
            "78/78 [==============================] - 60s 770ms/step - loss: 0.0228 - accuracy: 0.9898 - val_loss: 1.8038 - val_accuracy: 0.7146\n",
            "Epoch 38/50\n",
            "78/78 [==============================] - 60s 770ms/step - loss: 0.0258 - accuracy: 0.9884 - val_loss: 1.7875 - val_accuracy: 0.7211\n",
            "Epoch 39/50\n",
            "78/78 [==============================] - 60s 770ms/step - loss: 0.0244 - accuracy: 0.9870 - val_loss: 1.8662 - val_accuracy: 0.6961\n",
            "Epoch 40/50\n",
            "78/78 [==============================] - 60s 771ms/step - loss: 0.0224 - accuracy: 0.9891 - val_loss: 1.8380 - val_accuracy: 0.7082\n",
            "Epoch 41/50\n",
            "78/78 [==============================] - 60s 770ms/step - loss: 0.0262 - accuracy: 0.9893 - val_loss: 1.8152 - val_accuracy: 0.7146\n",
            "Epoch 42/50\n",
            "78/78 [==============================] - 60s 770ms/step - loss: 0.0239 - accuracy: 0.9892 - val_loss: 1.8112 - val_accuracy: 0.7186\n",
            "Epoch 43/50\n",
            "78/78 [==============================] - 60s 770ms/step - loss: 0.0246 - accuracy: 0.9891 - val_loss: 1.8241 - val_accuracy: 0.7162\n",
            "Epoch 44/50\n",
            "78/78 [==============================] - 60s 770ms/step - loss: 0.0252 - accuracy: 0.9882 - val_loss: 1.8704 - val_accuracy: 0.7122\n",
            "Epoch 45/50\n",
            "78/78 [==============================] - 60s 770ms/step - loss: 0.0310 - accuracy: 0.9881 - val_loss: 1.8079 - val_accuracy: 0.7235\n",
            "Epoch 46/50\n",
            "78/78 [==============================] - 60s 770ms/step - loss: 0.0218 - accuracy: 0.9902 - val_loss: 1.8362 - val_accuracy: 0.7106\n",
            "Epoch 47/50\n",
            "78/78 [==============================] - 60s 770ms/step - loss: 0.0225 - accuracy: 0.9906 - val_loss: 1.8283 - val_accuracy: 0.7146\n",
            "Epoch 48/50\n",
            "78/78 [==============================] - 60s 770ms/step - loss: 0.0218 - accuracy: 0.9909 - val_loss: 1.8568 - val_accuracy: 0.7138\n",
            "Epoch 49/50\n",
            "78/78 [==============================] - 60s 770ms/step - loss: 0.0244 - accuracy: 0.9870 - val_loss: 1.8499 - val_accuracy: 0.7122\n",
            "Epoch 50/50\n",
            "78/78 [==============================] - 60s 770ms/step - loss: 0.0261 - accuracy: 0.9865 - val_loss: 1.8390 - val_accuracy: 0.7122\n"
          ],
          "name": "stdout"
        }
      ]
    },
    {
      "cell_type": "code",
      "metadata": {
        "colab": {
          "base_uri": "https://localhost:8080/"
        },
        "id": "q73sXA6TKYM4",
        "outputId": "ca3648d2-72eb-4d20-a1d7-6545c96ccb5a"
      },
      "source": [
        "#Model 2\n",
        "# Ready output data for the model\n",
        "y_label = to_categorical(data_dev['label'])\n",
        "\n",
        "# Tokenize the input (takes some time)\n",
        "x = tokenizer(\n",
        "    text=data_dev['text'].to_list(),\n",
        "    add_special_tokens=True,\n",
        "    max_length=max_length,\n",
        "    truncation=True,\n",
        "    padding=True, \n",
        "    return_tensors='tf',\n",
        "    return_token_type_ids = False,\n",
        "    return_attention_mask = True,\n",
        "    verbose = True)\n",
        "\n",
        "# Fit the model\n",
        "history = model.fit(\n",
        "    x={'input_ids': x['input_ids'], 'attention_mask': x['attention_mask']},\n",
        "    y={'label': y_label},\n",
        "    validation_split=0.2,\n",
        "    batch_size=64,\n",
        "    epochs=50)"
      ],
      "execution_count": null,
      "outputs": [
        {
          "output_type": "stream",
          "text": [
            "Epoch 1/50\n",
            "10/10 [==============================] - 8s 762ms/step - loss: 1.8133 - accuracy: 0.6957 - val_loss: 1.6933 - val_accuracy: 0.7244\n",
            "Epoch 2/50\n",
            "10/10 [==============================] - 8s 758ms/step - loss: 1.6605 - accuracy: 0.7182 - val_loss: 1.5647 - val_accuracy: 0.7308\n",
            "Epoch 3/50\n",
            "10/10 [==============================] - 8s 758ms/step - loss: 1.4162 - accuracy: 0.7359 - val_loss: 1.3882 - val_accuracy: 0.7308\n",
            "Epoch 4/50\n",
            "10/10 [==============================] - 8s 759ms/step - loss: 1.1474 - accuracy: 0.7649 - val_loss: 1.2515 - val_accuracy: 0.7308\n",
            "Epoch 5/50\n",
            "10/10 [==============================] - 8s 758ms/step - loss: 1.0930 - accuracy: 0.7472 - val_loss: 1.1269 - val_accuracy: 0.7115\n",
            "Epoch 6/50\n",
            "10/10 [==============================] - 8s 757ms/step - loss: 0.9142 - accuracy: 0.7762 - val_loss: 1.0377 - val_accuracy: 0.7051\n",
            "Epoch 7/50\n",
            "10/10 [==============================] - 8s 758ms/step - loss: 0.8291 - accuracy: 0.7794 - val_loss: 0.9939 - val_accuracy: 0.6923\n",
            "Epoch 8/50\n",
            "10/10 [==============================] - 8s 758ms/step - loss: 0.7097 - accuracy: 0.7987 - val_loss: 0.9802 - val_accuracy: 0.6987\n",
            "Epoch 9/50\n",
            "10/10 [==============================] - 8s 757ms/step - loss: 0.6981 - accuracy: 0.8019 - val_loss: 0.9379 - val_accuracy: 0.7051\n",
            "Epoch 10/50\n",
            "10/10 [==============================] - 8s 758ms/step - loss: 0.6446 - accuracy: 0.8261 - val_loss: 0.9325 - val_accuracy: 0.7179\n",
            "Epoch 11/50\n",
            "10/10 [==============================] - 8s 758ms/step - loss: 0.5876 - accuracy: 0.8341 - val_loss: 0.9417 - val_accuracy: 0.7179\n",
            "Epoch 12/50\n",
            "10/10 [==============================] - 8s 759ms/step - loss: 0.5703 - accuracy: 0.8454 - val_loss: 0.9455 - val_accuracy: 0.7308\n",
            "Epoch 13/50\n",
            "10/10 [==============================] - 8s 794ms/step - loss: 0.5109 - accuracy: 0.8583 - val_loss: 0.9506 - val_accuracy: 0.7308\n",
            "Epoch 14/50\n",
            "10/10 [==============================] - 8s 757ms/step - loss: 0.5093 - accuracy: 0.8438 - val_loss: 0.9477 - val_accuracy: 0.7308\n",
            "Epoch 15/50\n",
            "10/10 [==============================] - 8s 758ms/step - loss: 0.4784 - accuracy: 0.8470 - val_loss: 0.9464 - val_accuracy: 0.7115\n",
            "Epoch 16/50\n",
            "10/10 [==============================] - 8s 757ms/step - loss: 0.4406 - accuracy: 0.8712 - val_loss: 0.9576 - val_accuracy: 0.7308\n",
            "Epoch 17/50\n",
            "10/10 [==============================] - 8s 759ms/step - loss: 0.3997 - accuracy: 0.8728 - val_loss: 0.9656 - val_accuracy: 0.7308\n",
            "Epoch 18/50\n",
            "10/10 [==============================] - 8s 758ms/step - loss: 0.3765 - accuracy: 0.8792 - val_loss: 0.9815 - val_accuracy: 0.7179\n",
            "Epoch 19/50\n",
            "10/10 [==============================] - 8s 758ms/step - loss: 0.3645 - accuracy: 0.8841 - val_loss: 1.0086 - val_accuracy: 0.7051\n",
            "Epoch 20/50\n",
            "10/10 [==============================] - 8s 757ms/step - loss: 0.3534 - accuracy: 0.8808 - val_loss: 1.0285 - val_accuracy: 0.7051\n",
            "Epoch 21/50\n",
            "10/10 [==============================] - 8s 758ms/step - loss: 0.3328 - accuracy: 0.8937 - val_loss: 1.0465 - val_accuracy: 0.6987\n",
            "Epoch 22/50\n",
            "10/10 [==============================] - 8s 758ms/step - loss: 0.2925 - accuracy: 0.9098 - val_loss: 1.0572 - val_accuracy: 0.6923\n",
            "Epoch 23/50\n",
            "10/10 [==============================] - 8s 758ms/step - loss: 0.2658 - accuracy: 0.9227 - val_loss: 1.0684 - val_accuracy: 0.7051\n",
            "Epoch 24/50\n",
            "10/10 [==============================] - 8s 757ms/step - loss: 0.2532 - accuracy: 0.9308 - val_loss: 1.0832 - val_accuracy: 0.7051\n",
            "Epoch 25/50\n",
            "10/10 [==============================] - 8s 758ms/step - loss: 0.2560 - accuracy: 0.9195 - val_loss: 1.0950 - val_accuracy: 0.7051\n",
            "Epoch 26/50\n",
            "10/10 [==============================] - 8s 759ms/step - loss: 0.2388 - accuracy: 0.9211 - val_loss: 1.1162 - val_accuracy: 0.6923\n",
            "Epoch 27/50\n",
            "10/10 [==============================] - 8s 758ms/step - loss: 0.2176 - accuracy: 0.9372 - val_loss: 1.1257 - val_accuracy: 0.6923\n",
            "Epoch 28/50\n",
            "10/10 [==============================] - 8s 756ms/step - loss: 0.2253 - accuracy: 0.9291 - val_loss: 1.1319 - val_accuracy: 0.7051\n",
            "Epoch 29/50\n",
            "10/10 [==============================] - 8s 758ms/step - loss: 0.2034 - accuracy: 0.9340 - val_loss: 1.1454 - val_accuracy: 0.7115\n",
            "Epoch 30/50\n",
            "10/10 [==============================] - 8s 758ms/step - loss: 0.1783 - accuracy: 0.9533 - val_loss: 1.1473 - val_accuracy: 0.6987\n",
            "Epoch 31/50\n",
            "10/10 [==============================] - 8s 757ms/step - loss: 0.1869 - accuracy: 0.9452 - val_loss: 1.1715 - val_accuracy: 0.6923\n",
            "Epoch 32/50\n",
            "10/10 [==============================] - 8s 758ms/step - loss: 0.1764 - accuracy: 0.9549 - val_loss: 1.1898 - val_accuracy: 0.6987\n",
            "Epoch 33/50\n",
            "10/10 [==============================] - 8s 758ms/step - loss: 0.1835 - accuracy: 0.9469 - val_loss: 1.2034 - val_accuracy: 0.6923\n",
            "Epoch 34/50\n",
            "10/10 [==============================] - 8s 759ms/step - loss: 0.1640 - accuracy: 0.9533 - val_loss: 1.2054 - val_accuracy: 0.6987\n",
            "Epoch 35/50\n",
            "10/10 [==============================] - 8s 758ms/step - loss: 0.1516 - accuracy: 0.9517 - val_loss: 1.2138 - val_accuracy: 0.6987\n",
            "Epoch 36/50\n",
            "10/10 [==============================] - 8s 758ms/step - loss: 0.1510 - accuracy: 0.9549 - val_loss: 1.2148 - val_accuracy: 0.6987\n",
            "Epoch 37/50\n",
            "10/10 [==============================] - 8s 758ms/step - loss: 0.1461 - accuracy: 0.9533 - val_loss: 1.2281 - val_accuracy: 0.7115\n",
            "Epoch 38/50\n",
            "10/10 [==============================] - 8s 758ms/step - loss: 0.1314 - accuracy: 0.9678 - val_loss: 1.2490 - val_accuracy: 0.7115\n",
            "Epoch 39/50\n",
            "10/10 [==============================] - 8s 758ms/step - loss: 0.1227 - accuracy: 0.9726 - val_loss: 1.2563 - val_accuracy: 0.6923\n",
            "Epoch 40/50\n",
            "10/10 [==============================] - 8s 758ms/step - loss: 0.1386 - accuracy: 0.9581 - val_loss: 1.2652 - val_accuracy: 0.6987\n",
            "Epoch 41/50\n",
            "10/10 [==============================] - 8s 757ms/step - loss: 0.1122 - accuracy: 0.9710 - val_loss: 1.2694 - val_accuracy: 0.6987\n",
            "Epoch 42/50\n",
            "10/10 [==============================] - 8s 757ms/step - loss: 0.1218 - accuracy: 0.9646 - val_loss: 1.2744 - val_accuracy: 0.7051\n",
            "Epoch 43/50\n",
            "10/10 [==============================] - 8s 758ms/step - loss: 0.1062 - accuracy: 0.9742 - val_loss: 1.2741 - val_accuracy: 0.6923\n",
            "Epoch 44/50\n",
            "10/10 [==============================] - 8s 759ms/step - loss: 0.1150 - accuracy: 0.9726 - val_loss: 1.2877 - val_accuracy: 0.6923\n",
            "Epoch 45/50\n",
            "10/10 [==============================] - 8s 758ms/step - loss: 0.1164 - accuracy: 0.9678 - val_loss: 1.2824 - val_accuracy: 0.6987\n",
            "Epoch 46/50\n",
            "10/10 [==============================] - 8s 756ms/step - loss: 0.1047 - accuracy: 0.9726 - val_loss: 1.2934 - val_accuracy: 0.6923\n",
            "Epoch 47/50\n",
            "10/10 [==============================] - 8s 756ms/step - loss: 0.1093 - accuracy: 0.9678 - val_loss: 1.3086 - val_accuracy: 0.6987\n",
            "Epoch 48/50\n",
            "10/10 [==============================] - 8s 757ms/step - loss: 0.0948 - accuracy: 0.9710 - val_loss: 1.3179 - val_accuracy: 0.6923\n",
            "Epoch 49/50\n",
            "10/10 [==============================] - 8s 757ms/step - loss: 0.0986 - accuracy: 0.9775 - val_loss: 1.3031 - val_accuracy: 0.6923\n",
            "Epoch 50/50\n",
            "10/10 [==============================] - 8s 760ms/step - loss: 0.0909 - accuracy: 0.9758 - val_loss: 1.3131 - val_accuracy: 0.6923\n"
          ],
          "name": "stdout"
        }
      ]
    },
    {
      "cell_type": "code",
      "metadata": {
        "colab": {
          "base_uri": "https://localhost:8080/"
        },
        "id": "prYRUr8IKbqv",
        "outputId": "0eda37bf-67c3-4031-b6bd-7c509a2bdd00"
      },
      "source": [
        "#Model 3\n",
        "# Ready output data for the model\n",
        "y_label = to_categorical(data['label'])\n",
        "\n",
        "# Tokenize the input (takes some time)\n",
        "x = tokenizer(\n",
        "    text=data['text'].to_list(),\n",
        "    add_special_tokens=True,\n",
        "    max_length=max_length,\n",
        "    truncation=True,\n",
        "    padding=True, \n",
        "    return_tensors='tf',\n",
        "    return_token_type_ids = False,\n",
        "    return_attention_mask = True,\n",
        "    verbose = True)\n",
        "\n",
        "# Fit the model\n",
        "history = model.fit(\n",
        "    x={'input_ids': x['input_ids'], 'attention_mask': x['attention_mask']},\n",
        "    y={'label': y_label},\n",
        "    validation_split=0.2,\n",
        "    batch_size=64,\n",
        "    epochs=50)\n",
        "\n",
        "model.save(\"/tmp/text-classification-kannada.h5\")"
      ],
      "execution_count": null,
      "outputs": [
        {
          "output_type": "stream",
          "text": [
            "Epoch 1/50\n",
            "78/78 [==============================] - 60s 769ms/step - loss: 0.0227 - accuracy: 0.9895 - val_loss: 1.7509 - val_accuracy: 0.7203\n",
            "Epoch 2/50\n",
            "78/78 [==============================] - 60s 768ms/step - loss: 0.0235 - accuracy: 0.9899 - val_loss: 1.7425 - val_accuracy: 0.7211\n",
            "Epoch 3/50\n",
            "78/78 [==============================] - 60s 768ms/step - loss: 0.0239 - accuracy: 0.9877 - val_loss: 1.7487 - val_accuracy: 0.7211\n",
            "Epoch 4/50\n",
            "78/78 [==============================] - 60s 769ms/step - loss: 0.0233 - accuracy: 0.9887 - val_loss: 1.7385 - val_accuracy: 0.7275\n",
            "Epoch 5/50\n",
            "78/78 [==============================] - 60s 768ms/step - loss: 0.0233 - accuracy: 0.9885 - val_loss: 1.7431 - val_accuracy: 0.7291\n",
            "Epoch 6/50\n",
            "78/78 [==============================] - 60s 768ms/step - loss: 0.0233 - accuracy: 0.9881 - val_loss: 1.7551 - val_accuracy: 0.7219\n",
            "Epoch 7/50\n",
            "78/78 [==============================] - 60s 768ms/step - loss: 0.0237 - accuracy: 0.9883 - val_loss: 1.7622 - val_accuracy: 0.7203\n",
            "Epoch 8/50\n",
            "78/78 [==============================] - 60s 768ms/step - loss: 0.0225 - accuracy: 0.9885 - val_loss: 1.7682 - val_accuracy: 0.7203\n",
            "Epoch 9/50\n",
            "78/78 [==============================] - 60s 769ms/step - loss: 0.0235 - accuracy: 0.9887 - val_loss: 1.7822 - val_accuracy: 0.7162\n",
            "Epoch 10/50\n",
            "78/78 [==============================] - 60s 768ms/step - loss: 0.0220 - accuracy: 0.9891 - val_loss: 1.7757 - val_accuracy: 0.7211\n",
            "Epoch 11/50\n",
            "78/78 [==============================] - 60s 768ms/step - loss: 0.0231 - accuracy: 0.9877 - val_loss: 1.7749 - val_accuracy: 0.7227\n",
            "Epoch 12/50\n",
            "78/78 [==============================] - 60s 768ms/step - loss: 0.0229 - accuracy: 0.9893 - val_loss: 1.7778 - val_accuracy: 0.7211\n",
            "Epoch 13/50\n",
            "78/78 [==============================] - 60s 768ms/step - loss: 0.0225 - accuracy: 0.9887 - val_loss: 1.7816 - val_accuracy: 0.7195\n",
            "Epoch 14/50\n",
            "78/78 [==============================] - 60s 768ms/step - loss: 0.0227 - accuracy: 0.9905 - val_loss: 1.7794 - val_accuracy: 0.7227\n",
            "Epoch 15/50\n",
            "78/78 [==============================] - 60s 768ms/step - loss: 0.0226 - accuracy: 0.9891 - val_loss: 1.7607 - val_accuracy: 0.7283\n",
            "Epoch 16/50\n",
            "78/78 [==============================] - 60s 768ms/step - loss: 0.0225 - accuracy: 0.9903 - val_loss: 1.7855 - val_accuracy: 0.7243\n",
            "Epoch 17/50\n",
            "78/78 [==============================] - 60s 767ms/step - loss: 0.0240 - accuracy: 0.9887 - val_loss: 1.8309 - val_accuracy: 0.7090\n",
            "Epoch 18/50\n",
            "78/78 [==============================] - 60s 768ms/step - loss: 0.0227 - accuracy: 0.9881 - val_loss: 1.7831 - val_accuracy: 0.7243\n",
            "Epoch 19/50\n",
            "78/78 [==============================] - 60s 767ms/step - loss: 0.0238 - accuracy: 0.9875 - val_loss: 1.7901 - val_accuracy: 0.7219\n",
            "Epoch 20/50\n",
            "78/78 [==============================] - 60s 768ms/step - loss: 0.0231 - accuracy: 0.9885 - val_loss: 1.7778 - val_accuracy: 0.7243\n",
            "Epoch 21/50\n",
            "78/78 [==============================] - 60s 768ms/step - loss: 0.0222 - accuracy: 0.9903 - val_loss: 1.7812 - val_accuracy: 0.7243\n",
            "Epoch 22/50\n",
            "78/78 [==============================] - 60s 768ms/step - loss: 0.0232 - accuracy: 0.9873 - val_loss: 1.7893 - val_accuracy: 0.7211\n",
            "Epoch 23/50\n",
            "78/78 [==============================] - 60s 768ms/step - loss: 0.0236 - accuracy: 0.9889 - val_loss: 1.8016 - val_accuracy: 0.7186\n",
            "Epoch 24/50\n",
            "78/78 [==============================] - 60s 768ms/step - loss: 0.0233 - accuracy: 0.9883 - val_loss: 1.8038 - val_accuracy: 0.7154\n",
            "Epoch 25/50\n",
            "78/78 [==============================] - 60s 768ms/step - loss: 0.0227 - accuracy: 0.9881 - val_loss: 1.8011 - val_accuracy: 0.7219\n",
            "Epoch 26/50\n",
            "78/78 [==============================] - 60s 768ms/step - loss: 0.0224 - accuracy: 0.9891 - val_loss: 1.8076 - val_accuracy: 0.7195\n",
            "Epoch 27/50\n",
            "78/78 [==============================] - 60s 768ms/step - loss: 0.0237 - accuracy: 0.9885 - val_loss: 1.8052 - val_accuracy: 0.7195\n",
            "Epoch 28/50\n",
            "78/78 [==============================] - 60s 768ms/step - loss: 0.0231 - accuracy: 0.9899 - val_loss: 1.8105 - val_accuracy: 0.7211\n",
            "Epoch 29/50\n",
            "78/78 [==============================] - 60s 768ms/step - loss: 0.0223 - accuracy: 0.9889 - val_loss: 1.8134 - val_accuracy: 0.7203\n",
            "Epoch 30/50\n",
            "78/78 [==============================] - 60s 768ms/step - loss: 0.0229 - accuracy: 0.9885 - val_loss: 1.8020 - val_accuracy: 0.7203\n",
            "Epoch 31/50\n",
            "78/78 [==============================] - 60s 768ms/step - loss: 0.0231 - accuracy: 0.9889 - val_loss: 1.8104 - val_accuracy: 0.7203\n",
            "Epoch 32/50\n",
            "78/78 [==============================] - 60s 768ms/step - loss: 0.0222 - accuracy: 0.9897 - val_loss: 1.8029 - val_accuracy: 0.7195\n",
            "Epoch 33/50\n",
            "78/78 [==============================] - 60s 768ms/step - loss: 0.0229 - accuracy: 0.9881 - val_loss: 1.8089 - val_accuracy: 0.7203\n",
            "Epoch 34/50\n",
            "78/78 [==============================] - 60s 767ms/step - loss: 0.0216 - accuracy: 0.9891 - val_loss: 1.8183 - val_accuracy: 0.7186\n",
            "Epoch 35/50\n",
            "78/78 [==============================] - 60s 768ms/step - loss: 0.0227 - accuracy: 0.9897 - val_loss: 1.8152 - val_accuracy: 0.7227\n",
            "Epoch 36/50\n",
            "78/78 [==============================] - 60s 768ms/step - loss: 0.0227 - accuracy: 0.9891 - val_loss: 1.8143 - val_accuracy: 0.7195\n",
            "Epoch 37/50\n",
            "78/78 [==============================] - 60s 768ms/step - loss: 0.0224 - accuracy: 0.9895 - val_loss: 1.8181 - val_accuracy: 0.7227\n",
            "Epoch 38/50\n",
            "78/78 [==============================] - 60s 768ms/step - loss: 0.0228 - accuracy: 0.9887 - val_loss: 1.8334 - val_accuracy: 0.7178\n",
            "Epoch 39/50\n",
            "78/78 [==============================] - 60s 767ms/step - loss: 0.0220 - accuracy: 0.9893 - val_loss: 1.8379 - val_accuracy: 0.7178\n",
            "Epoch 40/50\n",
            "78/78 [==============================] - 60s 768ms/step - loss: 0.0226 - accuracy: 0.9897 - val_loss: 1.8532 - val_accuracy: 0.7162\n",
            "Epoch 41/50\n",
            "78/78 [==============================] - 60s 769ms/step - loss: 0.0216 - accuracy: 0.9912 - val_loss: 1.8376 - val_accuracy: 0.7203\n",
            "Epoch 42/50\n",
            "78/78 [==============================] - 60s 768ms/step - loss: 0.0225 - accuracy: 0.9889 - val_loss: 1.8204 - val_accuracy: 0.7267\n",
            "Epoch 43/50\n",
            "78/78 [==============================] - 60s 768ms/step - loss: 0.0227 - accuracy: 0.9885 - val_loss: 1.8130 - val_accuracy: 0.7307\n",
            "Epoch 44/50\n",
            "78/78 [==============================] - 60s 768ms/step - loss: 0.0222 - accuracy: 0.9887 - val_loss: 1.8121 - val_accuracy: 0.7307\n",
            "Epoch 45/50\n",
            "78/78 [==============================] - 60s 768ms/step - loss: 0.0222 - accuracy: 0.9887 - val_loss: 1.8183 - val_accuracy: 0.7267\n",
            "Epoch 46/50\n",
            "78/78 [==============================] - 60s 769ms/step - loss: 0.0219 - accuracy: 0.9893 - val_loss: 1.8427 - val_accuracy: 0.7195\n",
            "Epoch 47/50\n",
            "78/78 [==============================] - 60s 768ms/step - loss: 0.0227 - accuracy: 0.9891 - val_loss: 1.8351 - val_accuracy: 0.7195\n",
            "Epoch 48/50\n",
            "78/78 [==============================] - 60s 768ms/step - loss: 0.0214 - accuracy: 0.9899 - val_loss: 1.8178 - val_accuracy: 0.7267\n",
            "Epoch 49/50\n",
            "78/78 [==============================] - 60s 768ms/step - loss: 0.0225 - accuracy: 0.9897 - val_loss: 1.8270 - val_accuracy: 0.7243\n",
            "Epoch 50/50\n",
            "78/78 [==============================] - 60s 768ms/step - loss: 0.0252 - accuracy: 0.9859 - val_loss: 1.8659 - val_accuracy: 0.7154\n"
          ],
          "name": "stdout"
        }
      ]
    },
    {
      "cell_type": "code",
      "metadata": {
        "id": "kz4e439BRC5E",
        "colab": {
          "base_uri": "https://localhost:8080/"
        },
        "outputId": "5b10701b-5af9-42f0-80c9-8107b34a99b5"
      },
      "source": [
        "#Evaluate the model\n",
        "\n",
        "# Ready test data`\n",
        "test_y_label = to_categorical(data_dev['label'])\n",
        "test_x = tokenizer(\n",
        "    text=data_dev['text'].to_list(),\n",
        "    add_special_tokens=True,\n",
        "    max_length=max_length,\n",
        "    truncation=True,\n",
        "    padding=True, \n",
        "    return_tensors='tf',\n",
        "    return_token_type_ids = False,\n",
        "    return_attention_mask = True,\n",
        "    verbose = True)\n",
        "\n",
        "\n",
        "# Run evaluation\n",
        "model_eval = model.evaluate(\n",
        "    x={'input_ids': test_x['input_ids'], 'attention_mask': test_x['attention_mask']},\n",
        "    y={'label': test_y_label}\n",
        ")"
      ],
      "execution_count": null,
      "outputs": [
        {
          "output_type": "stream",
          "text": [
            "25/25 [==============================] - 3s 130ms/step - loss: 0.5385 - accuracy: 0.8983\n"
          ],
          "name": "stdout"
        }
      ]
    },
    {
      "cell_type": "code",
      "metadata": {
        "colab": {
          "base_uri": "https://localhost:8080/"
        },
        "id": "UZMxbvsHz-oh",
        "outputId": "1822fa77-3c7a-4380-ec24-dbc7cf2cf741"
      },
      "source": [
        "#History object\n",
        "history_dict = history.history\n",
        "history_dict.keys()"
      ],
      "execution_count": null,
      "outputs": [
        {
          "output_type": "execute_result",
          "data": {
            "text/plain": [
              "dict_keys(['loss', 'accuracy', 'val_loss', 'val_accuracy'])"
            ]
          },
          "metadata": {
            "tags": []
          },
          "execution_count": 40
        }
      ]
    },
    {
      "cell_type": "code",
      "metadata": {
        "id": "6qeKQ_Bl1Z5n"
      },
      "source": [
        "#import matplotlib\n",
        "from matplotlib import pyplot as plt"
      ],
      "execution_count": null,
      "outputs": []
    },
    {
      "cell_type": "code",
      "metadata": {
        "colab": {
          "base_uri": "https://localhost:8080/",
          "height": 295
        },
        "id": "HrT0cmkm0CBr",
        "outputId": "5d64cffc-c76f-4841-d76f-12fff7a1bd54"
      },
      "source": [
        "#plot the training and validation loss for comparison\n",
        "\n",
        "acc = history_dict['accuracy']\n",
        "val_acc = history_dict['val_accuracy']\n",
        "loss = history_dict['loss']\n",
        "val_loss = history_dict['val_loss']\n",
        "\n",
        "epochs = range(1, len(acc) + 1)\n",
        "\n",
        "plt.plot(epochs, loss, 'bo', label='Training loss')\n",
        "plt.plot(epochs, val_loss, 'b', label='Validation loss')\n",
        "plt.title('Training and validation loss')\n",
        "plt.xlabel('Epochs')\n",
        "plt.ylabel('Loss')\n",
        "plt.legend()\n",
        "\n",
        "plt.show()"
      ],
      "execution_count": null,
      "outputs": [
        {
          "output_type": "display_data",
          "data": {
            "image/png": "[encoded data removed]",
            "text/plain": [
              "<Figure size 432x288 with 1 Axes>"
            ]
          },
          "metadata": {
            "tags": [],
            "needs_background": "light"
          }
        }
      ]
    },
    {
      "cell_type": "code",
      "metadata": {
        "colab": {
          "base_uri": "https://localhost:8080/",
          "height": 295
        },
        "id": "TVXDyzTX0e4o",
        "outputId": "fcbcd8d8-834d-48fc-9e43-90a05f417cfa"
      },
      "source": [
        "#plot the training and validation accuracy for comparison\n",
        "plt.plot(epochs, acc, 'bo', label='Training acc')\n",
        "plt.plot(epochs, val_acc, 'b', label='Validation acc')\n",
        "plt.title('Training and validation accuracy')\n",
        "plt.xlabel('Epochs')\n",
        "plt.ylabel('Accuracy')\n",
        "plt.legend(loc='lower right')\n",
        "\n",
        "plt.show()"
      ],
      "execution_count": null,
      "outputs": [
        {
          "output_type": "display_data",
          "data": {
            "image/png": "[encoded data removed]",
            "text/plain": [
              "<Figure size 432x288 with 1 Axes>"
            ]
          },
          "metadata": {
            "tags": [],
            "needs_background": "light"
          }
        }
      ]
    },
    {
      "cell_type": "code",
      "metadata": {
        "id": "RUJSw4-Eyyhn"
      },
      "source": [
        "#Model Prediction\n",
        "data_test = pd.read_csv(\"/tmp/kannada_offensive_test.csv\")\n",
        "\n",
        "# Select required columns\n",
        "data_test = data_test[['text', 'label']]\n",
        "\n",
        "# Remove a row if any of the three remaining columns are missing\n",
        "# data_test = data_test.dropna()\n",
        "\n",
        "test_x = tokenizer(\n",
        "    text=data_test['text'].to_list(),\n",
        "    add_special_tokens=True,\n",
        "    max_length=max_length,\n",
        "    truncation=True,\n",
        "    padding=True, \n",
        "    return_tensors='tf',\n",
        "    return_token_type_ids = False,\n",
        "    return_attention_mask = True,\n",
        "    verbose = True)\n",
        "\n",
        "predictions = model.predict({'input_ids': test_x['input_ids'], 'attention_mask': test_x['attention_mask']})\n",
        "  "
      ],
      "execution_count": null,
      "outputs": []
    },
    {
      "cell_type": "code",
      "metadata": {
        "colab": {
          "base_uri": "https://localhost:8080/"
        },
        "id": "CUfCMtCvSM_d",
        "outputId": "c9f4231d-456d-4701-ab78-e4700019289b"
      },
      "source": [
        "print(len(data_test))\n",
        "print(len(predictions['label']))"
      ],
      "execution_count": null,
      "outputs": [
        {
          "output_type": "stream",
          "text": [
            "[[ 8.000431  -1.9388584 -2.504746  -2.4236958 -1.3773599 -1.6748071]\n",
            " [ 2.8928406 -2.7139034 -3.777966  -1.455674  -2.364487   3.6830022]\n",
            " [ 3.0485895 -2.5895681 -3.6256404 -1.785479  -2.2504518  3.417991 ]\n",
            " ...\n",
            " [ 0.3908304 -2.5767508 -2.7767282 -2.1698864 -2.0237286  7.1196933]\n",
            " [ 8.019753  -1.9056973 -2.5773327 -2.4330943 -1.8893183 -1.1985667]\n",
            " [ 6.5341578 -1.5068861 -1.1243926 -2.532223   1.3933607 -3.559877 ]]\n"
          ],
          "name": "stdout"
        }
      ]
    },
    {
      "cell_type": "code",
      "metadata": {
        "id": "3i8NfCHz6Bg4"
      },
      "source": [
        "#import Numpy\n",
        "import numpy as np"
      ],
      "execution_count": null,
      "outputs": []
    },
    {
      "cell_type": "code",
      "metadata": {
        "id": "Wgo96zWlR7Vt"
      },
      "source": [
        "#Write out to the csv file\n",
        "arry = []\n",
        "\n",
        "data_test = np.array(data_test)\n",
        "label_array = np.array(predictions['label'])\n",
        "\n",
        "for i, j in zip(data_test, label_array):\n",
        "  text = i[0]\n",
        "  label_value_max = max(j)\n",
        "  label_index = np.where(label_array == label_value_max)\n",
        "\n",
        "  labels = ['Not_offensive', 'Offensive_Targeted_Insult_Group', 'Offensive_Targeted_Insult_Individual', 'Offensive_Targeted_Insult_Other', 'Offensive_Untargetede', 'not-Kannada']\n",
        "  arry.append([text, labels[label_index[1][0]]])\n",
        "  # print(i[0] + i[1] + ' - ' + labels[label_index[1][0]])\n",
        "\n",
        "\n",
        "pre = pd.DataFrame(arry, columns=['text', 'label'])\n",
        "pre.to_csv('/tmp/prediction-kannada.csv')"
      ],
      "execution_count": null,
      "outputs": []
    },
    {
      "cell_type": "code",
      "metadata": {
        "colab": {
          "base_uri": "https://localhost:8080/",
          "height": 34
        },
        "id": "pRZ-C4qc0M87",
        "outputId": "f2567b65-c6ad-456a-8ad4-f7580a6b9cdd"
      },
      "source": [
        "from google.colab import files\n",
        "files.download('/tmp/text-classification-kannada.h5')"
      ],
      "execution_count": null,
      "outputs": [
        {
          "output_type": "display_data",
          "data": {
            "application/javascript": [
              "\n",
              "    async function download(id, filename, size) {\n",
              "      if (!google.colab.kernel.accessAllowed) {\n",
              "        return;\n",
              "      }\n",
              "      const div = document.createElement('div');\n",
              "      const label = document.createElement('label');\n",
              "      label.textContent = `Downloading \"${filename}\": `;\n",
              "      div.appendChild(label);\n",
              "      const progress = document.createElement('progress');\n",
              "      progress.max = size;\n",
              "      div.appendChild(progress);\n",
              "      document.body.appendChild(div);\n",
              "\n",
              "      const buffers = [];\n",
              "      let downloaded = 0;\n",
              "\n",
              "      const channel = await google.colab.kernel.comms.open(id);\n",
              "      // Send a message to notify the kernel that we're ready.\n",
              "      channel.send({})\n",
              "\n",
              "      for await (const message of channel.messages) {\n",
              "        // Send a message to notify the kernel that we're ready.\n",
              "        channel.send({})\n",
              "        if (message.buffers) {\n",
              "          for (const buffer of message.buffers) {\n",
              "            buffers.push(buffer);\n",
              "            downloaded += buffer.byteLength;\n",
              "            progress.value = downloaded;\n",
              "          }\n",
              "        }\n",
              "      }\n",
              "      const blob = new Blob(buffers, {type: 'application/binary'});\n",
              "      const a = document.createElement('a');\n",
              "      a.href = window.URL.createObjectURL(blob);\n",
              "      a.download = filename;\n",
              "      div.appendChild(a);\n",
              "      a.click();\n",
              "      div.remove();\n",
              "    }\n",
              "  "
            ],
            "text/plain": [
              "<IPython.core.display.Javascript object>"
            ]
          },
          "metadata": {
            "tags": []
          }
        },
        {
          "output_type": "display_data",
          "data": {
            "application/javascript": [
              "download(\"download_95b705b7-77cf-467d-8ded-7674f156c3f2\", \"text-classification-kannada.h5\", 2135109320)"
            ],
            "text/plain": [
              "<IPython.core.display.Javascript object>"
            ]
          },
          "metadata": {
            "tags": []
          }
        }
      ]
    }
  ]
}