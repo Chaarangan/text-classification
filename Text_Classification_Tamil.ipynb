{
  "nbformat": 4,
  "nbformat_minor": 0,
  "metadata": {
    "accelerator": "GPU",
    "colab": {
      "name": "Text Classification - Tamil.ipynb",
      "provenance": [],
      "collapsed_sections": [],
      "machine_shape": "hm"
    },
    "kernelspec": {
      "display_name": "Python 3",
      "name": "python3"
    },
    "widgets": {
      "application/vnd.jupyter.widget-state+json": {
        "3ae365ce0d654cd8ad094fe6044cddd7": {
          "model_module": "@jupyter-widgets/controls",
          "model_name": "HBoxModel",
          "state": {
            "_view_name": "HBoxView",
            "_dom_classes": [],
            "_model_name": "HBoxModel",
            "_view_module": "@jupyter-widgets/controls",
            "_model_module_version": "1.5.0",
            "_view_count": null,
            "_view_module_version": "1.5.0",
            "box_style": "",
            "layout": "IPY_MODEL_8219af8b345f49d7851470797346d67e",
            "_model_module": "@jupyter-widgets/controls",
            "children": [
              "IPY_MODEL_70f0829341804840ab62273367ea5aad",
              "IPY_MODEL_c46e3c8c62ae413dab44744ba4d562a2"
            ]
          }
        },
        "8219af8b345f49d7851470797346d67e": {
          "model_module": "@jupyter-widgets/base",
          "model_name": "LayoutModel",
          "state": {
            "_view_name": "LayoutView",
            "grid_template_rows": null,
            "right": null,
            "justify_content": null,
            "_view_module": "@jupyter-widgets/base",
            "overflow": null,
            "_model_module_version": "1.2.0",
            "_view_count": null,
            "flex_flow": null,
            "width": null,
            "min_width": null,
            "border": null,
            "align_items": null,
            "bottom": null,
            "_model_module": "@jupyter-widgets/base",
            "top": null,
            "grid_column": null,
            "overflow_y": null,
            "overflow_x": null,
            "grid_auto_flow": null,
            "grid_area": null,
            "grid_template_columns": null,
            "flex": null,
            "_model_name": "LayoutModel",
            "justify_items": null,
            "grid_row": null,
            "max_height": null,
            "align_content": null,
            "visibility": null,
            "align_self": null,
            "height": null,
            "min_height": null,
            "padding": null,
            "grid_auto_rows": null,
            "grid_gap": null,
            "max_width": null,
            "order": null,
            "_view_module_version": "1.2.0",
            "grid_template_areas": null,
            "object_position": null,
            "object_fit": null,
            "grid_auto_columns": null,
            "margin": null,
            "display": null,
            "left": null
          }
        },
        "70f0829341804840ab62273367ea5aad": {
          "model_module": "@jupyter-widgets/controls",
          "model_name": "FloatProgressModel",
          "state": {
            "_view_name": "ProgressView",
            "style": "IPY_MODEL_a69635d91be24ec1b6d21903924707a1",
            "_dom_classes": [],
            "description": "Downloading: 100%",
            "_model_name": "FloatProgressModel",
            "bar_style": "success",
            "max": 625,
            "_view_module": "@jupyter-widgets/controls",
            "_model_module_version": "1.5.0",
            "value": 625,
            "_view_count": null,
            "_view_module_version": "1.5.0",
            "orientation": "horizontal",
            "min": 0,
            "description_tooltip": null,
            "_model_module": "@jupyter-widgets/controls",
            "layout": "IPY_MODEL_fefa2c4b973d4890908985a78cbff358"
          }
        },
        "c46e3c8c62ae413dab44744ba4d562a2": {
          "model_module": "@jupyter-widgets/controls",
          "model_name": "HTMLModel",
          "state": {
            "_view_name": "HTMLView",
            "style": "IPY_MODEL_c9940e943cb14de09a625ce7b948bab0",
            "_dom_classes": [],
            "description": "",
            "_model_name": "HTMLModel",
            "placeholder": "​",
            "_view_module": "@jupyter-widgets/controls",
            "_model_module_version": "1.5.0",
            "value": " 625/625 [00:00&lt;00:00, 25.2kB/s]",
            "_view_count": null,
            "_view_module_version": "1.5.0",
            "description_tooltip": null,
            "_model_module": "@jupyter-widgets/controls",
            "layout": "IPY_MODEL_f9996c37c676401290680536fdd73e74"
          }
        },
        "a69635d91be24ec1b6d21903924707a1": {
          "model_module": "@jupyter-widgets/controls",
          "model_name": "ProgressStyleModel",
          "state": {
            "_view_name": "StyleView",
            "_model_name": "ProgressStyleModel",
            "description_width": "initial",
            "_view_module": "@jupyter-widgets/base",
            "_model_module_version": "1.5.0",
            "_view_count": null,
            "_view_module_version": "1.2.0",
            "bar_color": null,
            "_model_module": "@jupyter-widgets/controls"
          }
        },
        "fefa2c4b973d4890908985a78cbff358": {
          "model_module": "@jupyter-widgets/base",
          "model_name": "LayoutModel",
          "state": {
            "_view_name": "LayoutView",
            "grid_template_rows": null,
            "right": null,
            "justify_content": null,
            "_view_module": "@jupyter-widgets/base",
            "overflow": null,
            "_model_module_version": "1.2.0",
            "_view_count": null,
            "flex_flow": null,
            "width": null,
            "min_width": null,
            "border": null,
            "align_items": null,
            "bottom": null,
            "_model_module": "@jupyter-widgets/base",
            "top": null,
            "grid_column": null,
            "overflow_y": null,
            "overflow_x": null,
            "grid_auto_flow": null,
            "grid_area": null,
            "grid_template_columns": null,
            "flex": null,
            "_model_name": "LayoutModel",
            "justify_items": null,
            "grid_row": null,
            "max_height": null,
            "align_content": null,
            "visibility": null,
            "align_self": null,
            "height": null,
            "min_height": null,
            "padding": null,
            "grid_auto_rows": null,
            "grid_gap": null,
            "max_width": null,
            "order": null,
            "_view_module_version": "1.2.0",
            "grid_template_areas": null,
            "object_position": null,
            "object_fit": null,
            "grid_auto_columns": null,
            "margin": null,
            "display": null,
            "left": null
          }
        },
        "c9940e943cb14de09a625ce7b948bab0": {
          "model_module": "@jupyter-widgets/controls",
          "model_name": "DescriptionStyleModel",
          "state": {
            "_view_name": "StyleView",
            "_model_name": "DescriptionStyleModel",
            "description_width": "",
            "_view_module": "@jupyter-widgets/base",
            "_model_module_version": "1.5.0",
            "_view_count": null,
            "_view_module_version": "1.2.0",
            "_model_module": "@jupyter-widgets/controls"
          }
        },
        "f9996c37c676401290680536fdd73e74": {
          "model_module": "@jupyter-widgets/base",
          "model_name": "LayoutModel",
          "state": {
            "_view_name": "LayoutView",
            "grid_template_rows": null,
            "right": null,
            "justify_content": null,
            "_view_module": "@jupyter-widgets/base",
            "overflow": null,
            "_model_module_version": "1.2.0",
            "_view_count": null,
            "flex_flow": null,
            "width": null,
            "min_width": null,
            "border": null,
            "align_items": null,
            "bottom": null,
            "_model_module": "@jupyter-widgets/base",
            "top": null,
            "grid_column": null,
            "overflow_y": null,
            "overflow_x": null,
            "grid_auto_flow": null,
            "grid_area": null,
            "grid_template_columns": null,
            "flex": null,
            "_model_name": "LayoutModel",
            "justify_items": null,
            "grid_row": null,
            "max_height": null,
            "align_content": null,
            "visibility": null,
            "align_self": null,
            "height": null,
            "min_height": null,
            "padding": null,
            "grid_auto_rows": null,
            "grid_gap": null,
            "max_width": null,
            "order": null,
            "_view_module_version": "1.2.0",
            "grid_template_areas": null,
            "object_position": null,
            "object_fit": null,
            "grid_auto_columns": null,
            "margin": null,
            "display": null,
            "left": null
          }
        },
        "d642a2ceb1a842459a1e9b40817fc4aa": {
          "model_module": "@jupyter-widgets/controls",
          "model_name": "HBoxModel",
          "state": {
            "_view_name": "HBoxView",
            "_dom_classes": [],
            "_model_name": "HBoxModel",
            "_view_module": "@jupyter-widgets/controls",
            "_model_module_version": "1.5.0",
            "_view_count": null,
            "_view_module_version": "1.5.0",
            "box_style": "",
            "layout": "IPY_MODEL_91d1621e5df94f16bf7e4e3dfe860d7a",
            "_model_module": "@jupyter-widgets/controls",
            "children": [
              "IPY_MODEL_0c63355f3e7c4c049f5f137c6adff592",
              "IPY_MODEL_f2658a11778943c8b3d14a2eeacdf7e7"
            ]
          }
        },
        "91d1621e5df94f16bf7e4e3dfe860d7a": {
          "model_module": "@jupyter-widgets/base",
          "model_name": "LayoutModel",
          "state": {
            "_view_name": "LayoutView",
            "grid_template_rows": null,
            "right": null,
            "justify_content": null,
            "_view_module": "@jupyter-widgets/base",
            "overflow": null,
            "_model_module_version": "1.2.0",
            "_view_count": null,
            "flex_flow": null,
            "width": null,
            "min_width": null,
            "border": null,
            "align_items": null,
            "bottom": null,
            "_model_module": "@jupyter-widgets/base",
            "top": null,
            "grid_column": null,
            "overflow_y": null,
            "overflow_x": null,
            "grid_auto_flow": null,
            "grid_area": null,
            "grid_template_columns": null,
            "flex": null,
            "_model_name": "LayoutModel",
            "justify_items": null,
            "grid_row": null,
            "max_height": null,
            "align_content": null,
            "visibility": null,
            "align_self": null,
            "height": null,
            "min_height": null,
            "padding": null,
            "grid_auto_rows": null,
            "grid_gap": null,
            "max_width": null,
            "order": null,
            "_view_module_version": "1.2.0",
            "grid_template_areas": null,
            "object_position": null,
            "object_fit": null,
            "grid_auto_columns": null,
            "margin": null,
            "display": null,
            "left": null
          }
        },
        "0c63355f3e7c4c049f5f137c6adff592": {
          "model_module": "@jupyter-widgets/controls",
          "model_name": "FloatProgressModel",
          "state": {
            "_view_name": "ProgressView",
            "style": "IPY_MODEL_ebd97573a2a74863a4ea182dc61e109a",
            "_dom_classes": [],
            "description": "Downloading: 100%",
            "_model_name": "FloatProgressModel",
            "bar_style": "success",
            "max": 995526,
            "_view_module": "@jupyter-widgets/controls",
            "_model_module_version": "1.5.0",
            "value": 995526,
            "_view_count": null,
            "_view_module_version": "1.5.0",
            "orientation": "horizontal",
            "min": 0,
            "description_tooltip": null,
            "_model_module": "@jupyter-widgets/controls",
            "layout": "IPY_MODEL_a7f554b2f5844474a419fa2417c2661d"
          }
        },
        "f2658a11778943c8b3d14a2eeacdf7e7": {
          "model_module": "@jupyter-widgets/controls",
          "model_name": "HTMLModel",
          "state": {
            "_view_name": "HTMLView",
            "style": "IPY_MODEL_4e335f5ad95140ef8b8fef8a3a7cc8ea",
            "_dom_classes": [],
            "description": "",
            "_model_name": "HTMLModel",
            "placeholder": "​",
            "_view_module": "@jupyter-widgets/controls",
            "_model_module_version": "1.5.0",
            "value": " 996k/996k [00:02&lt;00:00, 401kB/s]",
            "_view_count": null,
            "_view_module_version": "1.5.0",
            "description_tooltip": null,
            "_model_module": "@jupyter-widgets/controls",
            "layout": "IPY_MODEL_12bf69899b704688a0fc43cbefbe94dc"
          }
        },
        "ebd97573a2a74863a4ea182dc61e109a": {
          "model_module": "@jupyter-widgets/controls",
          "model_name": "ProgressStyleModel",
          "state": {
            "_view_name": "StyleView",
            "_model_name": "ProgressStyleModel",
            "description_width": "initial",
            "_view_module": "@jupyter-widgets/base",
            "_model_module_version": "1.5.0",
            "_view_count": null,
            "_view_module_version": "1.2.0",
            "bar_color": null,
            "_model_module": "@jupyter-widgets/controls"
          }
        },
        "a7f554b2f5844474a419fa2417c2661d": {
          "model_module": "@jupyter-widgets/base",
          "model_name": "LayoutModel",
          "state": {
            "_view_name": "LayoutView",
            "grid_template_rows": null,
            "right": null,
            "justify_content": null,
            "_view_module": "@jupyter-widgets/base",
            "overflow": null,
            "_model_module_version": "1.2.0",
            "_view_count": null,
            "flex_flow": null,
            "width": null,
            "min_width": null,
            "border": null,
            "align_items": null,
            "bottom": null,
            "_model_module": "@jupyter-widgets/base",
            "top": null,
            "grid_column": null,
            "overflow_y": null,
            "overflow_x": null,
            "grid_auto_flow": null,
            "grid_area": null,
            "grid_template_columns": null,
            "flex": null,
            "_model_name": "LayoutModel",
            "justify_items": null,
            "grid_row": null,
            "max_height": null,
            "align_content": null,
            "visibility": null,
            "align_self": null,
            "height": null,
            "min_height": null,
            "padding": null,
            "grid_auto_rows": null,
            "grid_gap": null,
            "max_width": null,
            "order": null,
            "_view_module_version": "1.2.0",
            "grid_template_areas": null,
            "object_position": null,
            "object_fit": null,
            "grid_auto_columns": null,
            "margin": null,
            "display": null,
            "left": null
          }
        },
        "4e335f5ad95140ef8b8fef8a3a7cc8ea": {
          "model_module": "@jupyter-widgets/controls",
          "model_name": "DescriptionStyleModel",
          "state": {
            "_view_name": "StyleView",
            "_model_name": "DescriptionStyleModel",
            "description_width": "",
            "_view_module": "@jupyter-widgets/base",
            "_model_module_version": "1.5.0",
            "_view_count": null,
            "_view_module_version": "1.2.0",
            "_model_module": "@jupyter-widgets/controls"
          }
        },
        "12bf69899b704688a0fc43cbefbe94dc": {
          "model_module": "@jupyter-widgets/base",
          "model_name": "LayoutModel",
          "state": {
            "_view_name": "LayoutView",
            "grid_template_rows": null,
            "right": null,
            "justify_content": null,
            "_view_module": "@jupyter-widgets/base",
            "overflow": null,
            "_model_module_version": "1.2.0",
            "_view_count": null,
            "flex_flow": null,
            "width": null,
            "min_width": null,
            "border": null,
            "align_items": null,
            "bottom": null,
            "_model_module": "@jupyter-widgets/base",
            "top": null,
            "grid_column": null,
            "overflow_y": null,
            "overflow_x": null,
            "grid_auto_flow": null,
            "grid_area": null,
            "grid_template_columns": null,
            "flex": null,
            "_model_name": "LayoutModel",
            "justify_items": null,
            "grid_row": null,
            "max_height": null,
            "align_content": null,
            "visibility": null,
            "align_self": null,
            "height": null,
            "min_height": null,
            "padding": null,
            "grid_auto_rows": null,
            "grid_gap": null,
            "max_width": null,
            "order": null,
            "_view_module_version": "1.2.0",
            "grid_template_areas": null,
            "object_position": null,
            "object_fit": null,
            "grid_auto_columns": null,
            "margin": null,
            "display": null,
            "left": null
          }
        },
        "4b59a80bb0bc409db3aad229d88eab40": {
          "model_module": "@jupyter-widgets/controls",
          "model_name": "HBoxModel",
          "state": {
            "_view_name": "HBoxView",
            "_dom_classes": [],
            "_model_name": "HBoxModel",
            "_view_module": "@jupyter-widgets/controls",
            "_model_module_version": "1.5.0",
            "_view_count": null,
            "_view_module_version": "1.5.0",
            "box_style": "",
            "layout": "IPY_MODEL_8703d22d0b504a7496ff55a9ee41b34d",
            "_model_module": "@jupyter-widgets/controls",
            "children": [
              "IPY_MODEL_2e60d657dc5f4829984acacda3fd3cc4",
              "IPY_MODEL_17c3c6118ed04c9f8370f0a2fa5a4c4f"
            ]
          }
        },
        "8703d22d0b504a7496ff55a9ee41b34d": {
          "model_module": "@jupyter-widgets/base",
          "model_name": "LayoutModel",
          "state": {
            "_view_name": "LayoutView",
            "grid_template_rows": null,
            "right": null,
            "justify_content": null,
            "_view_module": "@jupyter-widgets/base",
            "overflow": null,
            "_model_module_version": "1.2.0",
            "_view_count": null,
            "flex_flow": null,
            "width": null,
            "min_width": null,
            "border": null,
            "align_items": null,
            "bottom": null,
            "_model_module": "@jupyter-widgets/base",
            "top": null,
            "grid_column": null,
            "overflow_y": null,
            "overflow_x": null,
            "grid_auto_flow": null,
            "grid_area": null,
            "grid_template_columns": null,
            "flex": null,
            "_model_name": "LayoutModel",
            "justify_items": null,
            "grid_row": null,
            "max_height": null,
            "align_content": null,
            "visibility": null,
            "align_self": null,
            "height": null,
            "min_height": null,
            "padding": null,
            "grid_auto_rows": null,
            "grid_gap": null,
            "max_width": null,
            "order": null,
            "_view_module_version": "1.2.0",
            "grid_template_areas": null,
            "object_position": null,
            "object_fit": null,
            "grid_auto_columns": null,
            "margin": null,
            "display": null,
            "left": null
          }
        },
        "2e60d657dc5f4829984acacda3fd3cc4": {
          "model_module": "@jupyter-widgets/controls",
          "model_name": "FloatProgressModel",
          "state": {
            "_view_name": "ProgressView",
            "style": "IPY_MODEL_4de0cba4689a445c944a1df7949058e6",
            "_dom_classes": [],
            "description": "Downloading: 100%",
            "_model_name": "FloatProgressModel",
            "bar_style": "success",
            "max": 1961828,
            "_view_module": "@jupyter-widgets/controls",
            "_model_module_version": "1.5.0",
            "value": 1961828,
            "_view_count": null,
            "_view_module_version": "1.5.0",
            "orientation": "horizontal",
            "min": 0,
            "description_tooltip": null,
            "_model_module": "@jupyter-widgets/controls",
            "layout": "IPY_MODEL_0858a4731b01432f9119e3cbe9eda2c2"
          }
        },
        "17c3c6118ed04c9f8370f0a2fa5a4c4f": {
          "model_module": "@jupyter-widgets/controls",
          "model_name": "HTMLModel",
          "state": {
            "_view_name": "HTMLView",
            "style": "IPY_MODEL_b0a55626c620451890bb00af5be3565a",
            "_dom_classes": [],
            "description": "",
            "_model_name": "HTMLModel",
            "placeholder": "​",
            "_view_module": "@jupyter-widgets/controls",
            "_model_module_version": "1.5.0",
            "value": " 1.96M/1.96M [00:01&lt;00:00, 1.41MB/s]",
            "_view_count": null,
            "_view_module_version": "1.5.0",
            "description_tooltip": null,
            "_model_module": "@jupyter-widgets/controls",
            "layout": "IPY_MODEL_84e6ec6edf1a4f4da52f198a61fa7178"
          }
        },
        "4de0cba4689a445c944a1df7949058e6": {
          "model_module": "@jupyter-widgets/controls",
          "model_name": "ProgressStyleModel",
          "state": {
            "_view_name": "StyleView",
            "_model_name": "ProgressStyleModel",
            "description_width": "initial",
            "_view_module": "@jupyter-widgets/base",
            "_model_module_version": "1.5.0",
            "_view_count": null,
            "_view_module_version": "1.2.0",
            "bar_color": null,
            "_model_module": "@jupyter-widgets/controls"
          }
        },
        "0858a4731b01432f9119e3cbe9eda2c2": {
          "model_module": "@jupyter-widgets/base",
          "model_name": "LayoutModel",
          "state": {
            "_view_name": "LayoutView",
            "grid_template_rows": null,
            "right": null,
            "justify_content": null,
            "_view_module": "@jupyter-widgets/base",
            "overflow": null,
            "_model_module_version": "1.2.0",
            "_view_count": null,
            "flex_flow": null,
            "width": null,
            "min_width": null,
            "border": null,
            "align_items": null,
            "bottom": null,
            "_model_module": "@jupyter-widgets/base",
            "top": null,
            "grid_column": null,
            "overflow_y": null,
            "overflow_x": null,
            "grid_auto_flow": null,
            "grid_area": null,
            "grid_template_columns": null,
            "flex": null,
            "_model_name": "LayoutModel",
            "justify_items": null,
            "grid_row": null,
            "max_height": null,
            "align_content": null,
            "visibility": null,
            "align_self": null,
            "height": null,
            "min_height": null,
            "padding": null,
            "grid_auto_rows": null,
            "grid_gap": null,
            "max_width": null,
            "order": null,
            "_view_module_version": "1.2.0",
            "grid_template_areas": null,
            "object_position": null,
            "object_fit": null,
            "grid_auto_columns": null,
            "margin": null,
            "display": null,
            "left": null
          }
        },
        "b0a55626c620451890bb00af5be3565a": {
          "model_module": "@jupyter-widgets/controls",
          "model_name": "DescriptionStyleModel",
          "state": {
            "_view_name": "StyleView",
            "_model_name": "DescriptionStyleModel",
            "description_width": "",
            "_view_module": "@jupyter-widgets/base",
            "_model_module_version": "1.5.0",
            "_view_count": null,
            "_view_module_version": "1.2.0",
            "_model_module": "@jupyter-widgets/controls"
          }
        },
        "84e6ec6edf1a4f4da52f198a61fa7178": {
          "model_module": "@jupyter-widgets/base",
          "model_name": "LayoutModel",
          "state": {
            "_view_name": "LayoutView",
            "grid_template_rows": null,
            "right": null,
            "justify_content": null,
            "_view_module": "@jupyter-widgets/base",
            "overflow": null,
            "_model_module_version": "1.2.0",
            "_view_count": null,
            "flex_flow": null,
            "width": null,
            "min_width": null,
            "border": null,
            "align_items": null,
            "bottom": null,
            "_model_module": "@jupyter-widgets/base",
            "top": null,
            "grid_column": null,
            "overflow_y": null,
            "overflow_x": null,
            "grid_auto_flow": null,
            "grid_area": null,
            "grid_template_columns": null,
            "flex": null,
            "_model_name": "LayoutModel",
            "justify_items": null,
            "grid_row": null,
            "max_height": null,
            "align_content": null,
            "visibility": null,
            "align_self": null,
            "height": null,
            "min_height": null,
            "padding": null,
            "grid_auto_rows": null,
            "grid_gap": null,
            "max_width": null,
            "order": null,
            "_view_module_version": "1.2.0",
            "grid_template_areas": null,
            "object_position": null,
            "object_fit": null,
            "grid_auto_columns": null,
            "margin": null,
            "display": null,
            "left": null
          }
        },
        "e30ecbedb148420f9de1d7cab4adadfd": {
          "model_module": "@jupyter-widgets/controls",
          "model_name": "HBoxModel",
          "state": {
            "_view_name": "HBoxView",
            "_dom_classes": [],
            "_model_name": "HBoxModel",
            "_view_module": "@jupyter-widgets/controls",
            "_model_module_version": "1.5.0",
            "_view_count": null,
            "_view_module_version": "1.5.0",
            "box_style": "",
            "layout": "IPY_MODEL_fc186446fad44ed4b3d2b735a2ec6e40",
            "_model_module": "@jupyter-widgets/controls",
            "children": [
              "IPY_MODEL_7c02801c76274e37aceef7289f49bf59",
              "IPY_MODEL_ea0071d81b2048e6ba645f77bf1c2d88"
            ]
          }
        },
        "fc186446fad44ed4b3d2b735a2ec6e40": {
          "model_module": "@jupyter-widgets/base",
          "model_name": "LayoutModel",
          "state": {
            "_view_name": "LayoutView",
            "grid_template_rows": null,
            "right": null,
            "justify_content": null,
            "_view_module": "@jupyter-widgets/base",
            "overflow": null,
            "_model_module_version": "1.2.0",
            "_view_count": null,
            "flex_flow": null,
            "width": null,
            "min_width": null,
            "border": null,
            "align_items": null,
            "bottom": null,
            "_model_module": "@jupyter-widgets/base",
            "top": null,
            "grid_column": null,
            "overflow_y": null,
            "overflow_x": null,
            "grid_auto_flow": null,
            "grid_area": null,
            "grid_template_columns": null,
            "flex": null,
            "_model_name": "LayoutModel",
            "justify_items": null,
            "grid_row": null,
            "max_height": null,
            "align_content": null,
            "visibility": null,
            "align_self": null,
            "height": null,
            "min_height": null,
            "padding": null,
            "grid_auto_rows": null,
            "grid_gap": null,
            "max_width": null,
            "order": null,
            "_view_module_version": "1.2.0",
            "grid_template_areas": null,
            "object_position": null,
            "object_fit": null,
            "grid_auto_columns": null,
            "margin": null,
            "display": null,
            "left": null
          }
        },
        "7c02801c76274e37aceef7289f49bf59": {
          "model_module": "@jupyter-widgets/controls",
          "model_name": "FloatProgressModel",
          "state": {
            "_view_name": "ProgressView",
            "style": "IPY_MODEL_ef3940e883104f22b5838ca08ce51d0e",
            "_dom_classes": [],
            "description": "Downloading: 100%",
            "_model_name": "FloatProgressModel",
            "bar_style": "success",
            "max": 1083389348,
            "_view_module": "@jupyter-widgets/controls",
            "_model_module_version": "1.5.0",
            "value": 1083389348,
            "_view_count": null,
            "_view_module_version": "1.5.0",
            "orientation": "horizontal",
            "min": 0,
            "description_tooltip": null,
            "_model_module": "@jupyter-widgets/controls",
            "layout": "IPY_MODEL_699f13868f2244f18f0063179ba72564"
          }
        },
        "ea0071d81b2048e6ba645f77bf1c2d88": {
          "model_module": "@jupyter-widgets/controls",
          "model_name": "HTMLModel",
          "state": {
            "_view_name": "HTMLView",
            "style": "IPY_MODEL_c8d7d5c4c0d740f9abfe27af96d4ef22",
            "_dom_classes": [],
            "description": "",
            "_model_name": "HTMLModel",
            "placeholder": "​",
            "_view_module": "@jupyter-widgets/controls",
            "_model_module_version": "1.5.0",
            "value": " 1.08G/1.08G [00:24&lt;00:00, 43.8MB/s]",
            "_view_count": null,
            "_view_module_version": "1.5.0",
            "description_tooltip": null,
            "_model_module": "@jupyter-widgets/controls",
            "layout": "IPY_MODEL_dce258b1ee884e40aa8ef7d0a847f8d0"
          }
        },
        "ef3940e883104f22b5838ca08ce51d0e": {
          "model_module": "@jupyter-widgets/controls",
          "model_name": "ProgressStyleModel",
          "state": {
            "_view_name": "StyleView",
            "_model_name": "ProgressStyleModel",
            "description_width": "initial",
            "_view_module": "@jupyter-widgets/base",
            "_model_module_version": "1.5.0",
            "_view_count": null,
            "_view_module_version": "1.2.0",
            "bar_color": null,
            "_model_module": "@jupyter-widgets/controls"
          }
        },
        "699f13868f2244f18f0063179ba72564": {
          "model_module": "@jupyter-widgets/base",
          "model_name": "LayoutModel",
          "state": {
            "_view_name": "LayoutView",
            "grid_template_rows": null,
            "right": null,
            "justify_content": null,
            "_view_module": "@jupyter-widgets/base",
            "overflow": null,
            "_model_module_version": "1.2.0",
            "_view_count": null,
            "flex_flow": null,
            "width": null,
            "min_width": null,
            "border": null,
            "align_items": null,
            "bottom": null,
            "_model_module": "@jupyter-widgets/base",
            "top": null,
            "grid_column": null,
            "overflow_y": null,
            "overflow_x": null,
            "grid_auto_flow": null,
            "grid_area": null,
            "grid_template_columns": null,
            "flex": null,
            "_model_name": "LayoutModel",
            "justify_items": null,
            "grid_row": null,
            "max_height": null,
            "align_content": null,
            "visibility": null,
            "align_self": null,
            "height": null,
            "min_height": null,
            "padding": null,
            "grid_auto_rows": null,
            "grid_gap": null,
            "max_width": null,
            "order": null,
            "_view_module_version": "1.2.0",
            "grid_template_areas": null,
            "object_position": null,
            "object_fit": null,
            "grid_auto_columns": null,
            "margin": null,
            "display": null,
            "left": null
          }
        },
        "c8d7d5c4c0d740f9abfe27af96d4ef22": {
          "model_module": "@jupyter-widgets/controls",
          "model_name": "DescriptionStyleModel",
          "state": {
            "_view_name": "StyleView",
            "_model_name": "DescriptionStyleModel",
            "description_width": "",
            "_view_module": "@jupyter-widgets/base",
            "_model_module_version": "1.5.0",
            "_view_count": null,
            "_view_module_version": "1.2.0",
            "_model_module": "@jupyter-widgets/controls"
          }
        },
        "dce258b1ee884e40aa8ef7d0a847f8d0": {
          "model_module": "@jupyter-widgets/base",
          "model_name": "LayoutModel",
          "state": {
            "_view_name": "LayoutView",
            "grid_template_rows": null,
            "right": null,
            "justify_content": null,
            "_view_module": "@jupyter-widgets/base",
            "overflow": null,
            "_model_module_version": "1.2.0",
            "_view_count": null,
            "flex_flow": null,
            "width": null,
            "min_width": null,
            "border": null,
            "align_items": null,
            "bottom": null,
            "_model_module": "@jupyter-widgets/base",
            "top": null,
            "grid_column": null,
            "overflow_y": null,
            "overflow_x": null,
            "grid_auto_flow": null,
            "grid_area": null,
            "grid_template_columns": null,
            "flex": null,
            "_model_name": "LayoutModel",
            "justify_items": null,
            "grid_row": null,
            "max_height": null,
            "align_content": null,
            "visibility": null,
            "align_self": null,
            "height": null,
            "min_height": null,
            "padding": null,
            "grid_auto_rows": null,
            "grid_gap": null,
            "max_width": null,
            "order": null,
            "_view_module_version": "1.2.0",
            "grid_template_areas": null,
            "object_position": null,
            "object_fit": null,
            "grid_auto_columns": null,
            "margin": null,
            "display": null,
            "left": null
          }
        }
      }
    }
  },
  "cells": [
    {
      "cell_type": "code",
      "metadata": {
        "id": "KZjVRVKHqLCe"
      },
      "source": [
        "#Google drive save session\n",
        "import os\n",
        "import dill\n",
        "from google.colab import drive\n",
        "\n",
        "backup_dir = 'drive/My Drive/coadalab/Tamil'\n",
        "backup_file = 'notebook_env.db'\n",
        "backup_path = backup_dir + '/' + backup_file\n",
        "\n",
        "def init_drive():\n",
        "  # create directory if not exist\n",
        "  drive.mount('drive')\n",
        "  if not os.path.exists(backup_dir):\n",
        "    !mkdir backup_dir\n",
        "\n",
        "def restart_kernel():\n",
        "  os._exit(00)\n",
        "\n",
        "def save_session():\n",
        "  init_drive()\n",
        "  dill.dump_session(backup_path)\n",
        "\n",
        "def load_session():\n",
        "  init_drive()\n",
        "  dill.load_session(backup_path)"
      ],
      "execution_count": null,
      "outputs": []
    },
    {
      "cell_type": "code",
      "metadata": {
        "id": "Z_tGoy3vQDIj"
      },
      "source": [
        "# And pandas for data import\n",
        "import pandas as pd"
      ],
      "execution_count": 1,
      "outputs": []
    },
    {
      "cell_type": "code",
      "metadata": {
        "colab": {
          "base_uri": "https://localhost:8080/"
        },
        "id": "nGmDyhiFQnmS",
        "outputId": "bb5319eb-e89a-48d8-e1e4-475cb6da2f30"
      },
      "source": [
        "# Import Files\n",
        "import os\n",
        "\n",
        "# Import data from csv\n",
        "data = pd.read_csv(\"/tmp/tamil_offensive_full_train.csv\")\n",
        "data_dev = pd.read_csv(\"/tmp/tamil_offensive_full_dev.csv\")\n",
        "\n",
        "# Select required columns\n",
        "data = data[['text', 'label']]\n",
        "data_dev = data_dev[['text', 'label']]\n",
        "\n",
        "# Remove a row if any of the two remaining columns are missing\n",
        "data = data.dropna();\n",
        "data_dev = data_dev.dropna()\n",
        "\n",
        "print(data)\n",
        "print(data_dev)"
      ],
      "execution_count": 7,
      "outputs": [
        {
          "output_type": "stream",
          "text": [
            "                                                    text                                label\n",
            "0                      movie vara level la Erika poguthu                        Not_offensive\n",
            "1      I love Ajith Kumar Vivegam movie inki mjy bht ...                            not-Tamil\n",
            "2              Padam nalla comedy padama irukum polaye..                        Not_offensive\n",
            "3      karthick subburaj anne .... intha padam vetri ...                        Not_offensive\n",
            "4      கவுண்டர் தேவர்.சார்பாக வெற்றி பெற வாழ்த்துக்கள் 🦁                        Not_offensive\n",
            "...                                                  ...                                  ...\n",
            "35134  Trending number #2 idhukku nammalam karanamnu ...                        Not_offensive\n",
            "35135                                 Movie script super   athuvum HIP HOP Tamizha music vera\n",
            "35136                       Just 3k likes for 300k likes                        Not_offensive\n",
            "35137                          Aaloo le lo. Kanda le lo.                            not-Tamil\n",
            "35138  நாமக்கல் மாவட்டம்  வன்னியர் சார்பாக திரௌபதி பட...                        Not_offensive\n",
            "\n",
            "[34863 rows x 2 columns]\n",
            "                                                   text                            label\n",
            "0                     Handsome hunk  keri vaa thalaivaa                    Not_offensive\n",
            "1     தென்காசி மாவட்டம் நாடார் சமுதாயம் சார்பாக வாழ்...                    Not_offensive\n",
            "2     je vous aime bravo pour clip de merde que j éc...                        not-Tamil\n",
            "3     சிறப்பு..... மேலும் இது போன்ற படைப்புகள் மிக அ...                    Not_offensive\n",
            "4                   Vera level BGM .. semma  trailer. 🤞                    Not_offensive\n",
            "...                                                 ...                              ...\n",
            "4383  மிஷ்கின்  - சினிமாவின் சலித்து போன வட்டத்திற்க...                    Not_offensive\n",
            "4384  Sivaji - Bhajii Sapdu Petta - Sweet Sapdu  Ser...                  Same Modulation\n",
            "4385                     8k dislike sure all vijay fans  Offensive_Targeted_Insult_Other\n",
            "4386        Lady super star Manju warrier Fans Hit like                    Not_offensive\n",
            "4387  Very nice .......kandippa theater la paakanum paa                    Not_offensive\n",
            "\n",
            "[4354 rows x 2 columns]\n"
          ],
          "name": "stdout"
        },
        {
          "output_type": "stream",
          "text": [
            "/usr/local/lib/python3.6/dist-packages/IPython/core/interactiveshell.py:2718: DtypeWarning: Columns (13,14,16,17,18,20,21,22,23,24,25,26,27,28,29,32,35,37,39,45,57,58) have mixed types.Specify dtype option on import or set low_memory=False.\n",
            "  interactivity=interactivity, compiler=compiler, result=result)\n"
          ],
          "name": "stderr"
        }
      ]
    },
    {
      "cell_type": "code",
      "metadata": {
        "id": "5jCgHcJSmILF"
      },
      "source": [
        "# copy + klearn because you allways need sklearn\n",
        "import copy\n",
        "from sklearn.model_selection import train_test_split"
      ],
      "execution_count": 8,
      "outputs": []
    },
    {
      "cell_type": "code",
      "metadata": {
        "colab": {
          "base_uri": "https://localhost:8080/"
        },
        "id": "XcjLMKKbT3En",
        "outputId": "283bc0f7-9cea-4e6f-fa2e-92007daffe73"
      },
      "source": [
        "# Remove rows, where the label is present only ones (can't be split)\n",
        "data = data.groupby('label').filter(lambda x : len(x) > 1)\n",
        "data_dev = data_dev.groupby('label').filter(lambda x : len(x) > 1)\n",
        "\n",
        "# Remove rows, where the label is present only in the array\n",
        "data = data[data.label.isin(['Not_offensive', 'Offensive_Targeted_Insult_Other', 'Offensive_Targeted_Insult_Individual', 'Offensive_Targeted_Insult_Group', 'not-Tamil', 'Offensive_Untargetede'])]\n",
        "data_dev = data_dev[data_dev.label.isin(['Not_offensive', 'Offensive_Targeted_Insult_Other', 'Offensive_Targeted_Insult_Individual', 'Offensive_Targeted_Insult_Group', 'not-Tamil', 'Offensive_Untargetede'])]\n",
        "\n",
        "# Set your model output as categorical and save in new label col\n",
        "data['label_label'] = pd.Categorical(data['label'])\n",
        "data_dev['label_label'] = pd.Categorical(data_dev['label'])\n",
        "\n",
        "# Transform your output to numeric\n",
        "data['label'] = data['label_label'].cat.codes\n",
        "data_dev['label'] = data_dev['label_label'].cat.codes\n",
        "\n",
        "print(data)\n",
        "print(data_dev)"
      ],
      "execution_count": 9,
      "outputs": [
        {
          "output_type": "stream",
          "text": [
            "                                                    text  ...                           label_label\n",
            "0                      movie vara level la Erika poguthu  ...                         Not_offensive\n",
            "1      I love Ajith Kumar Vivegam movie inki mjy bht ...  ...                             not-Tamil\n",
            "2              Padam nalla comedy padama irukum polaye..  ...                         Not_offensive\n",
            "3      karthick subburaj anne .... intha padam vetri ...  ...                         Not_offensive\n",
            "4      கவுண்டர் தேவர்.சார்பாக வெற்றி பெற வாழ்த்துக்கள் 🦁  ...                         Not_offensive\n",
            "...                                                  ...  ...                                   ...\n",
            "35133  inda pathi like thala fans um thandrukanga da ...  ...  Offensive_Targeted_Insult_Individual\n",
            "35134  Trending number #2 idhukku nammalam karanamnu ...  ...                         Not_offensive\n",
            "35136                       Just 3k likes for 300k likes  ...                         Not_offensive\n",
            "35137                          Aaloo le lo. Kanda le lo.  ...                             not-Tamil\n",
            "35138  நாமக்கல் மாவட்டம்  வன்னியர் சார்பாக திரௌபதி பட...  ...                         Not_offensive\n",
            "\n",
            "[32286 rows x 3 columns]\n",
            "                                                   text  ...                      label_label\n",
            "0                     Handsome hunk  keri vaa thalaivaa  ...                    Not_offensive\n",
            "1     தென்காசி மாவட்டம் நாடார் சமுதாயம் சார்பாக வாழ்...  ...                    Not_offensive\n",
            "2     je vous aime bravo pour clip de merde que j éc...  ...                        not-Tamil\n",
            "3     சிறப்பு..... மேலும் இது போன்ற படைப்புகள் மிக அ...  ...                    Not_offensive\n",
            "4                   Vera level BGM .. semma  trailer. 🤞  ...                    Not_offensive\n",
            "...                                                 ...  ...                              ...\n",
            "4382  3 Times kku mela pathavanga yarellam like pann...  ...                    Not_offensive\n",
            "4383  மிஷ்கின்  - சினிமாவின் சலித்து போன வட்டத்திற்க...  ...                    Not_offensive\n",
            "4385                     8k dislike sure all vijay fans  ...  Offensive_Targeted_Insult_Other\n",
            "4386        Lady super star Manju warrier Fans Hit like  ...                    Not_offensive\n",
            "4387  Very nice .......kandippa theater la paakanum paa  ...                    Not_offensive\n",
            "\n",
            "[4034 rows x 3 columns]\n"
          ],
          "name": "stdout"
        }
      ]
    },
    {
      "cell_type": "code",
      "metadata": {
        "colab": {
          "base_uri": "https://localhost:8080/",
          "height": 296
        },
        "id": "4UZgGSxiQwEe",
        "outputId": "20e0a410-52a5-4718-8083-f9e6cb29c044"
      },
      "source": [
        "#Plot the bar chart of Train\n",
        "import seaborn as sns\n",
        "\n",
        "sns.countplot(x='label', data=data)"
      ],
      "execution_count": 10,
      "outputs": [
        {
          "output_type": "execute_result",
          "data": {
            "text/plain": [
              "<matplotlib.axes._subplots.AxesSubplot at 0x7eff68e66b38>"
            ]
          },
          "metadata": {
            "tags": []
          },
          "execution_count": 10
        },
        {
          "output_type": "display_data",
          "data": {
            "image/png": "[encoded data removed]",
            "text/plain": [
              "<Figure size 432x288 with 1 Axes>"
            ]
          },
          "metadata": {
            "tags": [],
            "needs_background": "light"
          }
        }
      ]
    },
    {
      "cell_type": "code",
      "metadata": {
        "colab": {
          "base_uri": "https://localhost:8080/",
          "height": 296
        },
        "id": "HQ98iitSQyOs",
        "outputId": "52420caf-ea56-4714-a382-d54c94cead77"
      },
      "source": [
        "#Plot the bar chart of Dev\n",
        "sns.countplot(x='label', data=data_dev)"
      ],
      "execution_count": 11,
      "outputs": [
        {
          "output_type": "execute_result",
          "data": {
            "text/plain": [
              "<matplotlib.axes._subplots.AxesSubplot at 0x7eff68632eb8>"
            ]
          },
          "metadata": {
            "tags": []
          },
          "execution_count": 11
        },
        {
          "output_type": "display_data",
          "data": {
            "image/png": "[encoded data removed]",
            "text/plain": [
              "<Figure size 432x288 with 1 Axes>"
            ]
          },
          "metadata": {
            "tags": [],
            "needs_background": "light"
          }
        }
      ]
    },
    {
      "cell_type": "code",
      "metadata": {
        "id": "HjNECnjyfhN5",
        "colab": {
          "base_uri": "https://localhost:8080/"
        },
        "outputId": "c54e07f7-3ac2-487f-f20c-59c6a7abf787"
      },
      "source": [
        "# Load Huggingface transformers\n",
        "!pip install transformers\n",
        "from transformers import TFBertModel,  BertConfig, BertTokenizerFast\n",
        "from tensorflow.keras.models import Model"
      ],
      "execution_count": 12,
      "outputs": [
        {
          "output_type": "stream",
          "text": [
            "Collecting transformers\n",
            "\u001b[?25l  Downloading https://files.pythonhosted.org/packages/50/0c/7d5950fcd80b029be0a8891727ba21e0cd27692c407c51261c3c921f6da3/transformers-4.1.1-py3-none-any.whl (1.5MB)\n",
            "\u001b[K     |████████████████████████████████| 1.5MB 13.0MB/s \n",
            "\u001b[?25hCollecting tokenizers==0.9.4\n",
            "\u001b[?25l  Downloading https://files.pythonhosted.org/packages/0f/1c/e789a8b12e28be5bc1ce2156cf87cb522b379be9cadc7ad8091a4cc107c4/tokenizers-0.9.4-cp36-cp36m-manylinux2010_x86_64.whl (2.9MB)\n",
            "\u001b[K     |████████████████████████████████| 2.9MB 19.4MB/s \n",
            "\u001b[?25hRequirement already satisfied: dataclasses; python_version < \"3.7\" in /usr/local/lib/python3.6/dist-packages (from transformers) (0.8)\n",
            "Requirement already satisfied: tqdm>=4.27 in /usr/local/lib/python3.6/dist-packages (from transformers) (4.41.1)\n",
            "Collecting sacremoses\n",
            "\u001b[?25l  Downloading https://files.pythonhosted.org/packages/7d/34/09d19aff26edcc8eb2a01bed8e98f13a1537005d31e95233fd48216eed10/sacremoses-0.0.43.tar.gz (883kB)\n",
            "\u001b[K     |████████████████████████████████| 890kB 70.7MB/s \n",
            "\u001b[?25hRequirement already satisfied: regex!=2019.12.17 in /usr/local/lib/python3.6/dist-packages (from transformers) (2019.12.20)\n",
            "Requirement already satisfied: numpy in /usr/local/lib/python3.6/dist-packages (from transformers) (1.19.4)\n",
            "Requirement already satisfied: packaging in /usr/local/lib/python3.6/dist-packages (from transformers) (20.8)\n",
            "Requirement already satisfied: requests in /usr/local/lib/python3.6/dist-packages (from transformers) (2.23.0)\n",
            "Requirement already satisfied: filelock in /usr/local/lib/python3.6/dist-packages (from transformers) (3.0.12)\n",
            "Requirement already satisfied: six in /usr/local/lib/python3.6/dist-packages (from sacremoses->transformers) (1.15.0)\n",
            "Requirement already satisfied: click in /usr/local/lib/python3.6/dist-packages (from sacremoses->transformers) (7.1.2)\n",
            "Requirement already satisfied: joblib in /usr/local/lib/python3.6/dist-packages (from sacremoses->transformers) (1.0.0)\n",
            "Requirement already satisfied: pyparsing>=2.0.2 in /usr/local/lib/python3.6/dist-packages (from packaging->transformers) (2.4.7)\n",
            "Requirement already satisfied: idna<3,>=2.5 in /usr/local/lib/python3.6/dist-packages (from requests->transformers) (2.10)\n",
            "Requirement already satisfied: chardet<4,>=3.0.2 in /usr/local/lib/python3.6/dist-packages (from requests->transformers) (3.0.4)\n",
            "Requirement already satisfied: urllib3!=1.25.0,!=1.25.1,<1.26,>=1.21.1 in /usr/local/lib/python3.6/dist-packages (from requests->transformers) (1.24.3)\n",
            "Requirement already satisfied: certifi>=2017.4.17 in /usr/local/lib/python3.6/dist-packages (from requests->transformers) (2020.12.5)\n",
            "Building wheels for collected packages: sacremoses\n",
            "  Building wheel for sacremoses (setup.py) ... \u001b[?25l\u001b[?25hdone\n",
            "  Created wheel for sacremoses: filename=sacremoses-0.0.43-cp36-none-any.whl size=893261 sha256=ff9e2541f081066ba10636f98929b993b021745c0f6ebe599ea529aef3d02216\n",
            "  Stored in directory: /root/.cache/pip/wheels/29/3c/fd/7ce5c3f0666dab31a50123635e6fb5e19ceb42ce38d4e58f45\n",
            "Successfully built sacremoses\n",
            "Installing collected packages: tokenizers, sacremoses, transformers\n",
            "Successfully installed sacremoses-0.0.43 tokenizers-0.9.4 transformers-4.1.1\n"
          ],
          "name": "stdout"
        }
      ]
    },
    {
      "cell_type": "code",
      "metadata": {
        "colab": {
          "base_uri": "https://localhost:8080/",
          "height": 318,
          "referenced_widgets": [
            "3ae365ce0d654cd8ad094fe6044cddd7",
            "8219af8b345f49d7851470797346d67e",
            "70f0829341804840ab62273367ea5aad",
            "c46e3c8c62ae413dab44744ba4d562a2",
            "a69635d91be24ec1b6d21903924707a1",
            "fefa2c4b973d4890908985a78cbff358",
            "c9940e943cb14de09a625ce7b948bab0",
            "f9996c37c676401290680536fdd73e74",
            "d642a2ceb1a842459a1e9b40817fc4aa",
            "91d1621e5df94f16bf7e4e3dfe860d7a",
            "0c63355f3e7c4c049f5f137c6adff592",
            "f2658a11778943c8b3d14a2eeacdf7e7",
            "ebd97573a2a74863a4ea182dc61e109a",
            "a7f554b2f5844474a419fa2417c2661d",
            "4e335f5ad95140ef8b8fef8a3a7cc8ea",
            "12bf69899b704688a0fc43cbefbe94dc",
            "4b59a80bb0bc409db3aad229d88eab40",
            "8703d22d0b504a7496ff55a9ee41b34d",
            "2e60d657dc5f4829984acacda3fd3cc4",
            "17c3c6118ed04c9f8370f0a2fa5a4c4f",
            "4de0cba4689a445c944a1df7949058e6",
            "0858a4731b01432f9119e3cbe9eda2c2",
            "b0a55626c620451890bb00af5be3565a",
            "84e6ec6edf1a4f4da52f198a61fa7178",
            "e30ecbedb148420f9de1d7cab4adadfd",
            "fc186446fad44ed4b3d2b735a2ec6e40",
            "7c02801c76274e37aceef7289f49bf59",
            "ea0071d81b2048e6ba645f77bf1c2d88",
            "ef3940e883104f22b5838ca08ce51d0e",
            "699f13868f2244f18f0063179ba72564",
            "c8d7d5c4c0d740f9abfe27af96d4ef22",
            "dce258b1ee884e40aa8ef7d0a847f8d0"
          ]
        },
        "id": "mkvZJs5QQ-KG",
        "outputId": "b6eb95ef-c23d-488e-a8b3-7d8c46fed240"
      },
      "source": [
        "#Setup BERT\n",
        "\n",
        "# Name of the BERT model to use\n",
        "model_name = 'bert-base-multilingual-cased'\n",
        "\n",
        "# Load transformers config and set output_hidden_states to False\n",
        "config = BertConfig.from_pretrained(model_name)\n",
        "config.output_hidden_states = False\n",
        "\n",
        "# Load BERT tokenizer\n",
        "tokenizer = BertTokenizerFast.from_pretrained(pretrained_model_name_or_path = model_name, config = config)\n",
        "\n",
        "# Load the Transformers BERT model\n",
        "transformer_model = TFBertModel.from_pretrained(model_name, config = config)"
      ],
      "execution_count": 13,
      "outputs": [
        {
          "output_type": "display_data",
          "data": {
            "application/vnd.jupyter.widget-view+json": {
              "model_id": "3ae365ce0d654cd8ad094fe6044cddd7",
              "version_minor": 0,
              "version_major": 2
            },
            "text/plain": [
              "HBox(children=(FloatProgress(value=0.0, description='Downloading', max=625.0, style=ProgressStyle(description_…"
            ]
          },
          "metadata": {
            "tags": []
          }
        },
        {
          "output_type": "stream",
          "text": [
            "\n"
          ],
          "name": "stdout"
        },
        {
          "output_type": "display_data",
          "data": {
            "application/vnd.jupyter.widget-view+json": {
              "model_id": "d642a2ceb1a842459a1e9b40817fc4aa",
              "version_minor": 0,
              "version_major": 2
            },
            "text/plain": [
              "HBox(children=(FloatProgress(value=0.0, description='Downloading', max=995526.0, style=ProgressStyle(descripti…"
            ]
          },
          "metadata": {
            "tags": []
          }
        },
        {
          "output_type": "stream",
          "text": [
            "\n"
          ],
          "name": "stdout"
        },
        {
          "output_type": "display_data",
          "data": {
            "application/vnd.jupyter.widget-view+json": {
              "model_id": "4b59a80bb0bc409db3aad229d88eab40",
              "version_minor": 0,
              "version_major": 2
            },
            "text/plain": [
              "HBox(children=(FloatProgress(value=0.0, description='Downloading', max=1961828.0, style=ProgressStyle(descript…"
            ]
          },
          "metadata": {
            "tags": []
          }
        },
        {
          "output_type": "stream",
          "text": [
            "\n"
          ],
          "name": "stdout"
        },
        {
          "output_type": "display_data",
          "data": {
            "application/vnd.jupyter.widget-view+json": {
              "model_id": "e30ecbedb148420f9de1d7cab4adadfd",
              "version_minor": 0,
              "version_major": 2
            },
            "text/plain": [
              "HBox(children=(FloatProgress(value=0.0, description='Downloading', max=1083389348.0, style=ProgressStyle(descr…"
            ]
          },
          "metadata": {
            "tags": []
          }
        },
        {
          "output_type": "stream",
          "text": [
            "\n"
          ],
          "name": "stdout"
        },
        {
          "output_type": "stream",
          "text": [
            "Some layers from the model checkpoint at bert-base-multilingual-cased were not used when initializing TFBertModel: ['nsp___cls', 'mlm___cls']\n",
            "- This IS expected if you are initializing TFBertModel from the checkpoint of a model trained on another task or with another architecture (e.g. initializing a BertForSequenceClassification model from a BertForPreTraining model).\n",
            "- This IS NOT expected if you are initializing TFBertModel from the checkpoint of a model that you expect to be exactly identical (initializing a BertForSequenceClassification model from a BertForSequenceClassification model).\n",
            "All the layers of TFBertModel were initialized from the model checkpoint at bert-base-multilingual-cased.\n",
            "If your task is similar to the task the model of the checkpoint was trained on, you can already use TFBertModel for predictions without further training.\n"
          ],
          "name": "stderr"
        }
      ]
    },
    {
      "cell_type": "code",
      "metadata": {
        "id": "lOh-kukFhNfh"
      },
      "source": [
        "# Then what you need from tensorflow.keras\n",
        "from tensorflow.keras.layers import Input, Dropout, Dense\n",
        "from tensorflow.keras.initializers import TruncatedNormal"
      ],
      "execution_count": 14,
      "outputs": []
    },
    {
      "cell_type": "code",
      "metadata": {
        "colab": {
          "base_uri": "https://localhost:8080/"
        },
        "id": "JklUuiM5Q_9D",
        "outputId": "47cf652e-bb6a-48c9-aa82-ed734129ab64"
      },
      "source": [
        "#Build the model \n",
        "\n",
        "# Load the MainLayer\n",
        "bert = transformer_model.layers[0]\n",
        "\n",
        "# Max length of tokens\n",
        "max_length = 100\n",
        "\n",
        "# Build your model input\n",
        "input_ids = Input(shape=(max_length,), name='input_ids', dtype='int32')\n",
        "attention_mask = Input(shape=(max_length,), name='attention_mask', dtype='int32')\n",
        "inputs = {'input_ids': input_ids, 'attention_mask': attention_mask}\n",
        "\n",
        "# Load the Transformers BERT model as a layer in a Keras model\n",
        "bert_model = bert(inputs)[1]\n",
        "dropout = Dropout(config.hidden_dropout_prob, name='pooled_output')\n",
        "pooled_output = dropout(bert_model, training=False)\n",
        "\n",
        "# Then build your model output\n",
        "label = Dense(units=len(data.label_label.value_counts()), kernel_initializer=TruncatedNormal(stddev=config.initializer_range), name='class_type')(pooled_output)\n",
        "outputs = {'label': label}\n",
        "\n",
        "# And combine it all in a model object\n",
        "model = Model(inputs=inputs, outputs=outputs, name='bert-base-multilingual-cased')\n",
        "\n",
        "# Take a look at the model\n",
        "model.summary()"
      ],
      "execution_count": 15,
      "outputs": [
        {
          "output_type": "stream",
          "text": [
            "Model: \"bert-base-multilingual-cased\"\n",
            "__________________________________________________________________________________________________\n",
            "Layer (type)                    Output Shape         Param #     Connected to                     \n",
            "==================================================================================================\n",
            "attention_mask (InputLayer)     [(None, 100)]        0                                            \n",
            "__________________________________________________________________________________________________\n",
            "input_ids (InputLayer)          [(None, 100)]        0                                            \n",
            "__________________________________________________________________________________________________\n",
            "bert (TFBertMainLayer)          TFBaseModelOutputWit 177853440   attention_mask[0][0]             \n",
            "                                                                 input_ids[0][0]                  \n",
            "__________________________________________________________________________________________________\n",
            "pooled_output (Dropout)         (None, 768)          0           bert[0][1]                       \n",
            "__________________________________________________________________________________________________\n",
            "class_type (Dense)              (None, 6)            4614        pooled_output[0][0]              \n",
            "==================================================================================================\n",
            "Total params: 177,858,054\n",
            "Trainable params: 177,858,054\n",
            "Non-trainable params: 0\n",
            "__________________________________________________________________________________________________\n"
          ],
          "name": "stdout"
        }
      ]
    },
    {
      "cell_type": "code",
      "metadata": {
        "id": "POHXwS79foUE"
      },
      "source": [
        "#Import Keras Libraries\n",
        "from tensorflow.keras.optimizers import Adam\n",
        "from tensorflow.keras.callbacks import EarlyStopping\n",
        "from tensorflow.keras.losses import CategoricalCrossentropy\n",
        "from tensorflow.keras.metrics import CategoricalAccuracy\n",
        "from tensorflow.keras.utils import to_categorical"
      ],
      "execution_count": 16,
      "outputs": []
    },
    {
      "cell_type": "code",
      "metadata": {
        "colab": {
          "base_uri": "https://localhost:8080/"
        },
        "id": "BNfuPB_DRCWq",
        "outputId": "83f5ae4e-c39b-4a0b-e021-5a4160d93c9a"
      },
      "source": [
        "#Train the model\n",
        "\n",
        "# Set an optimizer\n",
        "optimizer = Adam(\n",
        "    learning_rate=5e-05,\n",
        "    epsilon=1e-08,\n",
        "    decay=0.01,\n",
        "    clipnorm=1.0)\n",
        "\n",
        "# Set loss and metrics\n",
        "loss = {'label': CategoricalCrossentropy(from_logits = True)}\n",
        "metric = {'label': CategoricalAccuracy('accuracy')}\n",
        "\n",
        "# Compile the model\n",
        "model.compile(\n",
        "    optimizer = optimizer,\n",
        "    loss = loss, \n",
        "    metrics = metric)\n",
        "\n",
        "# Ready output data for the model\n",
        "y_label = to_categorical(data['label'])\n",
        "\n",
        "# Tokenize the input (takes some time)\n",
        "x = tokenizer(\n",
        "    text=data['text'].to_list(),\n",
        "    add_special_tokens=True,\n",
        "    max_length=max_length,\n",
        "    truncation=True,\n",
        "    padding=True, \n",
        "    return_tensors='tf',\n",
        "    return_token_type_ids = False,\n",
        "    return_attention_mask = True,\n",
        "    verbose = True)\n",
        "\n",
        "# Fit the model\n",
        "history = model.fit(\n",
        "    x={'input_ids': x['input_ids'], 'attention_mask': x['attention_mask']},\n",
        "    y={'label': y_label},\n",
        "    validation_split=0.2,\n",
        "    batch_size=64,\n",
        "    epochs=50)\n",
        "\n",
        "model.save(\"/tmp/text-classification-multi.h5\")"
      ],
      "execution_count": 18,
      "outputs": [
        {
          "output_type": "stream",
          "text": [
            "Epoch 1/50\n",
            "404/404 [==============================] - 204s 457ms/step - loss: 0.9323 - accuracy: 0.7153 - val_loss: 0.7145 - val_accuracy: 0.7645\n",
            "Epoch 2/50\n",
            "404/404 [==============================] - 182s 451ms/step - loss: 0.6759 - accuracy: 0.7666 - val_loss: 0.6678 - val_accuracy: 0.7756\n",
            "Epoch 3/50\n",
            "404/404 [==============================] - 182s 450ms/step - loss: 0.5926 - accuracy: 0.7911 - val_loss: 0.6702 - val_accuracy: 0.7762\n",
            "Epoch 4/50\n",
            "404/404 [==============================] - 182s 451ms/step - loss: 0.5480 - accuracy: 0.8027 - val_loss: 0.6804 - val_accuracy: 0.7663\n",
            "Epoch 5/50\n",
            "404/404 [==============================] - 183s 453ms/step - loss: 0.5037 - accuracy: 0.8221 - val_loss: 0.6877 - val_accuracy: 0.7742\n",
            "Epoch 6/50\n",
            "404/404 [==============================] - 182s 451ms/step - loss: 0.4753 - accuracy: 0.8353 - val_loss: 0.7032 - val_accuracy: 0.7722\n",
            "Epoch 7/50\n",
            "404/404 [==============================] - 182s 451ms/step - loss: 0.4573 - accuracy: 0.8408 - val_loss: 0.7080 - val_accuracy: 0.7749\n",
            "Epoch 8/50\n",
            "404/404 [==============================] - 182s 451ms/step - loss: 0.4473 - accuracy: 0.8463 - val_loss: 0.7236 - val_accuracy: 0.7642\n",
            "Epoch 9/50\n",
            "404/404 [==============================] - 182s 451ms/step - loss: 0.4275 - accuracy: 0.8543 - val_loss: 0.7384 - val_accuracy: 0.7643\n",
            "Epoch 10/50\n",
            "404/404 [==============================] - 182s 451ms/step - loss: 0.4203 - accuracy: 0.8562 - val_loss: 0.7634 - val_accuracy: 0.7682\n",
            "Epoch 11/50\n",
            "404/404 [==============================] - 182s 452ms/step - loss: 0.3986 - accuracy: 0.8633 - val_loss: 0.7513 - val_accuracy: 0.7618\n",
            "Epoch 12/50\n",
            "404/404 [==============================] - 182s 452ms/step - loss: 0.3820 - accuracy: 0.8712 - val_loss: 0.7681 - val_accuracy: 0.7653\n",
            "Epoch 13/50\n",
            "404/404 [==============================] - 182s 451ms/step - loss: 0.3840 - accuracy: 0.8687 - val_loss: 0.7763 - val_accuracy: 0.7631\n",
            "Epoch 14/50\n",
            "404/404 [==============================] - 182s 452ms/step - loss: 0.3823 - accuracy: 0.8738 - val_loss: 0.7819 - val_accuracy: 0.7640\n",
            "Epoch 15/50\n",
            "404/404 [==============================] - 182s 451ms/step - loss: 0.3662 - accuracy: 0.8755 - val_loss: 0.7861 - val_accuracy: 0.7643\n",
            "Epoch 16/50\n",
            "404/404 [==============================] - 182s 452ms/step - loss: 0.3550 - accuracy: 0.8801 - val_loss: 0.8014 - val_accuracy: 0.7634\n",
            "Epoch 17/50\n",
            "404/404 [==============================] - 182s 452ms/step - loss: 0.3601 - accuracy: 0.8793 - val_loss: 0.8043 - val_accuracy: 0.7662\n",
            "Epoch 18/50\n",
            "404/404 [==============================] - 182s 451ms/step - loss: 0.3433 - accuracy: 0.8861 - val_loss: 0.8143 - val_accuracy: 0.7634\n",
            "Epoch 19/50\n",
            "404/404 [==============================] - 182s 451ms/step - loss: 0.3435 - accuracy: 0.8859 - val_loss: 0.8149 - val_accuracy: 0.7620\n",
            "Epoch 20/50\n",
            "404/404 [==============================] - 182s 451ms/step - loss: 0.3289 - accuracy: 0.8933 - val_loss: 0.8244 - val_accuracy: 0.7631\n",
            "Epoch 21/50\n",
            "404/404 [==============================] - 182s 452ms/step - loss: 0.3233 - accuracy: 0.8942 - val_loss: 0.8334 - val_accuracy: 0.7618\n",
            "Epoch 22/50\n",
            "404/404 [==============================] - 182s 451ms/step - loss: 0.3161 - accuracy: 0.8959 - val_loss: 0.8392 - val_accuracy: 0.7612\n",
            "Epoch 23/50\n",
            "404/404 [==============================] - 182s 451ms/step - loss: 0.3211 - accuracy: 0.8957 - val_loss: 0.8371 - val_accuracy: 0.7618\n",
            "Epoch 24/50\n",
            "404/404 [==============================] - 182s 452ms/step - loss: 0.3228 - accuracy: 0.8942 - val_loss: 0.8337 - val_accuracy: 0.7569\n",
            "Epoch 25/50\n",
            "404/404 [==============================] - 182s 451ms/step - loss: 0.3061 - accuracy: 0.8997 - val_loss: 0.8471 - val_accuracy: 0.7611\n",
            "Epoch 26/50\n",
            "404/404 [==============================] - 183s 452ms/step - loss: 0.3083 - accuracy: 0.9012 - val_loss: 0.8472 - val_accuracy: 0.7632\n",
            "Epoch 27/50\n",
            "404/404 [==============================] - 182s 451ms/step - loss: 0.3124 - accuracy: 0.8977 - val_loss: 0.8439 - val_accuracy: 0.7629\n",
            "Epoch 28/50\n",
            "404/404 [==============================] - 182s 452ms/step - loss: 0.3078 - accuracy: 0.8955 - val_loss: 0.8492 - val_accuracy: 0.7629\n",
            "Epoch 29/50\n",
            "404/404 [==============================] - 182s 452ms/step - loss: 0.2986 - accuracy: 0.9046 - val_loss: 0.8629 - val_accuracy: 0.7598\n",
            "Epoch 30/50\n",
            "404/404 [==============================] - 182s 451ms/step - loss: 0.2905 - accuracy: 0.9039 - val_loss: 0.8628 - val_accuracy: 0.7614\n",
            "Epoch 31/50\n",
            "404/404 [==============================] - 182s 452ms/step - loss: 0.2931 - accuracy: 0.9049 - val_loss: 0.8617 - val_accuracy: 0.7594\n",
            "Epoch 32/50\n",
            "404/404 [==============================] - 182s 451ms/step - loss: 0.2873 - accuracy: 0.9078 - val_loss: 0.8667 - val_accuracy: 0.7609\n",
            "Epoch 33/50\n",
            "404/404 [==============================] - 182s 452ms/step - loss: 0.2864 - accuracy: 0.9091 - val_loss: 0.8756 - val_accuracy: 0.7605\n",
            "Epoch 34/50\n",
            "404/404 [==============================] - 183s 453ms/step - loss: 0.2885 - accuracy: 0.9048 - val_loss: 0.8797 - val_accuracy: 0.7617\n",
            "Epoch 35/50\n",
            "404/404 [==============================] - 182s 452ms/step - loss: 0.2949 - accuracy: 0.9039 - val_loss: 0.8797 - val_accuracy: 0.7618\n",
            "Epoch 36/50\n",
            "404/404 [==============================] - 183s 452ms/step - loss: 0.2833 - accuracy: 0.9086 - val_loss: 0.8763 - val_accuracy: 0.7629\n",
            "Epoch 37/50\n",
            "404/404 [==============================] - 182s 451ms/step - loss: 0.2827 - accuracy: 0.9080 - val_loss: 0.8849 - val_accuracy: 0.7609\n",
            "Epoch 38/50\n",
            "404/404 [==============================] - 182s 452ms/step - loss: 0.2616 - accuracy: 0.9169 - val_loss: 0.8900 - val_accuracy: 0.7617\n",
            "Epoch 39/50\n",
            "404/404 [==============================] - 182s 451ms/step - loss: 0.2709 - accuracy: 0.9118 - val_loss: 0.8880 - val_accuracy: 0.7622\n",
            "Epoch 40/50\n",
            "404/404 [==============================] - 183s 452ms/step - loss: 0.2718 - accuracy: 0.9151 - val_loss: 0.8934 - val_accuracy: 0.7622\n",
            "Epoch 41/50\n",
            "404/404 [==============================] - 183s 452ms/step - loss: 0.2756 - accuracy: 0.9117 - val_loss: 0.8962 - val_accuracy: 0.7600\n",
            "Epoch 42/50\n",
            "404/404 [==============================] - 182s 452ms/step - loss: 0.2673 - accuracy: 0.9117 - val_loss: 0.9006 - val_accuracy: 0.7605\n",
            "Epoch 43/50\n",
            "404/404 [==============================] - 182s 452ms/step - loss: 0.2663 - accuracy: 0.9135 - val_loss: 0.9083 - val_accuracy: 0.7632\n",
            "Epoch 44/50\n",
            "404/404 [==============================] - 182s 452ms/step - loss: 0.2672 - accuracy: 0.9142 - val_loss: 0.9079 - val_accuracy: 0.7632\n",
            "Epoch 45/50\n",
            "404/404 [==============================] - 182s 452ms/step - loss: 0.2555 - accuracy: 0.9192 - val_loss: 0.9073 - val_accuracy: 0.7622\n",
            "Epoch 46/50\n",
            "404/404 [==============================] - 183s 452ms/step - loss: 0.2577 - accuracy: 0.9176 - val_loss: 0.9086 - val_accuracy: 0.7606\n",
            "Epoch 47/50\n",
            "404/404 [==============================] - 182s 451ms/step - loss: 0.2618 - accuracy: 0.9177 - val_loss: 0.9105 - val_accuracy: 0.7584\n",
            "Epoch 48/50\n",
            "404/404 [==============================] - 182s 452ms/step - loss: 0.2568 - accuracy: 0.9178 - val_loss: 0.9154 - val_accuracy: 0.7614\n",
            "Epoch 49/50\n",
            "404/404 [==============================] - 182s 451ms/step - loss: 0.2539 - accuracy: 0.9197 - val_loss: 0.9201 - val_accuracy: 0.7611\n",
            "Epoch 50/50\n",
            "404/404 [==============================] - 182s 452ms/step - loss: 0.2490 - accuracy: 0.9181 - val_loss: 0.9218 - val_accuracy: 0.7612\n"
          ],
          "name": "stdout"
        }
      ]
    },
    {
      "cell_type": "code",
      "metadata": {
        "colab": {
          "base_uri": "https://localhost:8080/"
        },
        "id": "EhTU154uJWYI",
        "outputId": "50fd37eb-1371-4c91-ec35-119c58ff1721"
      },
      "source": [
        "# Model 2\n",
        "# Ready output data for the model\n",
        "y_label = to_categorical(data_dev['label'])\n",
        "\n",
        "# Tokenize the input (takes some time)\n",
        "x = tokenizer(\n",
        "    text=data_dev['text'].to_list(),\n",
        "    add_special_tokens=True,\n",
        "    max_length=max_length,\n",
        "    truncation=True,\n",
        "    padding=True, \n",
        "    return_tensors='tf',\n",
        "    return_token_type_ids = False,\n",
        "    return_attention_mask = True,\n",
        "    verbose = True)\n",
        "\n",
        "# Fit the model\n",
        "history = model.fit(\n",
        "    x={'input_ids': x['input_ids'], 'attention_mask': x['attention_mask']},\n",
        "    y={'label': y_label},\n",
        "    validation_split=0.2,\n",
        "    batch_size=64,\n",
        "    epochs=50)"
      ],
      "execution_count": 19,
      "outputs": [
        {
          "output_type": "stream",
          "text": [
            "Epoch 1/50\n",
            "51/51 [==============================] - 23s 450ms/step - loss: 0.8780 - accuracy: 0.7605 - val_loss: 0.9430 - val_accuracy: 0.7522\n",
            "Epoch 2/50\n",
            "51/51 [==============================] - 23s 449ms/step - loss: 0.8662 - accuracy: 0.7543 - val_loss: 0.9098 - val_accuracy: 0.7571\n",
            "Epoch 3/50\n",
            "51/51 [==============================] - 23s 449ms/step - loss: 0.8077 - accuracy: 0.7679 - val_loss: 0.8767 - val_accuracy: 0.7497\n",
            "Epoch 4/50\n",
            "51/51 [==============================] - 23s 449ms/step - loss: 0.7897 - accuracy: 0.7592 - val_loss: 0.8412 - val_accuracy: 0.7509\n",
            "Epoch 5/50\n",
            "51/51 [==============================] - 23s 452ms/step - loss: 0.7600 - accuracy: 0.7645 - val_loss: 0.8234 - val_accuracy: 0.7485\n",
            "Epoch 6/50\n",
            "51/51 [==============================] - 23s 450ms/step - loss: 0.7378 - accuracy: 0.7710 - val_loss: 0.8036 - val_accuracy: 0.7472\n",
            "Epoch 7/50\n",
            "51/51 [==============================] - 23s 449ms/step - loss: 0.7130 - accuracy: 0.7744 - val_loss: 0.7947 - val_accuracy: 0.7522\n",
            "Epoch 8/50\n",
            "51/51 [==============================] - 23s 448ms/step - loss: 0.6945 - accuracy: 0.7766 - val_loss: 0.7807 - val_accuracy: 0.7546\n",
            "Epoch 9/50\n",
            "51/51 [==============================] - 23s 449ms/step - loss: 0.6933 - accuracy: 0.7741 - val_loss: 0.7753 - val_accuracy: 0.7546\n",
            "Epoch 10/50\n",
            "51/51 [==============================] - 23s 449ms/step - loss: 0.6858 - accuracy: 0.7763 - val_loss: 0.7676 - val_accuracy: 0.7534\n",
            "Epoch 11/50\n",
            "51/51 [==============================] - 23s 448ms/step - loss: 0.6647 - accuracy: 0.7859 - val_loss: 0.7642 - val_accuracy: 0.7559\n",
            "Epoch 12/50\n",
            "51/51 [==============================] - 23s 449ms/step - loss: 0.6570 - accuracy: 0.7837 - val_loss: 0.7557 - val_accuracy: 0.7571\n",
            "Epoch 13/50\n",
            "51/51 [==============================] - 23s 448ms/step - loss: 0.6519 - accuracy: 0.7849 - val_loss: 0.7515 - val_accuracy: 0.7559\n",
            "Epoch 14/50\n",
            "51/51 [==============================] - 23s 449ms/step - loss: 0.6512 - accuracy: 0.7852 - val_loss: 0.7473 - val_accuracy: 0.7571\n",
            "Epoch 15/50\n",
            "51/51 [==============================] - 23s 448ms/step - loss: 0.6359 - accuracy: 0.7958 - val_loss: 0.7461 - val_accuracy: 0.7571\n",
            "Epoch 16/50\n",
            "51/51 [==============================] - 23s 449ms/step - loss: 0.6420 - accuracy: 0.7843 - val_loss: 0.7441 - val_accuracy: 0.7571\n",
            "Epoch 17/50\n",
            "51/51 [==============================] - 23s 449ms/step - loss: 0.6258 - accuracy: 0.7883 - val_loss: 0.7394 - val_accuracy: 0.7571\n",
            "Epoch 18/50\n",
            "51/51 [==============================] - 23s 448ms/step - loss: 0.6188 - accuracy: 0.7961 - val_loss: 0.7408 - val_accuracy: 0.7559\n",
            "Epoch 19/50\n",
            "51/51 [==============================] - 23s 452ms/step - loss: 0.6146 - accuracy: 0.7980 - val_loss: 0.7389 - val_accuracy: 0.7571\n",
            "Epoch 20/50\n",
            "51/51 [==============================] - 23s 449ms/step - loss: 0.6188 - accuracy: 0.7921 - val_loss: 0.7377 - val_accuracy: 0.7584\n",
            "Epoch 21/50\n",
            "51/51 [==============================] - 23s 449ms/step - loss: 0.6103 - accuracy: 0.7952 - val_loss: 0.7330 - val_accuracy: 0.7584\n",
            "Epoch 22/50\n",
            "51/51 [==============================] - 23s 448ms/step - loss: 0.5934 - accuracy: 0.7989 - val_loss: 0.7338 - val_accuracy: 0.7584\n",
            "Epoch 23/50\n",
            "51/51 [==============================] - 23s 448ms/step - loss: 0.5969 - accuracy: 0.8042 - val_loss: 0.7345 - val_accuracy: 0.7596\n",
            "Epoch 24/50\n",
            "51/51 [==============================] - 23s 448ms/step - loss: 0.5935 - accuracy: 0.8001 - val_loss: 0.7316 - val_accuracy: 0.7608\n",
            "Epoch 25/50\n",
            "51/51 [==============================] - 23s 450ms/step - loss: 0.5943 - accuracy: 0.8048 - val_loss: 0.7310 - val_accuracy: 0.7596\n",
            "Epoch 26/50\n",
            "51/51 [==============================] - 23s 448ms/step - loss: 0.5969 - accuracy: 0.8042 - val_loss: 0.7295 - val_accuracy: 0.7608\n",
            "Epoch 27/50\n",
            "51/51 [==============================] - 23s 449ms/step - loss: 0.5860 - accuracy: 0.8045 - val_loss: 0.7302 - val_accuracy: 0.7621\n",
            "Epoch 28/50\n",
            "51/51 [==============================] - 23s 449ms/step - loss: 0.5901 - accuracy: 0.8069 - val_loss: 0.7292 - val_accuracy: 0.7633\n",
            "Epoch 29/50\n",
            "51/51 [==============================] - 23s 455ms/step - loss: 0.5798 - accuracy: 0.8029 - val_loss: 0.7304 - val_accuracy: 0.7621\n",
            "Epoch 30/50\n",
            "51/51 [==============================] - 23s 448ms/step - loss: 0.5863 - accuracy: 0.8042 - val_loss: 0.7291 - val_accuracy: 0.7621\n",
            "Epoch 31/50\n",
            "51/51 [==============================] - 23s 449ms/step - loss: 0.5761 - accuracy: 0.8107 - val_loss: 0.7280 - val_accuracy: 0.7608\n",
            "Epoch 32/50\n",
            "51/51 [==============================] - 23s 448ms/step - loss: 0.5659 - accuracy: 0.8119 - val_loss: 0.7289 - val_accuracy: 0.7596\n",
            "Epoch 33/50\n",
            "51/51 [==============================] - 23s 452ms/step - loss: 0.5665 - accuracy: 0.8116 - val_loss: 0.7295 - val_accuracy: 0.7608\n",
            "Epoch 34/50\n",
            "51/51 [==============================] - 23s 448ms/step - loss: 0.5645 - accuracy: 0.8119 - val_loss: 0.7268 - val_accuracy: 0.7621\n",
            "Epoch 35/50\n",
            "51/51 [==============================] - 23s 449ms/step - loss: 0.5627 - accuracy: 0.8128 - val_loss: 0.7266 - val_accuracy: 0.7621\n",
            "Epoch 36/50\n",
            "51/51 [==============================] - 23s 448ms/step - loss: 0.5493 - accuracy: 0.8181 - val_loss: 0.7282 - val_accuracy: 0.7621\n",
            "Epoch 37/50\n",
            "51/51 [==============================] - 23s 449ms/step - loss: 0.5520 - accuracy: 0.8162 - val_loss: 0.7281 - val_accuracy: 0.7621\n",
            "Epoch 38/50\n",
            "51/51 [==============================] - 23s 449ms/step - loss: 0.5545 - accuracy: 0.8215 - val_loss: 0.7281 - val_accuracy: 0.7621\n",
            "Epoch 39/50\n",
            "51/51 [==============================] - 23s 449ms/step - loss: 0.5559 - accuracy: 0.8125 - val_loss: 0.7278 - val_accuracy: 0.7608\n",
            "Epoch 40/50\n",
            "51/51 [==============================] - 23s 449ms/step - loss: 0.5495 - accuracy: 0.8209 - val_loss: 0.7302 - val_accuracy: 0.7621\n",
            "Epoch 41/50\n",
            "51/51 [==============================] - 23s 449ms/step - loss: 0.5477 - accuracy: 0.8178 - val_loss: 0.7301 - val_accuracy: 0.7596\n",
            "Epoch 42/50\n",
            "51/51 [==============================] - 23s 448ms/step - loss: 0.5404 - accuracy: 0.8187 - val_loss: 0.7302 - val_accuracy: 0.7608\n",
            "Epoch 43/50\n",
            "51/51 [==============================] - 23s 449ms/step - loss: 0.5433 - accuracy: 0.8221 - val_loss: 0.7300 - val_accuracy: 0.7608\n",
            "Epoch 44/50\n",
            "51/51 [==============================] - 23s 448ms/step - loss: 0.5460 - accuracy: 0.8141 - val_loss: 0.7296 - val_accuracy: 0.7633\n",
            "Epoch 45/50\n",
            "51/51 [==============================] - 23s 448ms/step - loss: 0.5373 - accuracy: 0.8175 - val_loss: 0.7316 - val_accuracy: 0.7633\n",
            "Epoch 46/50\n",
            "51/51 [==============================] - 23s 452ms/step - loss: 0.5174 - accuracy: 0.8277 - val_loss: 0.7321 - val_accuracy: 0.7658\n",
            "Epoch 47/50\n",
            "51/51 [==============================] - 23s 449ms/step - loss: 0.5309 - accuracy: 0.8234 - val_loss: 0.7340 - val_accuracy: 0.7633\n",
            "Epoch 48/50\n",
            "51/51 [==============================] - 23s 449ms/step - loss: 0.5255 - accuracy: 0.8215 - val_loss: 0.7329 - val_accuracy: 0.7646\n",
            "Epoch 49/50\n",
            "51/51 [==============================] - 23s 449ms/step - loss: 0.5308 - accuracy: 0.8277 - val_loss: 0.7342 - val_accuracy: 0.7670\n",
            "Epoch 50/50\n",
            "51/51 [==============================] - 23s 449ms/step - loss: 0.5328 - accuracy: 0.8246 - val_loss: 0.7346 - val_accuracy: 0.7658\n"
          ],
          "name": "stdout"
        }
      ]
    },
    {
      "cell_type": "code",
      "metadata": {
        "colab": {
          "base_uri": "https://localhost:8080/"
        },
        "id": "VjRQBjXgJaOx",
        "outputId": "8f66e052-d964-467a-fc6f-8b0a5f6c0143"
      },
      "source": [
        "#Model 3\n",
        "\n",
        "# Ready output data for the model\n",
        "y_label = to_categorical(data['label'])\n",
        "\n",
        "# Tokenize the input (takes some time)\n",
        "x = tokenizer(\n",
        "    text=data['text'].to_list(),\n",
        "    add_special_tokens=True,\n",
        "    max_length=max_length,\n",
        "    truncation=True,\n",
        "    padding=True, \n",
        "    return_tensors='tf',\n",
        "    return_token_type_ids = False,\n",
        "    return_attention_mask = True,\n",
        "    verbose = True)\n",
        "\n",
        "# Fit the model\n",
        "history = model.fit(\n",
        "    x={'input_ids': x['input_ids'], 'attention_mask': x['attention_mask']},\n",
        "    y={'label': y_label},\n",
        "    validation_split=0.2,\n",
        "    batch_size=64,\n",
        "    epochs=50)\n",
        "\n",
        "model.save(\"/tmp/text-classification-tamil.h5\")"
      ],
      "execution_count": null,
      "outputs": [
        {
          "output_type": "stream",
          "text": [
            "Epoch 1/50\n",
            "404/404 [==============================] - 182s 451ms/step - loss: 0.2013 - accuracy: 0.9363 - val_loss: 0.9781 - val_accuracy: 0.7601\n",
            "Epoch 2/50\n",
            "404/404 [==============================] - 182s 450ms/step - loss: 0.2026 - accuracy: 0.9370 - val_loss: 0.9792 - val_accuracy: 0.7606\n",
            "Epoch 3/50\n",
            "404/404 [==============================] - 182s 451ms/step - loss: 0.1997 - accuracy: 0.9367 - val_loss: 0.9798 - val_accuracy: 0.7606\n",
            "Epoch 4/50\n",
            "404/404 [==============================] - 182s 451ms/step - loss: 0.1982 - accuracy: 0.9391 - val_loss: 0.9811 - val_accuracy: 0.7632\n",
            "Epoch 5/50\n",
            "404/404 [==============================] - 182s 450ms/step - loss: 0.2042 - accuracy: 0.9359 - val_loss: 0.9801 - val_accuracy: 0.7617\n",
            "Epoch 6/50\n",
            "404/404 [==============================] - 182s 451ms/step - loss: 0.1991 - accuracy: 0.9379 - val_loss: 0.9789 - val_accuracy: 0.7617\n",
            "Epoch 7/50\n",
            "404/404 [==============================] - 182s 450ms/step - loss: 0.2022 - accuracy: 0.9366 - val_loss: 0.9836 - val_accuracy: 0.7605\n",
            "Epoch 8/50\n",
            "404/404 [==============================] - 182s 451ms/step - loss: 0.1993 - accuracy: 0.9371 - val_loss: 0.9848 - val_accuracy: 0.7611\n",
            "Epoch 9/50\n",
            "404/404 [==============================] - 182s 450ms/step - loss: 0.1987 - accuracy: 0.9379 - val_loss: 0.9814 - val_accuracy: 0.7617\n",
            "Epoch 10/50\n",
            "404/404 [==============================] - 182s 450ms/step - loss: 0.1982 - accuracy: 0.9385 - val_loss: 0.9846 - val_accuracy: 0.7618\n",
            "Epoch 11/50\n",
            "404/404 [==============================] - 182s 450ms/step - loss: 0.1975 - accuracy: 0.9384 - val_loss: 0.9863 - val_accuracy: 0.7618\n",
            "Epoch 12/50\n",
            "404/404 [==============================] - 182s 450ms/step - loss: 0.1912 - accuracy: 0.9394 - val_loss: 0.9899 - val_accuracy: 0.7618\n",
            "Epoch 13/50\n",
            "404/404 [==============================] - 182s 450ms/step - loss: 0.1986 - accuracy: 0.9375 - val_loss: 0.9876 - val_accuracy: 0.7614\n",
            "Epoch 14/50\n",
            "404/404 [==============================] - 182s 450ms/step - loss: 0.1951 - accuracy: 0.9401 - val_loss: 0.9885 - val_accuracy: 0.7614\n",
            "Epoch 15/50\n",
            "404/404 [==============================] - 182s 450ms/step - loss: 0.1903 - accuracy: 0.9410 - val_loss: 0.9922 - val_accuracy: 0.7611\n",
            "Epoch 16/50\n",
            "404/404 [==============================] - 182s 450ms/step - loss: 0.1873 - accuracy: 0.9411 - val_loss: 0.9953 - val_accuracy: 0.7614\n",
            "Epoch 17/50\n",
            "404/404 [==============================] - 181s 449ms/step - loss: 0.1938 - accuracy: 0.9403 - val_loss: 0.9971 - val_accuracy: 0.7637\n",
            "Epoch 18/50\n",
            "404/404 [==============================] - 181s 449ms/step - loss: 0.1905 - accuracy: 0.9403 - val_loss: 0.9964 - val_accuracy: 0.7612\n",
            "Epoch 19/50\n",
            "404/404 [==============================] - 181s 449ms/step - loss: 0.1915 - accuracy: 0.9414 - val_loss: 0.9971 - val_accuracy: 0.7609\n",
            "Epoch 20/50\n",
            "404/404 [==============================] - 181s 449ms/step - loss: 0.1925 - accuracy: 0.9394 - val_loss: 0.9972 - val_accuracy: 0.7605\n",
            "Epoch 21/50\n",
            "404/404 [==============================] - 181s 449ms/step - loss: 0.1894 - accuracy: 0.9411 - val_loss: 1.0018 - val_accuracy: 0.7623\n",
            "Epoch 22/50\n",
            "404/404 [==============================] - 181s 449ms/step - loss: 0.1892 - accuracy: 0.9406 - val_loss: 0.9996 - val_accuracy: 0.7623\n",
            "Epoch 23/50\n",
            "404/404 [==============================] - 181s 449ms/step - loss: 0.1868 - accuracy: 0.9427 - val_loss: 1.0035 - val_accuracy: 0.7626\n",
            "Epoch 24/50\n",
            "126/404 [========>.....................] - ETA: 1:54 - loss: 0.1960 - accuracy: 0.9404"
          ],
          "name": "stdout"
        }
      ]
    },
    {
      "cell_type": "code",
      "metadata": {
        "id": "kz4e439BRC5E",
        "colab": {
          "base_uri": "https://localhost:8080/"
        },
        "outputId": "7d62a57c-94b7-4d85-d397-20e1ff941a8c"
      },
      "source": [
        "#Evaluate the model\n",
        "\n",
        "# Ready test data`\n",
        "test_y_label = to_categorical(data_dev['label'])\n",
        "test_x = tokenizer(\n",
        "    text=data_dev['text'].to_list(),\n",
        "    add_special_tokens=True,\n",
        "    max_length=max_length,\n",
        "    truncation=True,\n",
        "    padding=True, \n",
        "    return_tensors='tf',\n",
        "    return_token_type_ids = False,\n",
        "    return_attention_mask = True,\n",
        "    verbose = True)\n",
        "\n",
        "\n",
        "# Run evaluation\n",
        "model_eval = model.evaluate(\n",
        "    x={'input_ids': test_x['input_ids'], 'attention_mask': test_x['attention_mask']},\n",
        "    y={'label': test_y_label}\n",
        ")"
      ],
      "execution_count": 25,
      "outputs": [
        {
          "output_type": "stream",
          "text": [
            "127/127 [==============================] - 11s 84ms/step - loss: 0.7449 - accuracy: 0.8158\n"
          ],
          "name": "stdout"
        }
      ]
    },
    {
      "cell_type": "code",
      "metadata": {
        "colab": {
          "base_uri": "https://localhost:8080/"
        },
        "id": "UZMxbvsHz-oh",
        "outputId": "112e7dc5-278a-4973-9737-ed20f59ea465"
      },
      "source": [
        "#History object\n",
        "history_dict = history.history\n",
        "history_dict.keys()"
      ],
      "execution_count": 26,
      "outputs": [
        {
          "output_type": "execute_result",
          "data": {
            "text/plain": [
              "dict_keys(['loss', 'accuracy', 'val_loss', 'val_accuracy'])"
            ]
          },
          "metadata": {
            "tags": []
          },
          "execution_count": 26
        }
      ]
    },
    {
      "cell_type": "code",
      "metadata": {
        "id": "6qeKQ_Bl1Z5n"
      },
      "source": [
        "#import matplotlib\n",
        "from matplotlib import pyplot as plt"
      ],
      "execution_count": null,
      "outputs": []
    },
    {
      "cell_type": "code",
      "metadata": {
        "colab": {
          "base_uri": "https://localhost:8080/",
          "height": 295
        },
        "id": "HrT0cmkm0CBr",
        "outputId": "b08c2294-e665-4897-be89-dc296bcec525"
      },
      "source": [
        "#plot the training and validation loss for comparison\n",
        "\n",
        "acc = history_dict['accuracy']\n",
        "val_acc = history_dict['val_accuracy']\n",
        "loss = history_dict['loss']\n",
        "val_loss = history_dict['val_loss']\n",
        "\n",
        "epochs = range(1, len(acc) + 1)\n",
        "\n",
        "plt.plot(epochs, loss, 'bo', label='Training loss')\n",
        "plt.plot(epochs, val_loss, 'b', label='Validation loss')\n",
        "plt.title('Training and validation loss')\n",
        "plt.xlabel('Epochs')\n",
        "plt.ylabel('Loss')\n",
        "plt.legend()\n",
        "\n",
        "plt.show()"
      ],
      "execution_count": null,
      "outputs": [
        {
          "output_type": "display_data",
          "data": {
            "image/png": "[encoded data removed]",
            "text/plain": [
              "<Figure size 432x288 with 1 Axes>"
            ]
          },
          "metadata": {
            "tags": [],
            "needs_background": "light"
          }
        }
      ]
    },
    {
      "cell_type": "code",
      "metadata": {
        "colab": {
          "base_uri": "https://localhost:8080/",
          "height": 295
        },
        "id": "TVXDyzTX0e4o",
        "outputId": "3cf96bc8-81b4-4300-aab7-3db50d00a795"
      },
      "source": [
        "#plot the training and validation accuracy for comparison\n",
        "plt.plot(epochs, acc, 'bo', label='Training acc')\n",
        "plt.plot(epochs, val_acc, 'b', label='Validation acc')\n",
        "plt.title('Training and validation accuracy')\n",
        "plt.xlabel('Epochs')\n",
        "plt.ylabel('Accuracy')\n",
        "plt.legend(loc='lower right')\n",
        "\n",
        "plt.show()"
      ],
      "execution_count": null,
      "outputs": [
        {
          "output_type": "display_data",
          "data": {
            "image/png": "[encoded data removed]",
            "text/plain": [
              "<Figure size 432x288 with 1 Axes>"
            ]
          },
          "metadata": {
            "tags": [],
            "needs_background": "light"
          }
        }
      ]
    },
    {
      "cell_type": "code",
      "metadata": {
        "id": "RUJSw4-Eyyhn"
      },
      "source": [
        "#Model Prediction\n",
        "data_test = pd.read_csv(\"/tmp/tamil_offensive_full_test.csv\")\n",
        "\n",
        "# Select required columns\n",
        "data_test = data_test[['text']]\n",
        "\n",
        "# Remove a row if any of the three remaining columns are missing\n",
        "data_test = data_test.dropna()\n",
        "\n",
        "test_x = tokenizer(\n",
        "    text=data_test['text'].to_list(),\n",
        "    add_special_tokens=True,\n",
        "    max_length=max_length,\n",
        "    truncation=True,\n",
        "    padding=True, \n",
        "    return_tensors='tf',\n",
        "    return_token_type_ids = False,\n",
        "    return_attention_mask = True,\n",
        "    verbose = True)\n",
        "\n",
        "predictions = model.predict({'input_ids': test_x['input_ids'], 'attention_mask': test_x['attention_mask']})\n",
        "  "
      ],
      "execution_count": null,
      "outputs": []
    },
    {
      "cell_type": "code",
      "metadata": {
        "colab": {
          "base_uri": "https://localhost:8080/"
        },
        "id": "CUfCMtCvSM_d",
        "outputId": "0efcf7f9-4945-4fb7-ad00-c380762c11bf"
      },
      "source": [
        "print(len(data_test))\n",
        "print(len(predictions['label']))"
      ],
      "execution_count": null,
      "outputs": [
        {
          "output_type": "stream",
          "text": [
            "4391\n",
            "4391\n"
          ],
          "name": "stdout"
        }
      ]
    },
    {
      "cell_type": "code",
      "metadata": {
        "id": "3i8NfCHz6Bg4"
      },
      "source": [
        "#import Numpy\n",
        "import numpy as np"
      ],
      "execution_count": null,
      "outputs": []
    },
    {
      "cell_type": "code",
      "metadata": {
        "id": "Wgo96zWlR7Vt"
      },
      "source": [
        "#Write out to the csv file\n",
        "arry = []\n",
        "\n",
        "data_test = np.array(data_test)\n",
        "label_array = np.array(predictions['label'])\n",
        "\n",
        "for i, j in zip(data_test, label_array):\n",
        "  text = i[0]\n",
        "  label_value_max = max(j)\n",
        "  label_index = np.where(label_array == label_value_max)\n",
        "\n",
        "  labels = ['Not_offensive', 'Offensive_Targeted_Insult_Group', 'Offensive_Targeted_Insult_Individual', 'Offensive_Targeted_Insult_Other', 'Offensive_Untargetede', 'not-Tamil']\n",
        "  arry.append([text, labels[label_index[1][0]]])\n",
        "  # print(i[0] + i[1] + ' - ' + labels[label_index[1][0]])\n",
        "\n",
        "\n",
        "pre = pd.DataFrame(arry, columns=['text', 'label'])\n",
        "pre.to_csv('/tmp/prediction-tamil.csv')"
      ],
      "execution_count": null,
      "outputs": []
    }
  ]
}