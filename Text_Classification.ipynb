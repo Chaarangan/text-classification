{
  "nbformat": 4,
  "nbformat_minor": 0,
  "metadata": {
    "accelerator": "GPU",
    "colab": {
      "name": "Text Classification.ipynb",
      "provenance": [],
      "collapsed_sections": []
    },
    "kernelspec": {
      "display_name": "Python 3",
      "name": "python3"
    }
  },
  "cells": [
    {
      "cell_type": "code",
      "metadata": {
        "id": "m2jKBc4HRiuS"
      },
      "source": [
        "#Install Transformer\n",
        "pip install transformers"
      ],
      "execution_count": null,
      "outputs": []
    },
    {
      "cell_type": "code",
      "metadata": {
        "id": "Z_tGoy3vQDIj"
      },
      "source": [
        "# And pandas for data import\n",
        "import pandas as pd"
      ],
      "execution_count": 224,
      "outputs": []
    },
    {
      "cell_type": "code",
      "metadata": {
        "colab": {
          "base_uri": "https://localhost:8080/"
        },
        "id": "nGmDyhiFQnmS",
        "outputId": "ab893c28-0786-489f-a5ca-f78b5c617397"
      },
      "source": [
        "# Import Files\n",
        "import os\n",
        "\n",
        "# Import data from csv\n",
        "data = pd.read_csv(\"/tmp/tamil_offensive_full_train.csv\")\n",
        "data_dev = pd.read_csv(\"/tmp/tamil_offensive_full_dev.csv\")\n",
        "\n",
        "# Select required columns\n",
        "data = data[['comment', 'class_type']]\n",
        "data_dev = data_dev[['comment', 'class_type']]\n",
        "\n",
        "# Remove a row if any of the three remaining columns are missing\n",
        "data = data.dropna();\n",
        "data_dev = data_dev.dropna()\n",
        "\n",
        "print(data)\n",
        "print(data_dev)"
      ],
      "execution_count": 225,
      "outputs": [
        {
          "output_type": "stream",
          "text": [
            "                                                 comment                           class_type\n",
            "0                      movie vara level la Erika poguthu                        Not_offensive\n",
            "1      I love Ajith Kumar Vivegam movie inki mjy bht ...                            not-Tamil\n",
            "2              Padam nalla comedy padama irukum polaye..                        Not_offensive\n",
            "3      karthick subburaj anne .... intha padam vetri ...                        Not_offensive\n",
            "4      கவுண்டர் தேவர்.சார்பாக வெற்றி பெற வாழ்த்துக்கள் 🦁                        Not_offensive\n",
            "...                                                  ...                                  ...\n",
            "35134  Trending number #2 idhukku nammalam karanamnu ...                        Not_offensive\n",
            "35135                                 Movie script super   athuvum HIP HOP Tamizha music vera\n",
            "35136                       Just 3k likes for 300k likes                        Not_offensive\n",
            "35137                          Aaloo le lo. Kanda le lo.                            not-Tamil\n",
            "35138  நாமக்கல் மாவட்டம்  வன்னியர் சார்பாக திரௌபதி பட...                        Not_offensive\n",
            "\n",
            "[34863 rows x 2 columns]\n",
            "                                                comment                       class_type\n",
            "0                     Handsome hunk  keri vaa thalaivaa                    Not_offensive\n",
            "1     தென்காசி மாவட்டம் நாடார் சமுதாயம் சார்பாக வாழ்...                    Not_offensive\n",
            "2     je vous aime bravo pour clip de merde que j éc...                        not-Tamil\n",
            "3     சிறப்பு..... மேலும் இது போன்ற படைப்புகள் மிக அ...                    Not_offensive\n",
            "4                   Vera level BGM .. semma  trailer. 🤞                    Not_offensive\n",
            "...                                                 ...                              ...\n",
            "4383  மிஷ்கின்  - சினிமாவின் சலித்து போன வட்டத்திற்க...                    Not_offensive\n",
            "4384  Sivaji - Bhajii Sapdu Petta - Sweet Sapdu  Ser...                  Same Modulation\n",
            "4385                     8k dislike sure all vijay fans  Offensive_Targeted_Insult_Other\n",
            "4386        Lady super star Manju warrier Fans Hit like                    Not_offensive\n",
            "4387  Very nice .......kandippa theater la paakanum paa                    Not_offensive\n",
            "\n",
            "[4354 rows x 2 columns]\n"
          ],
          "name": "stdout"
        },
        {
          "output_type": "stream",
          "text": [
            "/usr/local/lib/python3.6/dist-packages/IPython/core/interactiveshell.py:2718: DtypeWarning: Columns (13,14,16,17,18,20,21,22,23,24,25,26,27,28,29,32,35,37,39,45,57,58) have mixed types.Specify dtype option on import or set low_memory=False.\n",
            "  interactivity=interactivity, compiler=compiler, result=result)\n"
          ],
          "name": "stderr"
        }
      ]
    },
    {
      "cell_type": "code",
      "metadata": {
        "id": "5jCgHcJSmILF"
      },
      "source": [
        "# copy + klearn because you allways need sklearn\n",
        "import copy\n",
        "from sklearn.model_selection import train_test_split"
      ],
      "execution_count": 226,
      "outputs": []
    },
    {
      "cell_type": "code",
      "metadata": {
        "colab": {
          "base_uri": "https://localhost:8080/",
          "height": 66
        },
        "id": "XcjLMKKbT3En",
        "outputId": "c3930eb1-e8fa-4d2b-cea5-5cf3af05b93f"
      },
      "source": [
        "# Remove rows, where the label is present only ones (can't be split)\n",
        "data = data.groupby('class_type').filter(lambda x : len(x) > 1)\n",
        "data_dev = data_dev.groupby('class_type').filter(lambda x : len(x) > 1)\n",
        "\n",
        "# Remove rows, where the label is present only in the array\n",
        "data = data[data.class_type.isin(['Not_offensive', 'Offensive_Targeted_Insult_Other', 'Offensive_Targeted_Insult_Individual', 'Offensive_Targeted_Insult_Group', 'not_Tamil', 'Offensive_Untargetede'])]\n",
        "data_dev = data_dev[data_dev.class_type.isin(['Not_offensive', 'Offensive_Targeted_Insult_Other', 'Offensive_Targeted_Insult_Individual', 'Offensive_Targeted_Insult_Group', 'not_Tamil', 'Offensive_Untargetede'])]\n",
        "\n",
        "# Set your model output as categorical and save in new label col\n",
        "data['class_type_label'] = pd.Categorical(data['class_type'])\n",
        "data_dev['class_type_label'] = pd.Categorical(data_dev['class_type'])\n",
        "\n",
        "# Transform your output to numeric\n",
        "data['class_type'] = data['class_type_label'].cat.codes\n",
        "data_dev['class_type'] = data_dev['class_type_label'].cat.codes\n",
        "\n",
        "print(data)\n",
        "print(data_dev)"
      ],
      "execution_count": 253,
      "outputs": [
        {
          "output_type": "stream",
          "text": [
            "(0, 3)\n"
          ],
          "name": "stdout"
        },
        {
          "output_type": "execute_result",
          "data": {
            "text/html": [
              "<div>\n",
              "<style scoped>\n",
              "    .dataframe tbody tr th:only-of-type {\n",
              "        vertical-align: middle;\n",
              "    }\n",
              "\n",
              "    .dataframe tbody tr th {\n",
              "        vertical-align: top;\n",
              "    }\n",
              "\n",
              "    .dataframe thead th {\n",
              "        text-align: right;\n",
              "    }\n",
              "</style>\n",
              "<table border=\"1\" class=\"dataframe\">\n",
              "  <thead>\n",
              "    <tr style=\"text-align: right;\">\n",
              "      <th></th>\n",
              "      <th>comment</th>\n",
              "      <th>class_type</th>\n",
              "      <th>class_type_label</th>\n",
              "    </tr>\n",
              "  </thead>\n",
              "  <tbody>\n",
              "  </tbody>\n",
              "</table>\n",
              "</div>"
            ],
            "text/plain": [
              "Empty DataFrame\n",
              "Columns: [comment, class_type, class_type_label]\n",
              "Index: []"
            ]
          },
          "metadata": {
            "tags": []
          },
          "execution_count": 253
        }
      ]
    },
    {
      "cell_type": "code",
      "metadata": {
        "id": "HjNECnjyfhN5"
      },
      "source": [
        "# Load Huggingface transformers\n",
        "from transformers import TFBertModel,  BertConfig, BertTokenizerFast\n",
        "from tensorflow.keras.models import Model"
      ],
      "execution_count": 228,
      "outputs": []
    },
    {
      "cell_type": "code",
      "metadata": {
        "colab": {
          "base_uri": "https://localhost:8080/"
        },
        "id": "mkvZJs5QQ-KG",
        "outputId": "8b3ffea4-c39c-43c2-9538-e7250dde3f37"
      },
      "source": [
        "#Setup BERT\n",
        "\n",
        "# Name of the BERT model to use\n",
        "model_name = 'bert-base-uncased'\n",
        "\n",
        "# Load transformers config and set output_hidden_states to False\n",
        "config = BertConfig.from_pretrained(model_name)\n",
        "config.output_hidden_states = False\n",
        "\n",
        "# Load BERT tokenizer\n",
        "tokenizer = BertTokenizerFast.from_pretrained(pretrained_model_name_or_path = model_name, config = config)\n",
        "\n",
        "# Load the Transformers BERT model\n",
        "transformer_model = TFBertModel.from_pretrained(model_name, config = config)"
      ],
      "execution_count": 229,
      "outputs": [
        {
          "output_type": "stream",
          "text": [
            "Some layers from the model checkpoint at bert-base-uncased were not used when initializing TFBertModel: ['nsp___cls', 'mlm___cls']\n",
            "- This IS expected if you are initializing TFBertModel from the checkpoint of a model trained on another task or with another architecture (e.g. initializing a BertForSequenceClassification model from a BertForPreTraining model).\n",
            "- This IS NOT expected if you are initializing TFBertModel from the checkpoint of a model that you expect to be exactly identical (initializing a BertForSequenceClassification model from a BertForSequenceClassification model).\n",
            "All the layers of TFBertModel were initialized from the model checkpoint at bert-base-uncased.\n",
            "If your task is similar to the task the model of the checkpoint was trained on, you can already use TFBertModel for predictions without further training.\n"
          ],
          "name": "stderr"
        }
      ]
    },
    {
      "cell_type": "code",
      "metadata": {
        "id": "lOh-kukFhNfh"
      },
      "source": [
        "# Then what you need from tensorflow.keras\n",
        "from tensorflow.keras.layers import Input, Dropout, Dense\n",
        "from tensorflow.keras.initializers import TruncatedNormal"
      ],
      "execution_count": 230,
      "outputs": []
    },
    {
      "cell_type": "code",
      "metadata": {
        "colab": {
          "base_uri": "https://localhost:8080/"
        },
        "id": "JklUuiM5Q_9D",
        "outputId": "87c2ca57-0d7d-4710-aef5-1959b8677ec5"
      },
      "source": [
        "#Build the model \n",
        "\n",
        "# Load the MainLayer\n",
        "bert = transformer_model.layers[0]\n",
        "\n",
        "# Max length of tokens\n",
        "max_length = 100\n",
        "\n",
        "# Build your model input\n",
        "input_ids = Input(shape=(max_length,), name='input_ids', dtype='int32')\n",
        "attention_mask = Input(shape=(max_length,), name='attention_mask', dtype='int32')\n",
        "inputs = {'input_ids': input_ids, 'attention_mask': attention_mask}\n",
        "\n",
        "# Load the Transformers BERT model as a layer in a Keras model\n",
        "bert_model = bert(inputs)[1]\n",
        "dropout = Dropout(config.hidden_dropout_prob, name='pooled_output')\n",
        "pooled_output = dropout(bert_model, training=False)\n",
        "\n",
        "# Then build your model output\n",
        "class_type = Dense(units=len(data.class_type_label.value_counts()), kernel_initializer=TruncatedNormal(stddev=config.initializer_range), name='class_type')(pooled_output)\n",
        "outputs = {'class_type': class_type}\n",
        "\n",
        "# And combine it all in a model object\n",
        "model = Model(inputs=inputs, outputs=outputs, name='BERT_MultiLabel_MultiClass')\n",
        "\n",
        "# Take a look at the model\n",
        "model.summary()"
      ],
      "execution_count": 231,
      "outputs": [
        {
          "output_type": "stream",
          "text": [
            "Model: \"BERT_MultiLabel_MultiClass\"\n",
            "__________________________________________________________________________________________________\n",
            "Layer (type)                    Output Shape         Param #     Connected to                     \n",
            "==================================================================================================\n",
            "attention_mask (InputLayer)     [(None, 100)]        0                                            \n",
            "__________________________________________________________________________________________________\n",
            "input_ids (InputLayer)          [(None, 100)]        0                                            \n",
            "__________________________________________________________________________________________________\n",
            "bert (TFBertMainLayer)          TFBaseModelOutputWit 109482240   attention_mask[0][0]             \n",
            "                                                                 input_ids[0][0]                  \n",
            "__________________________________________________________________________________________________\n",
            "pooled_output (Dropout)         (None, 768)          0           bert[0][1]                       \n",
            "__________________________________________________________________________________________________\n",
            "class_type (Dense)              (None, 5)            3845        pooled_output[0][0]              \n",
            "==================================================================================================\n",
            "Total params: 109,486,085\n",
            "Trainable params: 109,486,085\n",
            "Non-trainable params: 0\n",
            "__________________________________________________________________________________________________\n"
          ],
          "name": "stdout"
        }
      ]
    },
    {
      "cell_type": "code",
      "metadata": {
        "id": "POHXwS79foUE"
      },
      "source": [
        "#Import Keras Libraries\n",
        "from tensorflow.keras.optimizers import Adam\n",
        "from tensorflow.keras.callbacks import EarlyStopping\n",
        "from tensorflow.keras.losses import CategoricalCrossentropy\n",
        "from tensorflow.keras.metrics import CategoricalAccuracy\n",
        "from tensorflow.keras.utils import to_categorical"
      ],
      "execution_count": 232,
      "outputs": []
    },
    {
      "cell_type": "code",
      "metadata": {
        "colab": {
          "base_uri": "https://localhost:8080/"
        },
        "id": "BNfuPB_DRCWq",
        "outputId": "8ec0d17b-0e4f-46a6-b863-cf0b077744b1"
      },
      "source": [
        "#Train the model\n",
        "\n",
        "# Set an optimizer\n",
        "optimizer = Adam(\n",
        "    learning_rate=5e-05,\n",
        "    epsilon=1e-08,\n",
        "    decay=0.01,\n",
        "    clipnorm=1.0)\n",
        "\n",
        "# Set loss and metrics\n",
        "loss = {'class_type': CategoricalCrossentropy(from_logits = True)}\n",
        "metric = {'class_type': CategoricalAccuracy('accuracy')}\n",
        "\n",
        "# Compile the model\n",
        "model.compile(\n",
        "    optimizer = optimizer,\n",
        "    loss = loss, \n",
        "    metrics = metric)\n",
        "\n",
        "# Ready output data for the model\n",
        "y_class_type = to_categorical(data['class_type'])\n",
        "\n",
        "# Tokenize the input (takes some time)\n",
        "x = tokenizer(\n",
        "    text=data['comment'].to_list(),\n",
        "    add_special_tokens=True,\n",
        "    max_length=max_length,\n",
        "    truncation=True,\n",
        "    padding=True, \n",
        "    return_tensors='tf',\n",
        "    return_token_type_ids = False,\n",
        "    return_attention_mask = True,\n",
        "    verbose = True)\n",
        "\n",
        "# Fit the model\n",
        "history = model.fit(\n",
        "    x={'input_ids': x['input_ids'], 'attention_mask': x['attention_mask']},\n",
        "    y={'class_type': y_class_type},\n",
        "    validation_split=0.2,\n",
        "    batch_size=64,\n",
        "    epochs=10)\n",
        "\n",
        "model.save(\"/tmp/text-classification.h5\")"
      ],
      "execution_count": 233,
      "outputs": [
        {
          "output_type": "stream",
          "text": [
            "Epoch 1/10\n",
            "387/387 [==============================] - 545s 1s/step - loss: 0.7891 - accuracy: 0.7549 - val_loss: 0.6563 - val_accuracy: 0.7768\n",
            "Epoch 2/10\n",
            "387/387 [==============================] - 526s 1s/step - loss: 0.6367 - accuracy: 0.7721 - val_loss: 0.6494 - val_accuracy: 0.7812\n",
            "Epoch 3/10\n",
            "387/387 [==============================] - 526s 1s/step - loss: 0.5881 - accuracy: 0.7857 - val_loss: 0.6475 - val_accuracy: 0.7844\n",
            "Epoch 4/10\n",
            "387/387 [==============================] - 526s 1s/step - loss: 0.5594 - accuracy: 0.7957 - val_loss: 0.7169 - val_accuracy: 0.7913\n",
            "Epoch 5/10\n",
            "387/387 [==============================] - 525s 1s/step - loss: 0.5092 - accuracy: 0.8128 - val_loss: 0.6607 - val_accuracy: 0.7800\n",
            "Epoch 6/10\n",
            "387/387 [==============================] - 525s 1s/step - loss: 0.4928 - accuracy: 0.8237 - val_loss: 0.6993 - val_accuracy: 0.7870\n",
            "Epoch 7/10\n",
            "387/387 [==============================] - 525s 1s/step - loss: 0.4770 - accuracy: 0.8262 - val_loss: 0.7031 - val_accuracy: 0.7863\n",
            "Epoch 8/10\n",
            "387/387 [==============================] - 524s 1s/step - loss: 0.4645 - accuracy: 0.8314 - val_loss: 0.7166 - val_accuracy: 0.7876\n",
            "Epoch 9/10\n",
            "387/387 [==============================] - 524s 1s/step - loss: 0.4368 - accuracy: 0.8456 - val_loss: 0.7085 - val_accuracy: 0.7850\n",
            "Epoch 10/10\n",
            "387/387 [==============================] - 524s 1s/step - loss: 0.4329 - accuracy: 0.8455 - val_loss: 0.7259 - val_accuracy: 0.7808\n"
          ],
          "name": "stdout"
        }
      ]
    },
    {
      "cell_type": "code",
      "metadata": {
        "id": "kz4e439BRC5E",
        "colab": {
          "base_uri": "https://localhost:8080/"
        },
        "outputId": "a77fda19-aa66-495c-d1a0-cd387ea81afb"
      },
      "source": [
        "#Evaluate the model\n",
        "\n",
        "# Ready test data\n",
        "test_y_class_type = to_categorical(data_dev['class_type'])\n",
        "test_x = tokenizer(\n",
        "    text=data_dev['comment'].to_list(),\n",
        "    add_special_tokens=True,\n",
        "    max_length=max_length,\n",
        "    truncation=True,\n",
        "    padding=True, \n",
        "    return_tensors='tf',\n",
        "    return_token_type_ids = False,\n",
        "    return_attention_mask = True,\n",
        "    verbose = True)\n",
        "\n",
        "\n",
        "# Run evaluation\n",
        "model_eval = model.evaluate(\n",
        "    x={'input_ids': test_x['input_ids'], 'attention_mask': test_x['attention_mask']},\n",
        "    y={'class_type': test_y_class_type}\n",
        ")"
      ],
      "execution_count": 234,
      "outputs": [
        {
          "output_type": "stream",
          "text": [
            "121/121 [==============================] - 29s 237ms/step - loss: 0.7462 - accuracy: 0.7802\n"
          ],
          "name": "stdout"
        }
      ]
    },
    {
      "cell_type": "code",
      "metadata": {
        "colab": {
          "base_uri": "https://localhost:8080/"
        },
        "id": "UZMxbvsHz-oh",
        "outputId": "48ba9261-9fcc-4435-c55c-2ad18086607d"
      },
      "source": [
        "#History object\n",
        "history_dict = history.history\n",
        "history_dict.keys()"
      ],
      "execution_count": 235,
      "outputs": [
        {
          "output_type": "execute_result",
          "data": {
            "text/plain": [
              "dict_keys(['loss', 'accuracy', 'val_loss', 'val_accuracy'])"
            ]
          },
          "metadata": {
            "tags": []
          },
          "execution_count": 235
        }
      ]
    },
    {
      "cell_type": "code",
      "metadata": {
        "colab": {
          "base_uri": "https://localhost:8080/",
          "height": 295
        },
        "id": "HrT0cmkm0CBr",
        "outputId": "250f6df6-b998-4805-e41d-e6321bf1ef81"
      },
      "source": [
        "#plot the training and validation loss for comparison\n",
        "acc = history_dict['accuracy']\n",
        "val_acc = history_dict['val_accuracy']\n",
        "loss = history_dict['loss']\n",
        "val_loss = history_dict['val_loss']\n",
        "\n",
        "epochs = range(1, len(acc) + 1)\n",
        "\n",
        "plt.plot(epochs, loss, 'bo', label='Training loss')\n",
        "plt.plot(epochs, val_loss, 'b', label='Validation loss')\n",
        "plt.title('Training and validation loss')\n",
        "plt.xlabel('Epochs')\n",
        "plt.ylabel('Loss')\n",
        "plt.legend()\n",
        "\n",
        "plt.show()"
      ],
      "execution_count": 236,
      "outputs": [
        {
          "output_type": "display_data",
          "data": {
            "image/png": "[encoded data removed]",
            "text/plain": [
              "<Figure size 432x288 with 1 Axes>"
            ]
          },
          "metadata": {
            "tags": [],
            "needs_background": "light"
          }
        }
      ]
    },
    {
      "cell_type": "code",
      "metadata": {
        "colab": {
          "base_uri": "https://localhost:8080/",
          "height": 295
        },
        "id": "TVXDyzTX0e4o",
        "outputId": "7173e4b2-05b1-4c69-965a-61820f61dc00"
      },
      "source": [
        "#plot the training and validation accuracy for comparison\n",
        "plt.plot(epochs, acc, 'bo', label='Training acc')\n",
        "plt.plot(epochs, val_acc, 'b', label='Validation acc')\n",
        "plt.title('Training and validation accuracy')\n",
        "plt.xlabel('Epochs')\n",
        "plt.ylabel('Accuracy')\n",
        "plt.legend(loc='lower right')\n",
        "\n",
        "plt.show()"
      ],
      "execution_count": 237,
      "outputs": [
        {
          "output_type": "display_data",
          "data": {
            "image/png": "[encoded data removed]",
            "text/plain": [
              "<Figure size 432x288 with 1 Axes>"
            ]
          },
          "metadata": {
            "tags": [],
            "needs_background": "light"
          }
        }
      ]
    },
    {
      "cell_type": "code",
      "metadata": {
        "id": "RUJSw4-Eyyhn"
      },
      "source": [
        "#Model Prediction\n",
        "data_test = pd.read_csv(\"/tmp/tamil_offensive_full_test.csv\")\n",
        "\n",
        "# Select required columns\n",
        "data_test = data_test[['comment']]\n",
        "\n",
        "# Remove a row if any of the three remaining columns are missing\n",
        "data_test = data_test.dropna()\n",
        "\n",
        "test_x = tokenizer(\n",
        "    text=data_test['comment'].to_list(),\n",
        "    add_special_tokens=True,\n",
        "    max_length=max_length,\n",
        "    truncation=True,\n",
        "    padding=True, \n",
        "    return_tensors='tf',\n",
        "    return_token_type_ids = False,\n",
        "    return_attention_mask = True,\n",
        "    verbose = True)\n",
        "\n",
        "predict = model.predict({'input_ids': test_x['input_ids'], 'attention_mask': test_x['attention_mask']})\n",
        "  "
      ],
      "execution_count": 238,
      "outputs": []
    },
    {
      "cell_type": "code",
      "metadata": {
        "colab": {
          "base_uri": "https://localhost:8080/"
        },
        "id": "CSc2U8rcOafH",
        "outputId": "5dd038e0-d8d1-47ab-f685-5710f9dd8718"
      },
      "source": [
        "print(predict)"
      ],
      "execution_count": 240,
      "outputs": [
        {
          "output_type": "stream",
          "text": [
            "{'class_type': array([[ 5.2709346 , -1.0836084 , -1.5631858 , -1.7603798 , -0.5391249 ],\n",
            "       [ 4.170054  , -1.4295857 , -1.2600068 , -1.8537989 ,  0.18805404],\n",
            "       [ 4.0169992 , -1.3208134 , -0.33630058, -1.8156922 , -0.5803839 ],\n",
            "       ...,\n",
            "       [-0.4220343 ,  0.37807497, -0.6001418 , -0.96860796,  1.9103626 ],\n",
            "       [ 5.4198194 , -0.8767448 , -1.013413  , -1.6343588 , -1.598137  ],\n",
            "       [ 4.744748  , -0.97667736, -0.85140777, -1.7997695 , -0.9284616 ]],\n",
            "      dtype=float32)}\n"
          ],
          "name": "stdout"
        }
      ]
    },
    {
      "cell_type": "code",
      "metadata": {
        "colab": {
          "base_uri": "https://localhost:8080/",
          "height": 297
        },
        "id": "BE698IL1O1gV",
        "outputId": "072ba6db-5939-4bc1-f52d-00e6744c994f"
      },
      "source": [
        "#Plot the bar chart of Train\n",
        "import seaborn as sns\n",
        "\n",
        "sns.countplot(x='class_type', data=data)"
      ],
      "execution_count": 245,
      "outputs": [
        {
          "output_type": "execute_result",
          "data": {
            "text/plain": [
              "<matplotlib.axes._subplots.AxesSubplot at 0x7f2258cf6470>"
            ]
          },
          "metadata": {
            "tags": []
          },
          "execution_count": 245
        },
        {
          "output_type": "display_data",
          "data": {
            "image/png": "[encoded data removed]",
            "text/plain": [
              "<Figure size 432x288 with 1 Axes>"
            ]
          },
          "metadata": {
            "tags": [],
            "needs_background": "light"
          }
        }
      ]
    },
    {
      "cell_type": "code",
      "metadata": {
        "colab": {
          "base_uri": "https://localhost:8080/",
          "height": 297
        },
        "id": "XqrtoDTfPfGD",
        "outputId": "f027d5a9-9220-4250-8034-9eef1ab4b6ef"
      },
      "source": [
        "#Plot the bar chart of Dev\n",
        "sns.countplot(x='class_type', data=data_dev)"
      ],
      "execution_count": 249,
      "outputs": [
        {
          "output_type": "execute_result",
          "data": {
            "text/plain": [
              "<matplotlib.axes._subplots.AxesSubplot at 0x7f225baf9860>"
            ]
          },
          "metadata": {
            "tags": []
          },
          "execution_count": 249
        },
        {
          "output_type": "display_data",
          "data": {
            "image/png": "[encoded data removed]",
            "text/plain": [
              "<Figure size 432x288 with 1 Axes>"
            ]
          },
          "metadata": {
            "tags": [],
            "needs_background": "light"
          }
        }
      ]
    }
  ]
}