{
  "nbformat": 4,
  "nbformat_minor": 0,
  "metadata": {
    "accelerator": "GPU",
    "colab": {
      "name": "Text Classification - Malayalam.ipynb",
      "provenance": [],
      "collapsed_sections": [],
      "machine_shape": "hm"
    },
    "kernelspec": {
      "display_name": "Python 3",
      "name": "python3"
    },
    "widgets": {
      "application/vnd.jupyter.widget-state+json": {
        "f8e7af673b9640639acab853cd350a40": {
          "model_module": "@jupyter-widgets/controls",
          "model_name": "HBoxModel",
          "state": {
            "_view_name": "HBoxView",
            "_dom_classes": [],
            "_model_name": "HBoxModel",
            "_view_module": "@jupyter-widgets/controls",
            "_model_module_version": "1.5.0",
            "_view_count": null,
            "_view_module_version": "1.5.0",
            "box_style": "",
            "layout": "IPY_MODEL_d2215213111c40d982f7d288f19fa7b1",
            "_model_module": "@jupyter-widgets/controls",
            "children": [
              "IPY_MODEL_74252713179f406280a7c8862ca783d6",
              "IPY_MODEL_55f748e437a34244a56df7f13b82e32c"
            ]
          }
        },
        "d2215213111c40d982f7d288f19fa7b1": {
          "model_module": "@jupyter-widgets/base",
          "model_name": "LayoutModel",
          "state": {
            "_view_name": "LayoutView",
            "grid_template_rows": null,
            "right": null,
            "justify_content": null,
            "_view_module": "@jupyter-widgets/base",
            "overflow": null,
            "_model_module_version": "1.2.0",
            "_view_count": null,
            "flex_flow": null,
            "width": null,
            "min_width": null,
            "border": null,
            "align_items": null,
            "bottom": null,
            "_model_module": "@jupyter-widgets/base",
            "top": null,
            "grid_column": null,
            "overflow_y": null,
            "overflow_x": null,
            "grid_auto_flow": null,
            "grid_area": null,
            "grid_template_columns": null,
            "flex": null,
            "_model_name": "LayoutModel",
            "justify_items": null,
            "grid_row": null,
            "max_height": null,
            "align_content": null,
            "visibility": null,
            "align_self": null,
            "height": null,
            "min_height": null,
            "padding": null,
            "grid_auto_rows": null,
            "grid_gap": null,
            "max_width": null,
            "order": null,
            "_view_module_version": "1.2.0",
            "grid_template_areas": null,
            "object_position": null,
            "object_fit": null,
            "grid_auto_columns": null,
            "margin": null,
            "display": null,
            "left": null
          }
        },
        "74252713179f406280a7c8862ca783d6": {
          "model_module": "@jupyter-widgets/controls",
          "model_name": "FloatProgressModel",
          "state": {
            "_view_name": "ProgressView",
            "style": "IPY_MODEL_013977f76bc54a94b9a635788b267acf",
            "_dom_classes": [],
            "description": "Downloading: 100%",
            "_model_name": "FloatProgressModel",
            "bar_style": "success",
            "max": 625,
            "_view_module": "@jupyter-widgets/controls",
            "_model_module_version": "1.5.0",
            "value": 625,
            "_view_count": null,
            "_view_module_version": "1.5.0",
            "orientation": "horizontal",
            "min": 0,
            "description_tooltip": null,
            "_model_module": "@jupyter-widgets/controls",
            "layout": "IPY_MODEL_cc3a728bfba54cb2bf03e26f4636373a"
          }
        },
        "55f748e437a34244a56df7f13b82e32c": {
          "model_module": "@jupyter-widgets/controls",
          "model_name": "HTMLModel",
          "state": {
            "_view_name": "HTMLView",
            "style": "IPY_MODEL_65a9e0cabb5147dfb51bd633d976750e",
            "_dom_classes": [],
            "description": "",
            "_model_name": "HTMLModel",
            "placeholder": "​",
            "_view_module": "@jupyter-widgets/controls",
            "_model_module_version": "1.5.0",
            "value": " 625/625 [00:00&lt;00:00, 1.06kB/s]",
            "_view_count": null,
            "_view_module_version": "1.5.0",
            "description_tooltip": null,
            "_model_module": "@jupyter-widgets/controls",
            "layout": "IPY_MODEL_d173ed55f1c84bee8edf9b6215b3ef2b"
          }
        },
        "013977f76bc54a94b9a635788b267acf": {
          "model_module": "@jupyter-widgets/controls",
          "model_name": "ProgressStyleModel",
          "state": {
            "_view_name": "StyleView",
            "_model_name": "ProgressStyleModel",
            "description_width": "initial",
            "_view_module": "@jupyter-widgets/base",
            "_model_module_version": "1.5.0",
            "_view_count": null,
            "_view_module_version": "1.2.0",
            "bar_color": null,
            "_model_module": "@jupyter-widgets/controls"
          }
        },
        "cc3a728bfba54cb2bf03e26f4636373a": {
          "model_module": "@jupyter-widgets/base",
          "model_name": "LayoutModel",
          "state": {
            "_view_name": "LayoutView",
            "grid_template_rows": null,
            "right": null,
            "justify_content": null,
            "_view_module": "@jupyter-widgets/base",
            "overflow": null,
            "_model_module_version": "1.2.0",
            "_view_count": null,
            "flex_flow": null,
            "width": null,
            "min_width": null,
            "border": null,
            "align_items": null,
            "bottom": null,
            "_model_module": "@jupyter-widgets/base",
            "top": null,
            "grid_column": null,
            "overflow_y": null,
            "overflow_x": null,
            "grid_auto_flow": null,
            "grid_area": null,
            "grid_template_columns": null,
            "flex": null,
            "_model_name": "LayoutModel",
            "justify_items": null,
            "grid_row": null,
            "max_height": null,
            "align_content": null,
            "visibility": null,
            "align_self": null,
            "height": null,
            "min_height": null,
            "padding": null,
            "grid_auto_rows": null,
            "grid_gap": null,
            "max_width": null,
            "order": null,
            "_view_module_version": "1.2.0",
            "grid_template_areas": null,
            "object_position": null,
            "object_fit": null,
            "grid_auto_columns": null,
            "margin": null,
            "display": null,
            "left": null
          }
        },
        "65a9e0cabb5147dfb51bd633d976750e": {
          "model_module": "@jupyter-widgets/controls",
          "model_name": "DescriptionStyleModel",
          "state": {
            "_view_name": "StyleView",
            "_model_name": "DescriptionStyleModel",
            "description_width": "",
            "_view_module": "@jupyter-widgets/base",
            "_model_module_version": "1.5.0",
            "_view_count": null,
            "_view_module_version": "1.2.0",
            "_model_module": "@jupyter-widgets/controls"
          }
        },
        "d173ed55f1c84bee8edf9b6215b3ef2b": {
          "model_module": "@jupyter-widgets/base",
          "model_name": "LayoutModel",
          "state": {
            "_view_name": "LayoutView",
            "grid_template_rows": null,
            "right": null,
            "justify_content": null,
            "_view_module": "@jupyter-widgets/base",
            "overflow": null,
            "_model_module_version": "1.2.0",
            "_view_count": null,
            "flex_flow": null,
            "width": null,
            "min_width": null,
            "border": null,
            "align_items": null,
            "bottom": null,
            "_model_module": "@jupyter-widgets/base",
            "top": null,
            "grid_column": null,
            "overflow_y": null,
            "overflow_x": null,
            "grid_auto_flow": null,
            "grid_area": null,
            "grid_template_columns": null,
            "flex": null,
            "_model_name": "LayoutModel",
            "justify_items": null,
            "grid_row": null,
            "max_height": null,
            "align_content": null,
            "visibility": null,
            "align_self": null,
            "height": null,
            "min_height": null,
            "padding": null,
            "grid_auto_rows": null,
            "grid_gap": null,
            "max_width": null,
            "order": null,
            "_view_module_version": "1.2.0",
            "grid_template_areas": null,
            "object_position": null,
            "object_fit": null,
            "grid_auto_columns": null,
            "margin": null,
            "display": null,
            "left": null
          }
        },
        "7362f98c4f564e87b8aa363f963a0b5b": {
          "model_module": "@jupyter-widgets/controls",
          "model_name": "HBoxModel",
          "state": {
            "_view_name": "HBoxView",
            "_dom_classes": [],
            "_model_name": "HBoxModel",
            "_view_module": "@jupyter-widgets/controls",
            "_model_module_version": "1.5.0",
            "_view_count": null,
            "_view_module_version": "1.5.0",
            "box_style": "",
            "layout": "IPY_MODEL_72a9ba4add434e50a17109d23cb197a9",
            "_model_module": "@jupyter-widgets/controls",
            "children": [
              "IPY_MODEL_c664bf52713b4f6a8376ee2543822f09",
              "IPY_MODEL_5fd8bd8f5b1143309fec47c184bfe2f1"
            ]
          }
        },
        "72a9ba4add434e50a17109d23cb197a9": {
          "model_module": "@jupyter-widgets/base",
          "model_name": "LayoutModel",
          "state": {
            "_view_name": "LayoutView",
            "grid_template_rows": null,
            "right": null,
            "justify_content": null,
            "_view_module": "@jupyter-widgets/base",
            "overflow": null,
            "_model_module_version": "1.2.0",
            "_view_count": null,
            "flex_flow": null,
            "width": null,
            "min_width": null,
            "border": null,
            "align_items": null,
            "bottom": null,
            "_model_module": "@jupyter-widgets/base",
            "top": null,
            "grid_column": null,
            "overflow_y": null,
            "overflow_x": null,
            "grid_auto_flow": null,
            "grid_area": null,
            "grid_template_columns": null,
            "flex": null,
            "_model_name": "LayoutModel",
            "justify_items": null,
            "grid_row": null,
            "max_height": null,
            "align_content": null,
            "visibility": null,
            "align_self": null,
            "height": null,
            "min_height": null,
            "padding": null,
            "grid_auto_rows": null,
            "grid_gap": null,
            "max_width": null,
            "order": null,
            "_view_module_version": "1.2.0",
            "grid_template_areas": null,
            "object_position": null,
            "object_fit": null,
            "grid_auto_columns": null,
            "margin": null,
            "display": null,
            "left": null
          }
        },
        "c664bf52713b4f6a8376ee2543822f09": {
          "model_module": "@jupyter-widgets/controls",
          "model_name": "FloatProgressModel",
          "state": {
            "_view_name": "ProgressView",
            "style": "IPY_MODEL_19cc7e8e673f4b05b9a4f3d5465448aa",
            "_dom_classes": [],
            "description": "Downloading: 100%",
            "_model_name": "FloatProgressModel",
            "bar_style": "success",
            "max": 995526,
            "_view_module": "@jupyter-widgets/controls",
            "_model_module_version": "1.5.0",
            "value": 995526,
            "_view_count": null,
            "_view_module_version": "1.5.0",
            "orientation": "horizontal",
            "min": 0,
            "description_tooltip": null,
            "_model_module": "@jupyter-widgets/controls",
            "layout": "IPY_MODEL_0db8e494a1e04d1b900fb484714723ee"
          }
        },
        "5fd8bd8f5b1143309fec47c184bfe2f1": {
          "model_module": "@jupyter-widgets/controls",
          "model_name": "HTMLModel",
          "state": {
            "_view_name": "HTMLView",
            "style": "IPY_MODEL_7b3f1ad111ff4df6b6729218b00afa69",
            "_dom_classes": [],
            "description": "",
            "_model_name": "HTMLModel",
            "placeholder": "​",
            "_view_module": "@jupyter-widgets/controls",
            "_model_module_version": "1.5.0",
            "value": " 996k/996k [00:27&lt;00:00, 35.7kB/s]",
            "_view_count": null,
            "_view_module_version": "1.5.0",
            "description_tooltip": null,
            "_model_module": "@jupyter-widgets/controls",
            "layout": "IPY_MODEL_75993c64383644e9b016714e5f7c9534"
          }
        },
        "19cc7e8e673f4b05b9a4f3d5465448aa": {
          "model_module": "@jupyter-widgets/controls",
          "model_name": "ProgressStyleModel",
          "state": {
            "_view_name": "StyleView",
            "_model_name": "ProgressStyleModel",
            "description_width": "initial",
            "_view_module": "@jupyter-widgets/base",
            "_model_module_version": "1.5.0",
            "_view_count": null,
            "_view_module_version": "1.2.0",
            "bar_color": null,
            "_model_module": "@jupyter-widgets/controls"
          }
        },
        "0db8e494a1e04d1b900fb484714723ee": {
          "model_module": "@jupyter-widgets/base",
          "model_name": "LayoutModel",
          "state": {
            "_view_name": "LayoutView",
            "grid_template_rows": null,
            "right": null,
            "justify_content": null,
            "_view_module": "@jupyter-widgets/base",
            "overflow": null,
            "_model_module_version": "1.2.0",
            "_view_count": null,
            "flex_flow": null,
            "width": null,
            "min_width": null,
            "border": null,
            "align_items": null,
            "bottom": null,
            "_model_module": "@jupyter-widgets/base",
            "top": null,
            "grid_column": null,
            "overflow_y": null,
            "overflow_x": null,
            "grid_auto_flow": null,
            "grid_area": null,
            "grid_template_columns": null,
            "flex": null,
            "_model_name": "LayoutModel",
            "justify_items": null,
            "grid_row": null,
            "max_height": null,
            "align_content": null,
            "visibility": null,
            "align_self": null,
            "height": null,
            "min_height": null,
            "padding": null,
            "grid_auto_rows": null,
            "grid_gap": null,
            "max_width": null,
            "order": null,
            "_view_module_version": "1.2.0",
            "grid_template_areas": null,
            "object_position": null,
            "object_fit": null,
            "grid_auto_columns": null,
            "margin": null,
            "display": null,
            "left": null
          }
        },
        "7b3f1ad111ff4df6b6729218b00afa69": {
          "model_module": "@jupyter-widgets/controls",
          "model_name": "DescriptionStyleModel",
          "state": {
            "_view_name": "StyleView",
            "_model_name": "DescriptionStyleModel",
            "description_width": "",
            "_view_module": "@jupyter-widgets/base",
            "_model_module_version": "1.5.0",
            "_view_count": null,
            "_view_module_version": "1.2.0",
            "_model_module": "@jupyter-widgets/controls"
          }
        },
        "75993c64383644e9b016714e5f7c9534": {
          "model_module": "@jupyter-widgets/base",
          "model_name": "LayoutModel",
          "state": {
            "_view_name": "LayoutView",
            "grid_template_rows": null,
            "right": null,
            "justify_content": null,
            "_view_module": "@jupyter-widgets/base",
            "overflow": null,
            "_model_module_version": "1.2.0",
            "_view_count": null,
            "flex_flow": null,
            "width": null,
            "min_width": null,
            "border": null,
            "align_items": null,
            "bottom": null,
            "_model_module": "@jupyter-widgets/base",
            "top": null,
            "grid_column": null,
            "overflow_y": null,
            "overflow_x": null,
            "grid_auto_flow": null,
            "grid_area": null,
            "grid_template_columns": null,
            "flex": null,
            "_model_name": "LayoutModel",
            "justify_items": null,
            "grid_row": null,
            "max_height": null,
            "align_content": null,
            "visibility": null,
            "align_self": null,
            "height": null,
            "min_height": null,
            "padding": null,
            "grid_auto_rows": null,
            "grid_gap": null,
            "max_width": null,
            "order": null,
            "_view_module_version": "1.2.0",
            "grid_template_areas": null,
            "object_position": null,
            "object_fit": null,
            "grid_auto_columns": null,
            "margin": null,
            "display": null,
            "left": null
          }
        },
        "d4a1b0c89e7747beaf08a8116bf3cfb6": {
          "model_module": "@jupyter-widgets/controls",
          "model_name": "HBoxModel",
          "state": {
            "_view_name": "HBoxView",
            "_dom_classes": [],
            "_model_name": "HBoxModel",
            "_view_module": "@jupyter-widgets/controls",
            "_model_module_version": "1.5.0",
            "_view_count": null,
            "_view_module_version": "1.5.0",
            "box_style": "",
            "layout": "IPY_MODEL_b41d97009bd34408903afb7fcdac48ba",
            "_model_module": "@jupyter-widgets/controls",
            "children": [
              "IPY_MODEL_f651ed92546d45a48856f972521761ae",
              "IPY_MODEL_41cffdb42484495f87f164e4c5a1ecae"
            ]
          }
        },
        "b41d97009bd34408903afb7fcdac48ba": {
          "model_module": "@jupyter-widgets/base",
          "model_name": "LayoutModel",
          "state": {
            "_view_name": "LayoutView",
            "grid_template_rows": null,
            "right": null,
            "justify_content": null,
            "_view_module": "@jupyter-widgets/base",
            "overflow": null,
            "_model_module_version": "1.2.0",
            "_view_count": null,
            "flex_flow": null,
            "width": null,
            "min_width": null,
            "border": null,
            "align_items": null,
            "bottom": null,
            "_model_module": "@jupyter-widgets/base",
            "top": null,
            "grid_column": null,
            "overflow_y": null,
            "overflow_x": null,
            "grid_auto_flow": null,
            "grid_area": null,
            "grid_template_columns": null,
            "flex": null,
            "_model_name": "LayoutModel",
            "justify_items": null,
            "grid_row": null,
            "max_height": null,
            "align_content": null,
            "visibility": null,
            "align_self": null,
            "height": null,
            "min_height": null,
            "padding": null,
            "grid_auto_rows": null,
            "grid_gap": null,
            "max_width": null,
            "order": null,
            "_view_module_version": "1.2.0",
            "grid_template_areas": null,
            "object_position": null,
            "object_fit": null,
            "grid_auto_columns": null,
            "margin": null,
            "display": null,
            "left": null
          }
        },
        "f651ed92546d45a48856f972521761ae": {
          "model_module": "@jupyter-widgets/controls",
          "model_name": "FloatProgressModel",
          "state": {
            "_view_name": "ProgressView",
            "style": "IPY_MODEL_d0c06ec55c2d490e8b4765998e9f30f4",
            "_dom_classes": [],
            "description": "Downloading: 100%",
            "_model_name": "FloatProgressModel",
            "bar_style": "success",
            "max": 1961828,
            "_view_module": "@jupyter-widgets/controls",
            "_model_module_version": "1.5.0",
            "value": 1961828,
            "_view_count": null,
            "_view_module_version": "1.5.0",
            "orientation": "horizontal",
            "min": 0,
            "description_tooltip": null,
            "_model_module": "@jupyter-widgets/controls",
            "layout": "IPY_MODEL_6e72403fd8c9470dabf9d38e0a80dd51"
          }
        },
        "41cffdb42484495f87f164e4c5a1ecae": {
          "model_module": "@jupyter-widgets/controls",
          "model_name": "HTMLModel",
          "state": {
            "_view_name": "HTMLView",
            "style": "IPY_MODEL_14cda8a48b534b69b5c048091510102b",
            "_dom_classes": [],
            "description": "",
            "_model_name": "HTMLModel",
            "placeholder": "​",
            "_view_module": "@jupyter-widgets/controls",
            "_model_module_version": "1.5.0",
            "value": " 1.96M/1.96M [00:14&lt;00:00, 131kB/s]",
            "_view_count": null,
            "_view_module_version": "1.5.0",
            "description_tooltip": null,
            "_model_module": "@jupyter-widgets/controls",
            "layout": "IPY_MODEL_cae0a383aef64ca9803d6385a255ff62"
          }
        },
        "d0c06ec55c2d490e8b4765998e9f30f4": {
          "model_module": "@jupyter-widgets/controls",
          "model_name": "ProgressStyleModel",
          "state": {
            "_view_name": "StyleView",
            "_model_name": "ProgressStyleModel",
            "description_width": "initial",
            "_view_module": "@jupyter-widgets/base",
            "_model_module_version": "1.5.0",
            "_view_count": null,
            "_view_module_version": "1.2.0",
            "bar_color": null,
            "_model_module": "@jupyter-widgets/controls"
          }
        },
        "6e72403fd8c9470dabf9d38e0a80dd51": {
          "model_module": "@jupyter-widgets/base",
          "model_name": "LayoutModel",
          "state": {
            "_view_name": "LayoutView",
            "grid_template_rows": null,
            "right": null,
            "justify_content": null,
            "_view_module": "@jupyter-widgets/base",
            "overflow": null,
            "_model_module_version": "1.2.0",
            "_view_count": null,
            "flex_flow": null,
            "width": null,
            "min_width": null,
            "border": null,
            "align_items": null,
            "bottom": null,
            "_model_module": "@jupyter-widgets/base",
            "top": null,
            "grid_column": null,
            "overflow_y": null,
            "overflow_x": null,
            "grid_auto_flow": null,
            "grid_area": null,
            "grid_template_columns": null,
            "flex": null,
            "_model_name": "LayoutModel",
            "justify_items": null,
            "grid_row": null,
            "max_height": null,
            "align_content": null,
            "visibility": null,
            "align_self": null,
            "height": null,
            "min_height": null,
            "padding": null,
            "grid_auto_rows": null,
            "grid_gap": null,
            "max_width": null,
            "order": null,
            "_view_module_version": "1.2.0",
            "grid_template_areas": null,
            "object_position": null,
            "object_fit": null,
            "grid_auto_columns": null,
            "margin": null,
            "display": null,
            "left": null
          }
        },
        "14cda8a48b534b69b5c048091510102b": {
          "model_module": "@jupyter-widgets/controls",
          "model_name": "DescriptionStyleModel",
          "state": {
            "_view_name": "StyleView",
            "_model_name": "DescriptionStyleModel",
            "description_width": "",
            "_view_module": "@jupyter-widgets/base",
            "_model_module_version": "1.5.0",
            "_view_count": null,
            "_view_module_version": "1.2.0",
            "_model_module": "@jupyter-widgets/controls"
          }
        },
        "cae0a383aef64ca9803d6385a255ff62": {
          "model_module": "@jupyter-widgets/base",
          "model_name": "LayoutModel",
          "state": {
            "_view_name": "LayoutView",
            "grid_template_rows": null,
            "right": null,
            "justify_content": null,
            "_view_module": "@jupyter-widgets/base",
            "overflow": null,
            "_model_module_version": "1.2.0",
            "_view_count": null,
            "flex_flow": null,
            "width": null,
            "min_width": null,
            "border": null,
            "align_items": null,
            "bottom": null,
            "_model_module": "@jupyter-widgets/base",
            "top": null,
            "grid_column": null,
            "overflow_y": null,
            "overflow_x": null,
            "grid_auto_flow": null,
            "grid_area": null,
            "grid_template_columns": null,
            "flex": null,
            "_model_name": "LayoutModel",
            "justify_items": null,
            "grid_row": null,
            "max_height": null,
            "align_content": null,
            "visibility": null,
            "align_self": null,
            "height": null,
            "min_height": null,
            "padding": null,
            "grid_auto_rows": null,
            "grid_gap": null,
            "max_width": null,
            "order": null,
            "_view_module_version": "1.2.0",
            "grid_template_areas": null,
            "object_position": null,
            "object_fit": null,
            "grid_auto_columns": null,
            "margin": null,
            "display": null,
            "left": null
          }
        },
        "bcfe287e6b3247c39012af9a1640ffcb": {
          "model_module": "@jupyter-widgets/controls",
          "model_name": "HBoxModel",
          "state": {
            "_view_name": "HBoxView",
            "_dom_classes": [],
            "_model_name": "HBoxModel",
            "_view_module": "@jupyter-widgets/controls",
            "_model_module_version": "1.5.0",
            "_view_count": null,
            "_view_module_version": "1.5.0",
            "box_style": "",
            "layout": "IPY_MODEL_519428dc87304c139ad0e9ee6c961420",
            "_model_module": "@jupyter-widgets/controls",
            "children": [
              "IPY_MODEL_603ceaf0b3414a37be460b138ccdaa31",
              "IPY_MODEL_ebb09f01c39540ac94db0dbcbbb8e4b6"
            ]
          }
        },
        "519428dc87304c139ad0e9ee6c961420": {
          "model_module": "@jupyter-widgets/base",
          "model_name": "LayoutModel",
          "state": {
            "_view_name": "LayoutView",
            "grid_template_rows": null,
            "right": null,
            "justify_content": null,
            "_view_module": "@jupyter-widgets/base",
            "overflow": null,
            "_model_module_version": "1.2.0",
            "_view_count": null,
            "flex_flow": null,
            "width": null,
            "min_width": null,
            "border": null,
            "align_items": null,
            "bottom": null,
            "_model_module": "@jupyter-widgets/base",
            "top": null,
            "grid_column": null,
            "overflow_y": null,
            "overflow_x": null,
            "grid_auto_flow": null,
            "grid_area": null,
            "grid_template_columns": null,
            "flex": null,
            "_model_name": "LayoutModel",
            "justify_items": null,
            "grid_row": null,
            "max_height": null,
            "align_content": null,
            "visibility": null,
            "align_self": null,
            "height": null,
            "min_height": null,
            "padding": null,
            "grid_auto_rows": null,
            "grid_gap": null,
            "max_width": null,
            "order": null,
            "_view_module_version": "1.2.0",
            "grid_template_areas": null,
            "object_position": null,
            "object_fit": null,
            "grid_auto_columns": null,
            "margin": null,
            "display": null,
            "left": null
          }
        },
        "603ceaf0b3414a37be460b138ccdaa31": {
          "model_module": "@jupyter-widgets/controls",
          "model_name": "FloatProgressModel",
          "state": {
            "_view_name": "ProgressView",
            "style": "IPY_MODEL_c109c14f03204f2086bb03c74a272ed7",
            "_dom_classes": [],
            "description": "Downloading: 100%",
            "_model_name": "FloatProgressModel",
            "bar_style": "success",
            "max": 1083389348,
            "_view_module": "@jupyter-widgets/controls",
            "_model_module_version": "1.5.0",
            "value": 1083389348,
            "_view_count": null,
            "_view_module_version": "1.5.0",
            "orientation": "horizontal",
            "min": 0,
            "description_tooltip": null,
            "_model_module": "@jupyter-widgets/controls",
            "layout": "IPY_MODEL_0a4ff3507d804b22961675a11333901a"
          }
        },
        "ebb09f01c39540ac94db0dbcbbb8e4b6": {
          "model_module": "@jupyter-widgets/controls",
          "model_name": "HTMLModel",
          "state": {
            "_view_name": "HTMLView",
            "style": "IPY_MODEL_861479b43b4047a692c29ea8a0f92eb8",
            "_dom_classes": [],
            "description": "",
            "_model_name": "HTMLModel",
            "placeholder": "​",
            "_view_module": "@jupyter-widgets/controls",
            "_model_module_version": "1.5.0",
            "value": " 1.08G/1.08G [00:13&lt;00:00, 77.6MB/s]",
            "_view_count": null,
            "_view_module_version": "1.5.0",
            "description_tooltip": null,
            "_model_module": "@jupyter-widgets/controls",
            "layout": "IPY_MODEL_d2230ab52764426ba51db96e26e374b2"
          }
        },
        "c109c14f03204f2086bb03c74a272ed7": {
          "model_module": "@jupyter-widgets/controls",
          "model_name": "ProgressStyleModel",
          "state": {
            "_view_name": "StyleView",
            "_model_name": "ProgressStyleModel",
            "description_width": "initial",
            "_view_module": "@jupyter-widgets/base",
            "_model_module_version": "1.5.0",
            "_view_count": null,
            "_view_module_version": "1.2.0",
            "bar_color": null,
            "_model_module": "@jupyter-widgets/controls"
          }
        },
        "0a4ff3507d804b22961675a11333901a": {
          "model_module": "@jupyter-widgets/base",
          "model_name": "LayoutModel",
          "state": {
            "_view_name": "LayoutView",
            "grid_template_rows": null,
            "right": null,
            "justify_content": null,
            "_view_module": "@jupyter-widgets/base",
            "overflow": null,
            "_model_module_version": "1.2.0",
            "_view_count": null,
            "flex_flow": null,
            "width": null,
            "min_width": null,
            "border": null,
            "align_items": null,
            "bottom": null,
            "_model_module": "@jupyter-widgets/base",
            "top": null,
            "grid_column": null,
            "overflow_y": null,
            "overflow_x": null,
            "grid_auto_flow": null,
            "grid_area": null,
            "grid_template_columns": null,
            "flex": null,
            "_model_name": "LayoutModel",
            "justify_items": null,
            "grid_row": null,
            "max_height": null,
            "align_content": null,
            "visibility": null,
            "align_self": null,
            "height": null,
            "min_height": null,
            "padding": null,
            "grid_auto_rows": null,
            "grid_gap": null,
            "max_width": null,
            "order": null,
            "_view_module_version": "1.2.0",
            "grid_template_areas": null,
            "object_position": null,
            "object_fit": null,
            "grid_auto_columns": null,
            "margin": null,
            "display": null,
            "left": null
          }
        },
        "861479b43b4047a692c29ea8a0f92eb8": {
          "model_module": "@jupyter-widgets/controls",
          "model_name": "DescriptionStyleModel",
          "state": {
            "_view_name": "StyleView",
            "_model_name": "DescriptionStyleModel",
            "description_width": "",
            "_view_module": "@jupyter-widgets/base",
            "_model_module_version": "1.5.0",
            "_view_count": null,
            "_view_module_version": "1.2.0",
            "_model_module": "@jupyter-widgets/controls"
          }
        },
        "d2230ab52764426ba51db96e26e374b2": {
          "model_module": "@jupyter-widgets/base",
          "model_name": "LayoutModel",
          "state": {
            "_view_name": "LayoutView",
            "grid_template_rows": null,
            "right": null,
            "justify_content": null,
            "_view_module": "@jupyter-widgets/base",
            "overflow": null,
            "_model_module_version": "1.2.0",
            "_view_count": null,
            "flex_flow": null,
            "width": null,
            "min_width": null,
            "border": null,
            "align_items": null,
            "bottom": null,
            "_model_module": "@jupyter-widgets/base",
            "top": null,
            "grid_column": null,
            "overflow_y": null,
            "overflow_x": null,
            "grid_auto_flow": null,
            "grid_area": null,
            "grid_template_columns": null,
            "flex": null,
            "_model_name": "LayoutModel",
            "justify_items": null,
            "grid_row": null,
            "max_height": null,
            "align_content": null,
            "visibility": null,
            "align_self": null,
            "height": null,
            "min_height": null,
            "padding": null,
            "grid_auto_rows": null,
            "grid_gap": null,
            "max_width": null,
            "order": null,
            "_view_module_version": "1.2.0",
            "grid_template_areas": null,
            "object_position": null,
            "object_fit": null,
            "grid_auto_columns": null,
            "margin": null,
            "display": null,
            "left": null
          }
        }
      }
    }
  },
  "cells": [
    {
      "cell_type": "code",
      "metadata": {
        "id": "clPJHRs9rQ_c"
      },
      "source": [
        "#Google drive save session\n",
        "import os\n",
        "import dill\n",
        "from google.colab import drive\n",
        "\n",
        "backup_dir = 'drive/My Drive/coadalab/malayalam'\n",
        "backup_file = 'notebook_env.db'\n",
        "backup_path = backup_dir + '/' + backup_file\n",
        "\n",
        "def init_drive():\n",
        "  # create directory if not exist\n",
        "  drive.mount('drive')\n",
        "  if not os.path.exists(backup_dir):\n",
        "    !mkdir backup_dir\n",
        "\n",
        "def restart_kernel():\n",
        "  os._exit(00)\n",
        "\n",
        "def save_session():\n",
        "  init_drive()\n",
        "  dill.dump_session(backup_path)\n",
        "\n",
        "def load_session():\n",
        "  init_drive()\n",
        "  dill.load_session(backup_path)"
      ],
      "execution_count": 1,
      "outputs": []
    },
    {
      "cell_type": "code",
      "metadata": {
        "id": "Z_tGoy3vQDIj"
      },
      "source": [
        "# And pandas for data import\n",
        "import pandas as pd"
      ],
      "execution_count": 2,
      "outputs": []
    },
    {
      "cell_type": "code",
      "metadata": {
        "colab": {
          "base_uri": "https://localhost:8080/"
        },
        "id": "nGmDyhiFQnmS",
        "outputId": "365b368c-3dbf-4977-d5d5-21e6a3685d25"
      },
      "source": [
        "# Import Files\n",
        "import os\n",
        "\n",
        "# Import data from csv\n",
        "data = pd.read_csv(\"/tmp/mal_full_offensive_train.csv\")\n",
        "data_dev = pd.read_csv(\"/tmp/mal_full_offensive_dev.csv\")\n",
        "\n",
        "# Select required columns\n",
        "data = data[['text', 'label']]\n",
        "data_dev = data_dev[['text', 'label']]\n",
        "\n",
        "# Remove a row if any of the two remaining columns are missing\n",
        "data = data.dropna();\n",
        "data_dev = data_dev.dropna()\n",
        "\n",
        "print(data)\n",
        "print(data_dev)"
      ],
      "execution_count": 4,
      "outputs": [
        {
          "output_type": "stream",
          "text": [
            "                                                    text          label\n",
            "0      പലദേശം. പല ഭാഷ ഒരേ ഒരു രാജാവ്  അല്ലാതെ  സ്വന്ത...  Not_offensive\n",
            "1      ഈ ഓണം ഏട്ടനും പിള്ളേർക്ക് ഉള്ളതാണ് എന്ന് ഉള്ളവ...  Not_offensive\n",
            "2      ആരണ്ട ആരണ്ട തലുണ്ടാകാണാ ആരണ്ട ഞാൻ ആണ്ട ഞാൻ ആണ്...  Not_offensive\n",
            "3              Sushin syam  Shaiju khalid  Midhun manual  Not_offensive\n",
            "4                              J A K E S.   B EJ O Y !!!  Not_offensive\n",
            "...                                                  ...            ...\n",
            "16005  കട്ട ലാലേട്ടൻ ഫാൻസിന് ദൈവത്തെ ഓർത്ത് അമിത പ്രത...  Not_offensive\n",
            "16006  ente mammookka ningal puliyalla oru simhama......  Not_offensive\n",
            "16007  Lucifer mass dialogues Ellam onnu comment chey...  Not_offensive\n",
            "16008                Like from Madurai (Tamil nadu) ....  not-malayalam\n",
            "16009  അടിമകൾ ആയി ജീവിച്ചു മാറിക്കയല്ല ചാവേറായി ചാവാറ...  Not_offensive\n",
            "\n",
            "[16010 rows x 2 columns]\n",
            "                                                   text          label\n",
            "0     Gopichettante BGM um mammookayum ishtapedunnav...  Not_offensive\n",
            "1     ഇത് ഒരു പെണ്ണ് തന്നെ ആണോ direct ചെയ്യുന്നത്  p...  Not_offensive\n",
            "2     പൃഥ്വിരാജ് സുരാജേട്ടൻ ലാലും അലക്സ്.. Lal jr. ന...  Not_offensive\n",
            "3     പോകരുത് മക്കളെ പോക്ക .......... നൻ കണ്ട് എന്റ്...  Not_offensive\n",
            "4                avan Varum ente Makan Madhura Raja....  Not_offensive\n",
            "...                                                 ...            ...\n",
            "1994  Onnam ഇട്ടി മണി & brathors ഡേ വിന്നർ ലാലേട്ടൻ ...  Not_offensive\n",
            "1995  Manju chechi undel hero vendaa. Chechi vere le...  Not_offensive\n",
            "1996  Ith kollaaaam....kanda ooodayp trailer ne kalu...  Not_offensive\n",
            "1997           Ufffff.  Pwoli lalattaa... Katta waiting  Not_offensive\n",
            "1998  trailer kollam but oru tamil movie remake anu ...  Not_offensive\n",
            "\n",
            "[1999 rows x 2 columns]\n"
          ],
          "name": "stdout"
        }
      ]
    },
    {
      "cell_type": "code",
      "metadata": {
        "id": "5jCgHcJSmILF"
      },
      "source": [
        "# copy + klearn because you allways need sklearn\n",
        "import copy\n",
        "from sklearn.model_selection import train_test_split"
      ],
      "execution_count": 5,
      "outputs": []
    },
    {
      "cell_type": "code",
      "metadata": {
        "colab": {
          "base_uri": "https://localhost:8080/"
        },
        "id": "XcjLMKKbT3En",
        "outputId": "b9549cca-70af-4fa4-9006-c7ea528084e0"
      },
      "source": [
        "# Remove rows, where the label is present only ones (can't be split)\n",
        "data = data.groupby('label').filter(lambda x : len(x) > 1)\n",
        "data_dev = data_dev.groupby('label').filter(lambda x : len(x) > 1)\n",
        "\n",
        "# Remove rows, where the label is present only in the array\n",
        "data = data[data.label.isin(['Not_offensive', 'Offensive_Targeted_Insult_Other', 'Offensive_Targeted_Insult_Individual', 'Offensive_Targeted_Insult_Group', 'not-malayalam', 'Offensive_Untargetede'])]\n",
        "data_dev = data_dev[data_dev.label.isin(['Not_offensive', 'Offensive_Targeted_Insult_Other', 'Offensive_Targeted_Insult_Individual', 'Offensive_Targeted_Insult_Group', 'not-malayalam', 'Offensive_Untargetede'])]\n",
        "\n",
        "# Set your model output as categorical and save in new label col\n",
        "data['label_label'] = pd.Categorical(data['label'])\n",
        "data_dev['label_label'] = pd.Categorical(data_dev['label'])\n",
        "\n",
        "# Transform your output to numeric\n",
        "data['label'] = data['label_label'].cat.codes\n",
        "data_dev['label'] = data_dev['label_label'].cat.codes\n",
        "\n",
        "print(data)\n",
        "print(data_dev)"
      ],
      "execution_count": 6,
      "outputs": [
        {
          "output_type": "stream",
          "text": [
            "                                                    text  label    label_label\n",
            "0      പലദേശം. പല ഭാഷ ഒരേ ഒരു രാജാവ്  അല്ലാതെ  സ്വന്ത...      0  Not_offensive\n",
            "1      ഈ ഓണം ഏട്ടനും പിള്ളേർക്ക് ഉള്ളതാണ് എന്ന് ഉള്ളവ...      0  Not_offensive\n",
            "2      ആരണ്ട ആരണ്ട തലുണ്ടാകാണാ ആരണ്ട ഞാൻ ആണ്ട ഞാൻ ആണ്...      0  Not_offensive\n",
            "3              Sushin syam  Shaiju khalid  Midhun manual      0  Not_offensive\n",
            "4                              J A K E S.   B EJ O Y !!!      0  Not_offensive\n",
            "...                                                  ...    ...            ...\n",
            "16005  കട്ട ലാലേട്ടൻ ഫാൻസിന് ദൈവത്തെ ഓർത്ത് അമിത പ്രത...      0  Not_offensive\n",
            "16006  ente mammookka ningal puliyalla oru simhama......      0  Not_offensive\n",
            "16007  Lucifer mass dialogues Ellam onnu comment chey...      0  Not_offensive\n",
            "16008                Like from Madurai (Tamil nadu) ....      4  not-malayalam\n",
            "16009  അടിമകൾ ആയി ജീവിച്ചു മാറിക്കയല്ല ചാവേറായി ചാവാറ...      0  Not_offensive\n",
            "\n",
            "[15993 rows x 3 columns]\n",
            "                                                   text  label    label_label\n",
            "0     Gopichettante BGM um mammookayum ishtapedunnav...      0  Not_offensive\n",
            "1     ഇത് ഒരു പെണ്ണ് തന്നെ ആണോ direct ചെയ്യുന്നത്  p...      0  Not_offensive\n",
            "2     പൃഥ്വിരാജ് സുരാജേട്ടൻ ലാലും അലക്സ്.. Lal jr. ന...      0  Not_offensive\n",
            "3     പോകരുത് മക്കളെ പോക്ക .......... നൻ കണ്ട് എന്റ്...      0  Not_offensive\n",
            "4                avan Varum ente Makan Madhura Raja....      0  Not_offensive\n",
            "...                                                 ...    ...            ...\n",
            "1994  Onnam ഇട്ടി മണി & brathors ഡേ വിന്നർ ലാലേട്ടൻ ...      0  Not_offensive\n",
            "1995  Manju chechi undel hero vendaa. Chechi vere le...      0  Not_offensive\n",
            "1996  Ith kollaaaam....kanda ooodayp trailer ne kalu...      0  Not_offensive\n",
            "1997           Ufffff.  Pwoli lalattaa... Katta waiting      0  Not_offensive\n",
            "1998  trailer kollam but oru tamil movie remake anu ...      0  Not_offensive\n",
            "\n",
            "[1996 rows x 3 columns]\n"
          ],
          "name": "stdout"
        }
      ]
    },
    {
      "cell_type": "code",
      "metadata": {
        "colab": {
          "base_uri": "https://localhost:8080/",
          "height": 296
        },
        "id": "4UZgGSxiQwEe",
        "outputId": "7f6ff7d9-cf5e-4ec9-aa79-b73fda606f34"
      },
      "source": [
        "#Plot the bar chart of Train\n",
        "import seaborn as sns\n",
        "\n",
        "sns.countplot(x='label', data=data)"
      ],
      "execution_count": 7,
      "outputs": [
        {
          "output_type": "execute_result",
          "data": {
            "text/plain": [
              "<matplotlib.axes._subplots.AxesSubplot at 0x7fabd853ab38>"
            ]
          },
          "metadata": {
            "tags": []
          },
          "execution_count": 7
        },
        {
          "output_type": "display_data",
          "data": {
            "image/png": "[encoded data removed]",
            "text/plain": [
              "<Figure size 432x288 with 1 Axes>"
            ]
          },
          "metadata": {
            "tags": [],
            "needs_background": "light"
          }
        }
      ]
    },
    {
      "cell_type": "code",
      "metadata": {
        "colab": {
          "base_uri": "https://localhost:8080/",
          "height": 296
        },
        "id": "HQ98iitSQyOs",
        "outputId": "d1e20b96-4782-4d37-b356-edaf064c219a"
      },
      "source": [
        "#Plot the bar chart of Dev\n",
        "sns.countplot(x='label', data=data_dev)"
      ],
      "execution_count": 8,
      "outputs": [
        {
          "output_type": "execute_result",
          "data": {
            "text/plain": [
              "<matplotlib.axes._subplots.AxesSubplot at 0x7fabd84b8908>"
            ]
          },
          "metadata": {
            "tags": []
          },
          "execution_count": 8
        },
        {
          "output_type": "display_data",
          "data": {
            "image/png": "[encoded data removed]",
            "text/plain": [
              "<Figure size 432x288 with 1 Axes>"
            ]
          },
          "metadata": {
            "tags": [],
            "needs_background": "light"
          }
        }
      ]
    },
    {
      "cell_type": "code",
      "metadata": {
        "id": "HjNECnjyfhN5",
        "colab": {
          "base_uri": "https://localhost:8080/"
        },
        "outputId": "cbb88fc6-007e-4c2d-9a93-e6fe7903a8a9"
      },
      "source": [
        "# Load Huggingface transformers\n",
        "!pip install transformers\n",
        "from transformers import TFBertModel,  BertConfig, BertTokenizerFast\n",
        "from tensorflow.keras.models import Model"
      ],
      "execution_count": 9,
      "outputs": [
        {
          "output_type": "stream",
          "text": [
            "Collecting transformers\n",
            "\u001b[?25l  Downloading https://files.pythonhosted.org/packages/50/0c/7d5950fcd80b029be0a8891727ba21e0cd27692c407c51261c3c921f6da3/transformers-4.1.1-py3-none-any.whl (1.5MB)\n",
            "\r\u001b[K     |▏                               | 10kB 21.4MB/s eta 0:00:01\r\u001b[K     |▍                               | 20kB 29.9MB/s eta 0:00:01\r\u001b[K     |▋                               | 30kB 22.9MB/s eta 0:00:01\r\u001b[K     |▉                               | 40kB 17.7MB/s eta 0:00:01\r\u001b[K     |█                               | 51kB 15.3MB/s eta 0:00:01\r\u001b[K     |█▎                              | 61kB 16.6MB/s eta 0:00:01\r\u001b[K     |█▌                              | 71kB 13.7MB/s eta 0:00:01\r\u001b[K     |█▊                              | 81kB 14.2MB/s eta 0:00:01\r\u001b[K     |██                              | 92kB 14.4MB/s eta 0:00:01\r\u001b[K     |██▏                             | 102kB 13.4MB/s eta 0:00:01\r\u001b[K     |██▍                             | 112kB 13.4MB/s eta 0:00:01\r\u001b[K     |██▋                             | 122kB 13.4MB/s eta 0:00:01\r\u001b[K     |██▉                             | 133kB 13.4MB/s eta 0:00:01\r\u001b[K     |███                             | 143kB 13.4MB/s eta 0:00:01\r\u001b[K     |███▎                            | 153kB 13.4MB/s eta 0:00:01\r\u001b[K     |███▌                            | 163kB 13.4MB/s eta 0:00:01\r\u001b[K     |███▊                            | 174kB 13.4MB/s eta 0:00:01\r\u001b[K     |████                            | 184kB 13.4MB/s eta 0:00:01\r\u001b[K     |████▏                           | 194kB 13.4MB/s eta 0:00:01\r\u001b[K     |████▎                           | 204kB 13.4MB/s eta 0:00:01\r\u001b[K     |████▌                           | 215kB 13.4MB/s eta 0:00:01\r\u001b[K     |████▊                           | 225kB 13.4MB/s eta 0:00:01\r\u001b[K     |█████                           | 235kB 13.4MB/s eta 0:00:01\r\u001b[K     |█████▏                          | 245kB 13.4MB/s eta 0:00:01\r\u001b[K     |█████▍                          | 256kB 13.4MB/s eta 0:00:01\r\u001b[K     |█████▋                          | 266kB 13.4MB/s eta 0:00:01\r\u001b[K     |█████▉                          | 276kB 13.4MB/s eta 0:00:01\r\u001b[K     |██████                          | 286kB 13.4MB/s eta 0:00:01\r\u001b[K     |██████▎                         | 296kB 13.4MB/s eta 0:00:01\r\u001b[K     |██████▌                         | 307kB 13.4MB/s eta 0:00:01\r\u001b[K     |██████▊                         | 317kB 13.4MB/s eta 0:00:01\r\u001b[K     |███████                         | 327kB 13.4MB/s eta 0:00:01\r\u001b[K     |███████▏                        | 337kB 13.4MB/s eta 0:00:01\r\u001b[K     |███████▍                        | 348kB 13.4MB/s eta 0:00:01\r\u001b[K     |███████▋                        | 358kB 13.4MB/s eta 0:00:01\r\u001b[K     |███████▉                        | 368kB 13.4MB/s eta 0:00:01\r\u001b[K     |████████                        | 378kB 13.4MB/s eta 0:00:01\r\u001b[K     |████████▎                       | 389kB 13.4MB/s eta 0:00:01\r\u001b[K     |████████▌                       | 399kB 13.4MB/s eta 0:00:01\r\u001b[K     |████████▋                       | 409kB 13.4MB/s eta 0:00:01\r\u001b[K     |████████▉                       | 419kB 13.4MB/s eta 0:00:01\r\u001b[K     |█████████                       | 430kB 13.4MB/s eta 0:00:01\r\u001b[K     |█████████▎                      | 440kB 13.4MB/s eta 0:00:01\r\u001b[K     |█████████▌                      | 450kB 13.4MB/s eta 0:00:01\r\u001b[K     |█████████▊                      | 460kB 13.4MB/s eta 0:00:01\r\u001b[K     |██████████                      | 471kB 13.4MB/s eta 0:00:01\r\u001b[K     |██████████▏                     | 481kB 13.4MB/s eta 0:00:01\r\u001b[K     |██████████▍                     | 491kB 13.4MB/s eta 0:00:01\r\u001b[K     |██████████▋                     | 501kB 13.4MB/s eta 0:00:01\r\u001b[K     |██████████▉                     | 512kB 13.4MB/s eta 0:00:01\r\u001b[K     |███████████                     | 522kB 13.4MB/s eta 0:00:01\r\u001b[K     |███████████▎                    | 532kB 13.4MB/s eta 0:00:01\r\u001b[K     |███████████▌                    | 542kB 13.4MB/s eta 0:00:01\r\u001b[K     |███████████▊                    | 552kB 13.4MB/s eta 0:00:01\r\u001b[K     |████████████                    | 563kB 13.4MB/s eta 0:00:01\r\u001b[K     |████████████▏                   | 573kB 13.4MB/s eta 0:00:01\r\u001b[K     |████████████▍                   | 583kB 13.4MB/s eta 0:00:01\r\u001b[K     |████████████▋                   | 593kB 13.4MB/s eta 0:00:01\r\u001b[K     |████████████▉                   | 604kB 13.4MB/s eta 0:00:01\r\u001b[K     |█████████████                   | 614kB 13.4MB/s eta 0:00:01\r\u001b[K     |█████████████▏                  | 624kB 13.4MB/s eta 0:00:01\r\u001b[K     |█████████████▍                  | 634kB 13.4MB/s eta 0:00:01\r\u001b[K     |█████████████▋                  | 645kB 13.4MB/s eta 0:00:01\r\u001b[K     |█████████████▉                  | 655kB 13.4MB/s eta 0:00:01\r\u001b[K     |██████████████                  | 665kB 13.4MB/s eta 0:00:01\r\u001b[K     |██████████████▎                 | 675kB 13.4MB/s eta 0:00:01\r\u001b[K     |██████████████▌                 | 686kB 13.4MB/s eta 0:00:01\r\u001b[K     |██████████████▊                 | 696kB 13.4MB/s eta 0:00:01\r\u001b[K     |███████████████                 | 706kB 13.4MB/s eta 0:00:01\r\u001b[K     |███████████████▏                | 716kB 13.4MB/s eta 0:00:01\r\u001b[K     |███████████████▍                | 727kB 13.4MB/s eta 0:00:01\r\u001b[K     |███████████████▋                | 737kB 13.4MB/s eta 0:00:01\r\u001b[K     |███████████████▉                | 747kB 13.4MB/s eta 0:00:01\r\u001b[K     |████████████████                | 757kB 13.4MB/s eta 0:00:01\r\u001b[K     |████████████████▎               | 768kB 13.4MB/s eta 0:00:01\r\u001b[K     |████████████████▌               | 778kB 13.4MB/s eta 0:00:01\r\u001b[K     |████████████████▊               | 788kB 13.4MB/s eta 0:00:01\r\u001b[K     |█████████████████               | 798kB 13.4MB/s eta 0:00:01\r\u001b[K     |█████████████████               | 808kB 13.4MB/s eta 0:00:01\r\u001b[K     |█████████████████▎              | 819kB 13.4MB/s eta 0:00:01\r\u001b[K     |█████████████████▌              | 829kB 13.4MB/s eta 0:00:01\r\u001b[K     |█████████████████▊              | 839kB 13.4MB/s eta 0:00:01\r\u001b[K     |██████████████████              | 849kB 13.4MB/s eta 0:00:01\r\u001b[K     |██████████████████▏             | 860kB 13.4MB/s eta 0:00:01\r\u001b[K     |██████████████████▍             | 870kB 13.4MB/s eta 0:00:01\r\u001b[K     |██████████████████▋             | 880kB 13.4MB/s eta 0:00:01\r\u001b[K     |██████████████████▉             | 890kB 13.4MB/s eta 0:00:01\r\u001b[K     |███████████████████             | 901kB 13.4MB/s eta 0:00:01\r\u001b[K     |███████████████████▎            | 911kB 13.4MB/s eta 0:00:01\r\u001b[K     |███████████████████▌            | 921kB 13.4MB/s eta 0:00:01\r\u001b[K     |███████████████████▊            | 931kB 13.4MB/s eta 0:00:01\r\u001b[K     |████████████████████            | 942kB 13.4MB/s eta 0:00:01\r\u001b[K     |████████████████████▏           | 952kB 13.4MB/s eta 0:00:01\r\u001b[K     |████████████████████▍           | 962kB 13.4MB/s eta 0:00:01\r\u001b[K     |████████████████████▋           | 972kB 13.4MB/s eta 0:00:01\r\u001b[K     |████████████████████▉           | 983kB 13.4MB/s eta 0:00:01\r\u001b[K     |█████████████████████           | 993kB 13.4MB/s eta 0:00:01\r\u001b[K     |█████████████████████▎          | 1.0MB 13.4MB/s eta 0:00:01\r\u001b[K     |█████████████████████▍          | 1.0MB 13.4MB/s eta 0:00:01\r\u001b[K     |█████████████████████▋          | 1.0MB 13.4MB/s eta 0:00:01\r\u001b[K     |█████████████████████▉          | 1.0MB 13.4MB/s eta 0:00:01\r\u001b[K     |██████████████████████          | 1.0MB 13.4MB/s eta 0:00:01\r\u001b[K     |██████████████████████▎         | 1.1MB 13.4MB/s eta 0:00:01\r\u001b[K     |██████████████████████▌         | 1.1MB 13.4MB/s eta 0:00:01\r\u001b[K     |██████████████████████▊         | 1.1MB 13.4MB/s eta 0:00:01\r\u001b[K     |███████████████████████         | 1.1MB 13.4MB/s eta 0:00:01\r\u001b[K     |███████████████████████▏        | 1.1MB 13.4MB/s eta 0:00:01\r\u001b[K     |███████████████████████▍        | 1.1MB 13.4MB/s eta 0:00:01\r\u001b[K     |███████████████████████▋        | 1.1MB 13.4MB/s eta 0:00:01\r\u001b[K     |███████████████████████▉        | 1.1MB 13.4MB/s eta 0:00:01\r\u001b[K     |████████████████████████        | 1.1MB 13.4MB/s eta 0:00:01\r\u001b[K     |████████████████████████▎       | 1.1MB 13.4MB/s eta 0:00:01\r\u001b[K     |████████████████████████▌       | 1.2MB 13.4MB/s eta 0:00:01\r\u001b[K     |████████████████████████▊       | 1.2MB 13.4MB/s eta 0:00:01\r\u001b[K     |█████████████████████████       | 1.2MB 13.4MB/s eta 0:00:01\r\u001b[K     |█████████████████████████▏      | 1.2MB 13.4MB/s eta 0:00:01\r\u001b[K     |█████████████████████████▍      | 1.2MB 13.4MB/s eta 0:00:01\r\u001b[K     |█████████████████████████▋      | 1.2MB 13.4MB/s eta 0:00:01\r\u001b[K     |█████████████████████████▊      | 1.2MB 13.4MB/s eta 0:00:01\r\u001b[K     |██████████████████████████      | 1.2MB 13.4MB/s eta 0:00:01\r\u001b[K     |██████████████████████████▏     | 1.2MB 13.4MB/s eta 0:00:01\r\u001b[K     |██████████████████████████▍     | 1.2MB 13.4MB/s eta 0:00:01\r\u001b[K     |██████████████████████████▋     | 1.3MB 13.4MB/s eta 0:00:01\r\u001b[K     |██████████████████████████▉     | 1.3MB 13.4MB/s eta 0:00:01\r\u001b[K     |███████████████████████████     | 1.3MB 13.4MB/s eta 0:00:01\r\u001b[K     |███████████████████████████▎    | 1.3MB 13.4MB/s eta 0:00:01\r\u001b[K     |███████████████████████████▌    | 1.3MB 13.4MB/s eta 0:00:01\r\u001b[K     |███████████████████████████▊    | 1.3MB 13.4MB/s eta 0:00:01\r\u001b[K     |████████████████████████████    | 1.3MB 13.4MB/s eta 0:00:01\r\u001b[K     |████████████████████████████▏   | 1.3MB 13.4MB/s eta 0:00:01\r\u001b[K     |████████████████████████████▍   | 1.3MB 13.4MB/s eta 0:00:01\r\u001b[K     |████████████████████████████▋   | 1.4MB 13.4MB/s eta 0:00:01\r\u001b[K     |████████████████████████████▉   | 1.4MB 13.4MB/s eta 0:00:01\r\u001b[K     |█████████████████████████████   | 1.4MB 13.4MB/s eta 0:00:01\r\u001b[K     |█████████████████████████████▎  | 1.4MB 13.4MB/s eta 0:00:01\r\u001b[K     |█████████████████████████████▌  | 1.4MB 13.4MB/s eta 0:00:01\r\u001b[K     |█████████████████████████████▊  | 1.4MB 13.4MB/s eta 0:00:01\r\u001b[K     |█████████████████████████████▉  | 1.4MB 13.4MB/s eta 0:00:01\r\u001b[K     |██████████████████████████████  | 1.4MB 13.4MB/s eta 0:00:01\r\u001b[K     |██████████████████████████████▎ | 1.4MB 13.4MB/s eta 0:00:01\r\u001b[K     |██████████████████████████████▌ | 1.4MB 13.4MB/s eta 0:00:01\r\u001b[K     |██████████████████████████████▊ | 1.5MB 13.4MB/s eta 0:00:01\r\u001b[K     |███████████████████████████████ | 1.5MB 13.4MB/s eta 0:00:01\r\u001b[K     |███████████████████████████████▏| 1.5MB 13.4MB/s eta 0:00:01\r\u001b[K     |███████████████████████████████▍| 1.5MB 13.4MB/s eta 0:00:01\r\u001b[K     |███████████████████████████████▋| 1.5MB 13.4MB/s eta 0:00:01\r\u001b[K     |███████████████████████████████▉| 1.5MB 13.4MB/s eta 0:00:01\r\u001b[K     |████████████████████████████████| 1.5MB 13.4MB/s \n",
            "\u001b[?25hRequirement already satisfied: numpy in /usr/local/lib/python3.6/dist-packages (from transformers) (1.19.4)\n",
            "Requirement already satisfied: filelock in /usr/local/lib/python3.6/dist-packages (from transformers) (3.0.12)\n",
            "Requirement already satisfied: requests in /usr/local/lib/python3.6/dist-packages (from transformers) (2.23.0)\n",
            "Requirement already satisfied: regex!=2019.12.17 in /usr/local/lib/python3.6/dist-packages (from transformers) (2019.12.20)\n",
            "Requirement already satisfied: dataclasses; python_version < \"3.7\" in /usr/local/lib/python3.6/dist-packages (from transformers) (0.8)\n",
            "Requirement already satisfied: tqdm>=4.27 in /usr/local/lib/python3.6/dist-packages (from transformers) (4.41.1)\n",
            "Requirement already satisfied: packaging in /usr/local/lib/python3.6/dist-packages (from transformers) (20.8)\n",
            "Collecting tokenizers==0.9.4\n",
            "\u001b[?25l  Downloading https://files.pythonhosted.org/packages/0f/1c/e789a8b12e28be5bc1ce2156cf87cb522b379be9cadc7ad8091a4cc107c4/tokenizers-0.9.4-cp36-cp36m-manylinux2010_x86_64.whl (2.9MB)\n",
            "\u001b[K     |████████████████████████████████| 2.9MB 57.6MB/s \n",
            "\u001b[?25hCollecting sacremoses\n",
            "\u001b[?25l  Downloading https://files.pythonhosted.org/packages/7d/34/09d19aff26edcc8eb2a01bed8e98f13a1537005d31e95233fd48216eed10/sacremoses-0.0.43.tar.gz (883kB)\n",
            "\u001b[K     |████████████████████████████████| 890kB 52.6MB/s \n",
            "\u001b[?25hRequirement already satisfied: idna<3,>=2.5 in /usr/local/lib/python3.6/dist-packages (from requests->transformers) (2.10)\n",
            "Requirement already satisfied: certifi>=2017.4.17 in /usr/local/lib/python3.6/dist-packages (from requests->transformers) (2020.12.5)\n",
            "Requirement already satisfied: urllib3!=1.25.0,!=1.25.1,<1.26,>=1.21.1 in /usr/local/lib/python3.6/dist-packages (from requests->transformers) (1.24.3)\n",
            "Requirement already satisfied: chardet<4,>=3.0.2 in /usr/local/lib/python3.6/dist-packages (from requests->transformers) (3.0.4)\n",
            "Requirement already satisfied: pyparsing>=2.0.2 in /usr/local/lib/python3.6/dist-packages (from packaging->transformers) (2.4.7)\n",
            "Requirement already satisfied: six in /usr/local/lib/python3.6/dist-packages (from sacremoses->transformers) (1.15.0)\n",
            "Requirement already satisfied: click in /usr/local/lib/python3.6/dist-packages (from sacremoses->transformers) (7.1.2)\n",
            "Requirement already satisfied: joblib in /usr/local/lib/python3.6/dist-packages (from sacremoses->transformers) (1.0.0)\n",
            "Building wheels for collected packages: sacremoses\n",
            "  Building wheel for sacremoses (setup.py) ... \u001b[?25l\u001b[?25hdone\n",
            "  Created wheel for sacremoses: filename=sacremoses-0.0.43-cp36-none-any.whl size=893261 sha256=01f63f6514e2ced1108a0e68b5f5bb7dd93460b2e7a0377c49b68569ee89bf69\n",
            "  Stored in directory: /root/.cache/pip/wheels/29/3c/fd/7ce5c3f0666dab31a50123635e6fb5e19ceb42ce38d4e58f45\n",
            "Successfully built sacremoses\n",
            "Installing collected packages: tokenizers, sacremoses, transformers\n",
            "Successfully installed sacremoses-0.0.43 tokenizers-0.9.4 transformers-4.1.1\n"
          ],
          "name": "stdout"
        }
      ]
    },
    {
      "cell_type": "code",
      "metadata": {
        "colab": {
          "base_uri": "https://localhost:8080/",
          "height": 318,
          "referenced_widgets": [
            "f8e7af673b9640639acab853cd350a40",
            "d2215213111c40d982f7d288f19fa7b1",
            "74252713179f406280a7c8862ca783d6",
            "55f748e437a34244a56df7f13b82e32c",
            "013977f76bc54a94b9a635788b267acf",
            "cc3a728bfba54cb2bf03e26f4636373a",
            "65a9e0cabb5147dfb51bd633d976750e",
            "d173ed55f1c84bee8edf9b6215b3ef2b",
            "7362f98c4f564e87b8aa363f963a0b5b",
            "72a9ba4add434e50a17109d23cb197a9",
            "c664bf52713b4f6a8376ee2543822f09",
            "5fd8bd8f5b1143309fec47c184bfe2f1",
            "19cc7e8e673f4b05b9a4f3d5465448aa",
            "0db8e494a1e04d1b900fb484714723ee",
            "7b3f1ad111ff4df6b6729218b00afa69",
            "75993c64383644e9b016714e5f7c9534",
            "d4a1b0c89e7747beaf08a8116bf3cfb6",
            "b41d97009bd34408903afb7fcdac48ba",
            "f651ed92546d45a48856f972521761ae",
            "41cffdb42484495f87f164e4c5a1ecae",
            "d0c06ec55c2d490e8b4765998e9f30f4",
            "6e72403fd8c9470dabf9d38e0a80dd51",
            "14cda8a48b534b69b5c048091510102b",
            "cae0a383aef64ca9803d6385a255ff62",
            "bcfe287e6b3247c39012af9a1640ffcb",
            "519428dc87304c139ad0e9ee6c961420",
            "603ceaf0b3414a37be460b138ccdaa31",
            "ebb09f01c39540ac94db0dbcbbb8e4b6",
            "c109c14f03204f2086bb03c74a272ed7",
            "0a4ff3507d804b22961675a11333901a",
            "861479b43b4047a692c29ea8a0f92eb8",
            "d2230ab52764426ba51db96e26e374b2"
          ]
        },
        "id": "mkvZJs5QQ-KG",
        "outputId": "f99c7cdc-ff77-4436-bc4f-535b0720ab18"
      },
      "source": [
        "#Setup BERT\n",
        "\n",
        "# Name of the BERT model to use\n",
        "model_name = 'bert-base-multilingual-cased'\n",
        "\n",
        "# Load transformers config and set output_hidden_states to False\n",
        "config = BertConfig.from_pretrained(model_name)\n",
        "config.output_hidden_states = False\n",
        "\n",
        "# Load BERT tokenizer\n",
        "tokenizer = BertTokenizerFast.from_pretrained(pretrained_model_name_or_path = model_name, config = config)\n",
        "\n",
        "# Load the Transformers BERT model\n",
        "transformer_model = TFBertModel.from_pretrained(model_name, config = config)"
      ],
      "execution_count": 10,
      "outputs": [
        {
          "output_type": "display_data",
          "data": {
            "application/vnd.jupyter.widget-view+json": {
              "model_id": "f8e7af673b9640639acab853cd350a40",
              "version_minor": 0,
              "version_major": 2
            },
            "text/plain": [
              "HBox(children=(FloatProgress(value=0.0, description='Downloading', max=625.0, style=ProgressStyle(description_…"
            ]
          },
          "metadata": {
            "tags": []
          }
        },
        {
          "output_type": "stream",
          "text": [
            "\n"
          ],
          "name": "stdout"
        },
        {
          "output_type": "display_data",
          "data": {
            "application/vnd.jupyter.widget-view+json": {
              "model_id": "7362f98c4f564e87b8aa363f963a0b5b",
              "version_minor": 0,
              "version_major": 2
            },
            "text/plain": [
              "HBox(children=(FloatProgress(value=0.0, description='Downloading', max=995526.0, style=ProgressStyle(descripti…"
            ]
          },
          "metadata": {
            "tags": []
          }
        },
        {
          "output_type": "stream",
          "text": [
            "\n"
          ],
          "name": "stdout"
        },
        {
          "output_type": "display_data",
          "data": {
            "application/vnd.jupyter.widget-view+json": {
              "model_id": "d4a1b0c89e7747beaf08a8116bf3cfb6",
              "version_minor": 0,
              "version_major": 2
            },
            "text/plain": [
              "HBox(children=(FloatProgress(value=0.0, description='Downloading', max=1961828.0, style=ProgressStyle(descript…"
            ]
          },
          "metadata": {
            "tags": []
          }
        },
        {
          "output_type": "stream",
          "text": [
            "\n"
          ],
          "name": "stdout"
        },
        {
          "output_type": "display_data",
          "data": {
            "application/vnd.jupyter.widget-view+json": {
              "model_id": "bcfe287e6b3247c39012af9a1640ffcb",
              "version_minor": 0,
              "version_major": 2
            },
            "text/plain": [
              "HBox(children=(FloatProgress(value=0.0, description='Downloading', max=1083389348.0, style=ProgressStyle(descr…"
            ]
          },
          "metadata": {
            "tags": []
          }
        },
        {
          "output_type": "stream",
          "text": [
            "\n"
          ],
          "name": "stdout"
        },
        {
          "output_type": "stream",
          "text": [
            "Some layers from the model checkpoint at bert-base-multilingual-cased were not used when initializing TFBertModel: ['mlm___cls', 'nsp___cls']\n",
            "- This IS expected if you are initializing TFBertModel from the checkpoint of a model trained on another task or with another architecture (e.g. initializing a BertForSequenceClassification model from a BertForPreTraining model).\n",
            "- This IS NOT expected if you are initializing TFBertModel from the checkpoint of a model that you expect to be exactly identical (initializing a BertForSequenceClassification model from a BertForSequenceClassification model).\n",
            "All the layers of TFBertModel were initialized from the model checkpoint at bert-base-multilingual-cased.\n",
            "If your task is similar to the task the model of the checkpoint was trained on, you can already use TFBertModel for predictions without further training.\n"
          ],
          "name": "stderr"
        }
      ]
    },
    {
      "cell_type": "code",
      "metadata": {
        "id": "lOh-kukFhNfh"
      },
      "source": [
        "# Then what you need from tensorflow.keras\n",
        "from tensorflow.keras.layers import Input, Dropout, Dense\n",
        "from tensorflow.keras.initializers import TruncatedNormal"
      ],
      "execution_count": 11,
      "outputs": []
    },
    {
      "cell_type": "code",
      "metadata": {
        "colab": {
          "base_uri": "https://localhost:8080/"
        },
        "id": "JklUuiM5Q_9D",
        "outputId": "c3af26f1-f837-4452-9bd2-36e8c17e650e"
      },
      "source": [
        "#Build the model \n",
        "\n",
        "# Load the MainLayer\n",
        "bert = transformer_model.layers[0]\n",
        "\n",
        "# Max length of tokens\n",
        "max_length = 100\n",
        "\n",
        "# Build your model input\n",
        "input_ids = Input(shape=(max_length,), name='input_ids', dtype='int32')\n",
        "attention_mask = Input(shape=(max_length,), name='attention_mask', dtype='int32')\n",
        "inputs = {'input_ids': input_ids, 'attention_mask': attention_mask}\n",
        "\n",
        "# Load the Transformers BERT model as a layer in a Keras model\n",
        "bert_model = bert(inputs)[1]\n",
        "dropout = Dropout(config.hidden_dropout_prob, name='pooled_output')\n",
        "pooled_output = dropout(bert_model, training=False)\n",
        "\n",
        "# Then build your model output\n",
        "label = Dense(units=len(data.label_label.value_counts()), kernel_initializer=TruncatedNormal(stddev=config.initializer_range), name='class_type')(pooled_output)\n",
        "outputs = {'label': label}\n",
        "\n",
        "# And combine it all in a model object\n",
        "model = Model(inputs=inputs, outputs=outputs, name='bert-base-multilingual-cased')\n",
        "\n",
        "# Take a look at the model\n",
        "model.summary()"
      ],
      "execution_count": 12,
      "outputs": [
        {
          "output_type": "stream",
          "text": [
            "Model: \"bert-base-multilingual-cased\"\n",
            "__________________________________________________________________________________________________\n",
            "Layer (type)                    Output Shape         Param #     Connected to                     \n",
            "==================================================================================================\n",
            "attention_mask (InputLayer)     [(None, 100)]        0                                            \n",
            "__________________________________________________________________________________________________\n",
            "input_ids (InputLayer)          [(None, 100)]        0                                            \n",
            "__________________________________________________________________________________________________\n",
            "bert (TFBertMainLayer)          TFBaseModelOutputWit 177853440   attention_mask[0][0]             \n",
            "                                                                 input_ids[0][0]                  \n",
            "__________________________________________________________________________________________________\n",
            "pooled_output (Dropout)         (None, 768)          0           bert[0][1]                       \n",
            "__________________________________________________________________________________________________\n",
            "class_type (Dense)              (None, 5)            3845        pooled_output[0][0]              \n",
            "==================================================================================================\n",
            "Total params: 177,857,285\n",
            "Trainable params: 177,857,285\n",
            "Non-trainable params: 0\n",
            "__________________________________________________________________________________________________\n"
          ],
          "name": "stdout"
        }
      ]
    },
    {
      "cell_type": "code",
      "metadata": {
        "id": "POHXwS79foUE"
      },
      "source": [
        "#Import Keras Libraries\n",
        "from tensorflow.keras.optimizers import Adam\n",
        "from tensorflow.keras.callbacks import EarlyStopping\n",
        "from tensorflow.keras.losses import CategoricalCrossentropy\n",
        "from tensorflow.keras.metrics import CategoricalAccuracy\n",
        "from tensorflow.keras.utils import to_categorical"
      ],
      "execution_count": 13,
      "outputs": []
    },
    {
      "cell_type": "code",
      "metadata": {
        "colab": {
          "base_uri": "https://localhost:8080/"
        },
        "id": "BNfuPB_DRCWq",
        "outputId": "d7c70e3a-a564-4e31-fec0-80d785eb8882"
      },
      "source": [
        "#Train the model\n",
        "\n",
        "# Set an optimizer\n",
        "optimizer = Adam(\n",
        "    learning_rate=5e-05,\n",
        "    epsilon=1e-08,\n",
        "    decay=0.01,\n",
        "    clipnorm=1.0)\n",
        "\n",
        "# Set loss and metrics\n",
        "loss = {'label': CategoricalCrossentropy(from_logits = True)}\n",
        "metric = {'label': CategoricalAccuracy('accuracy')}\n",
        "\n",
        "# Compile the model\n",
        "model.compile(\n",
        "    optimizer = optimizer,\n",
        "    loss = loss, \n",
        "    metrics = metric)\n",
        "\n",
        "# Ready output data for the model\n",
        "y_label = to_categorical(data['label'])\n",
        "\n",
        "# Tokenize the input (takes some time)\n",
        "x = tokenizer(\n",
        "    text=data['text'].to_list(),\n",
        "    add_special_tokens=True,\n",
        "    max_length=max_length,\n",
        "    truncation=True,\n",
        "    padding=True, \n",
        "    return_tensors='tf',\n",
        "    return_token_type_ids = False,\n",
        "    return_attention_mask = True,\n",
        "    verbose = True)\n",
        "\n",
        "# Fit the model\n",
        "history = model.fit(\n",
        "    x={'input_ids': x['input_ids'], 'attention_mask': x['attention_mask']},\n",
        "    y={'label': y_label},\n",
        "    validation_split=0.2,\n",
        "    batch_size=64,\n",
        "    epochs=50)\n",
        "\n",
        "model.save(\"/tmp/text-classification-malayalam.h5\")"
      ],
      "execution_count": 14,
      "outputs": [
        {
          "output_type": "stream",
          "text": [
            "Epoch 1/50\n",
            "200/200 [==============================] - 114s 466ms/step - loss: 0.4587 - accuracy: 0.8793 - val_loss: 0.2933 - val_accuracy: 0.9290\n",
            "Epoch 2/50\n",
            "200/200 [==============================] - 90s 452ms/step - loss: 0.2496 - accuracy: 0.9410 - val_loss: 0.2411 - val_accuracy: 0.9390\n",
            "Epoch 3/50\n",
            "200/200 [==============================] - 90s 451ms/step - loss: 0.1834 - accuracy: 0.9562 - val_loss: 0.2237 - val_accuracy: 0.9406\n",
            "Epoch 4/50\n",
            "200/200 [==============================] - 90s 451ms/step - loss: 0.1539 - accuracy: 0.9621 - val_loss: 0.2185 - val_accuracy: 0.9419\n",
            "Epoch 5/50\n",
            "200/200 [==============================] - 90s 451ms/step - loss: 0.1299 - accuracy: 0.9643 - val_loss: 0.2380 - val_accuracy: 0.9369\n",
            "Epoch 6/50\n",
            "200/200 [==============================] - 90s 452ms/step - loss: 0.1110 - accuracy: 0.9715 - val_loss: 0.2212 - val_accuracy: 0.9456\n",
            "Epoch 7/50\n",
            "200/200 [==============================] - 90s 451ms/step - loss: 0.0944 - accuracy: 0.9745 - val_loss: 0.2388 - val_accuracy: 0.9450\n",
            "Epoch 8/50\n",
            "200/200 [==============================] - 90s 451ms/step - loss: 0.0833 - accuracy: 0.9765 - val_loss: 0.2219 - val_accuracy: 0.9456\n",
            "Epoch 9/50\n",
            "200/200 [==============================] - 90s 452ms/step - loss: 0.0684 - accuracy: 0.9813 - val_loss: 0.2265 - val_accuracy: 0.9462\n",
            "Epoch 10/50\n",
            "200/200 [==============================] - 90s 451ms/step - loss: 0.0657 - accuracy: 0.9807 - val_loss: 0.2351 - val_accuracy: 0.9494\n",
            "Epoch 11/50\n",
            "200/200 [==============================] - 90s 451ms/step - loss: 0.0620 - accuracy: 0.9817 - val_loss: 0.2286 - val_accuracy: 0.9503\n",
            "Epoch 12/50\n",
            "200/200 [==============================] - 91s 453ms/step - loss: 0.0519 - accuracy: 0.9844 - val_loss: 0.2283 - val_accuracy: 0.9497\n",
            "Epoch 13/50\n",
            "200/200 [==============================] - 90s 452ms/step - loss: 0.0500 - accuracy: 0.9847 - val_loss: 0.2272 - val_accuracy: 0.9519\n",
            "Epoch 14/50\n",
            "200/200 [==============================] - 90s 451ms/step - loss: 0.0423 - accuracy: 0.9878 - val_loss: 0.2289 - val_accuracy: 0.9509\n",
            "Epoch 15/50\n",
            "200/200 [==============================] - 90s 452ms/step - loss: 0.0441 - accuracy: 0.9868 - val_loss: 0.2285 - val_accuracy: 0.9522\n",
            "Epoch 16/50\n",
            "200/200 [==============================] - 90s 452ms/step - loss: 0.0426 - accuracy: 0.9856 - val_loss: 0.2356 - val_accuracy: 0.9528\n",
            "Epoch 17/50\n",
            "200/200 [==============================] - 90s 451ms/step - loss: 0.0421 - accuracy: 0.9869 - val_loss: 0.2379 - val_accuracy: 0.9531\n",
            "Epoch 18/50\n",
            "200/200 [==============================] - 90s 451ms/step - loss: 0.0322 - accuracy: 0.9920 - val_loss: 0.2372 - val_accuracy: 0.9550\n",
            "Epoch 19/50\n",
            "200/200 [==============================] - 90s 452ms/step - loss: 0.0345 - accuracy: 0.9907 - val_loss: 0.2390 - val_accuracy: 0.9547\n",
            "Epoch 20/50\n",
            "200/200 [==============================] - 90s 451ms/step - loss: 0.0286 - accuracy: 0.9919 - val_loss: 0.2373 - val_accuracy: 0.9540\n",
            "Epoch 21/50\n",
            "200/200 [==============================] - 90s 451ms/step - loss: 0.0348 - accuracy: 0.9888 - val_loss: 0.2428 - val_accuracy: 0.9562\n",
            "Epoch 22/50\n",
            "200/200 [==============================] - 90s 452ms/step - loss: 0.0348 - accuracy: 0.9908 - val_loss: 0.2360 - val_accuracy: 0.9553\n",
            "Epoch 23/50\n",
            "200/200 [==============================] - 90s 452ms/step - loss: 0.0298 - accuracy: 0.9921 - val_loss: 0.2299 - val_accuracy: 0.9569\n",
            "Epoch 24/50\n",
            "200/200 [==============================] - 90s 451ms/step - loss: 0.0232 - accuracy: 0.9933 - val_loss: 0.2389 - val_accuracy: 0.9556\n",
            "Epoch 25/50\n",
            "200/200 [==============================] - 90s 452ms/step - loss: 0.0237 - accuracy: 0.9944 - val_loss: 0.2384 - val_accuracy: 0.9562\n",
            "Epoch 26/50\n",
            "200/200 [==============================] - 90s 452ms/step - loss: 0.0199 - accuracy: 0.9952 - val_loss: 0.2432 - val_accuracy: 0.9569\n",
            "Epoch 27/50\n",
            "200/200 [==============================] - 90s 452ms/step - loss: 0.0178 - accuracy: 0.9961 - val_loss: 0.2348 - val_accuracy: 0.9572\n",
            "Epoch 28/50\n",
            "200/200 [==============================] - 90s 452ms/step - loss: 0.0236 - accuracy: 0.9949 - val_loss: 0.2411 - val_accuracy: 0.9572\n",
            "Epoch 29/50\n",
            "200/200 [==============================] - 90s 452ms/step - loss: 0.0199 - accuracy: 0.9951 - val_loss: 0.2361 - val_accuracy: 0.9603\n",
            "Epoch 30/50\n",
            "200/200 [==============================] - 90s 452ms/step - loss: 0.0202 - accuracy: 0.9953 - val_loss: 0.2384 - val_accuracy: 0.9587\n",
            "Epoch 31/50\n",
            "200/200 [==============================] - 90s 451ms/step - loss: 0.0206 - accuracy: 0.9949 - val_loss: 0.2381 - val_accuracy: 0.9584\n",
            "Epoch 32/50\n",
            "200/200 [==============================] - 90s 452ms/step - loss: 0.0191 - accuracy: 0.9957 - val_loss: 0.2483 - val_accuracy: 0.9581\n",
            "Epoch 33/50\n",
            "200/200 [==============================] - 90s 452ms/step - loss: 0.0135 - accuracy: 0.9968 - val_loss: 0.2418 - val_accuracy: 0.9587\n",
            "Epoch 34/50\n",
            "200/200 [==============================] - 90s 452ms/step - loss: 0.0199 - accuracy: 0.9944 - val_loss: 0.2401 - val_accuracy: 0.9587\n",
            "Epoch 35/50\n",
            "200/200 [==============================] - 90s 451ms/step - loss: 0.0133 - accuracy: 0.9967 - val_loss: 0.2374 - val_accuracy: 0.9581\n",
            "Epoch 36/50\n",
            "200/200 [==============================] - 90s 452ms/step - loss: 0.0139 - accuracy: 0.9975 - val_loss: 0.2405 - val_accuracy: 0.9581\n",
            "Epoch 37/50\n",
            "200/200 [==============================] - 90s 452ms/step - loss: 0.0159 - accuracy: 0.9963 - val_loss: 0.2461 - val_accuracy: 0.9578\n",
            "Epoch 38/50\n",
            "200/200 [==============================] - 90s 452ms/step - loss: 0.0126 - accuracy: 0.9970 - val_loss: 0.2475 - val_accuracy: 0.9572\n",
            "Epoch 39/50\n",
            "200/200 [==============================] - 90s 452ms/step - loss: 0.0136 - accuracy: 0.9967 - val_loss: 0.2469 - val_accuracy: 0.9569\n",
            "Epoch 40/50\n",
            "200/200 [==============================] - 90s 452ms/step - loss: 0.0153 - accuracy: 0.9961 - val_loss: 0.2447 - val_accuracy: 0.9584\n",
            "Epoch 41/50\n",
            "200/200 [==============================] - 90s 452ms/step - loss: 0.0110 - accuracy: 0.9973 - val_loss: 0.2544 - val_accuracy: 0.9590\n",
            "Epoch 42/50\n",
            "200/200 [==============================] - 90s 452ms/step - loss: 0.0085 - accuracy: 0.9979 - val_loss: 0.2431 - val_accuracy: 0.9594\n",
            "Epoch 43/50\n",
            "200/200 [==============================] - 91s 453ms/step - loss: 0.0125 - accuracy: 0.9965 - val_loss: 0.2487 - val_accuracy: 0.9594\n",
            "Epoch 44/50\n",
            "200/200 [==============================] - 90s 452ms/step - loss: 0.0135 - accuracy: 0.9965 - val_loss: 0.2550 - val_accuracy: 0.9594\n",
            "Epoch 45/50\n",
            "200/200 [==============================] - 90s 452ms/step - loss: 0.0116 - accuracy: 0.9969 - val_loss: 0.2505 - val_accuracy: 0.9594\n",
            "Epoch 46/50\n",
            "200/200 [==============================] - 90s 452ms/step - loss: 0.0096 - accuracy: 0.9976 - val_loss: 0.2545 - val_accuracy: 0.9584\n",
            "Epoch 47/50\n",
            "200/200 [==============================] - 90s 452ms/step - loss: 0.0091 - accuracy: 0.9970 - val_loss: 0.2550 - val_accuracy: 0.9603\n",
            "Epoch 48/50\n",
            "200/200 [==============================] - 90s 452ms/step - loss: 0.0107 - accuracy: 0.9973 - val_loss: 0.2512 - val_accuracy: 0.9597\n",
            "Epoch 49/50\n",
            "200/200 [==============================] - 90s 452ms/step - loss: 0.0090 - accuracy: 0.9982 - val_loss: 0.2526 - val_accuracy: 0.9594\n",
            "Epoch 50/50\n",
            "200/200 [==============================] - 90s 452ms/step - loss: 0.0072 - accuracy: 0.9977 - val_loss: 0.2519 - val_accuracy: 0.9603\n"
          ],
          "name": "stdout"
        }
      ]
    },
    {
      "cell_type": "code",
      "metadata": {
        "colab": {
          "base_uri": "https://localhost:8080/"
        },
        "id": "y6e4v5wOEvyE",
        "outputId": "a75737c5-4cb4-4fe6-a2e6-e5e67bb3334d"
      },
      "source": [
        "#Model 2\n",
        "# Ready output data for the model\n",
        "y_label = to_categorical(data_dev['label'])\n",
        "\n",
        "# Tokenize the input (takes some time)\n",
        "x = tokenizer(\n",
        "    text=data_dev['text'].to_list(),\n",
        "    add_special_tokens=True,\n",
        "    max_length=max_length,\n",
        "    truncation=True,\n",
        "    padding=True, \n",
        "    return_tensors='tf',\n",
        "    return_token_type_ids = False,\n",
        "    return_attention_mask = True,\n",
        "    verbose = True)\n",
        "\n",
        "# Fit the model\n",
        "history = model.fit(\n",
        "    x={'input_ids': x['input_ids'], 'attention_mask': x['attention_mask']},\n",
        "    y={'label': y_label},\n",
        "    validation_split=0.2,\n",
        "    batch_size=64,\n",
        "    epochs=50)"
      ],
      "execution_count": 39,
      "outputs": [
        {
          "output_type": "stream",
          "text": [
            "Epoch 1/50\n",
            "25/25 [==============================] - 11s 455ms/step - loss: 0.2852 - accuracy: 0.9492 - val_loss: 0.2147 - val_accuracy: 0.9675\n",
            "Epoch 2/50\n",
            "25/25 [==============================] - 11s 455ms/step - loss: 0.2419 - accuracy: 0.9555 - val_loss: 0.2008 - val_accuracy: 0.9675\n",
            "Epoch 3/50\n",
            "25/25 [==============================] - 11s 454ms/step - loss: 0.2066 - accuracy: 0.9593 - val_loss: 0.1899 - val_accuracy: 0.9700\n",
            "Epoch 4/50\n",
            "25/25 [==============================] - 11s 454ms/step - loss: 0.1922 - accuracy: 0.9599 - val_loss: 0.1785 - val_accuracy: 0.9675\n",
            "Epoch 5/50\n",
            "25/25 [==============================] - 11s 454ms/step - loss: 0.1666 - accuracy: 0.9643 - val_loss: 0.1678 - val_accuracy: 0.9700\n",
            "Epoch 6/50\n",
            "25/25 [==============================] - 11s 454ms/step - loss: 0.1654 - accuracy: 0.9593 - val_loss: 0.1618 - val_accuracy: 0.9700\n",
            "Epoch 7/50\n",
            "25/25 [==============================] - 11s 454ms/step - loss: 0.1448 - accuracy: 0.9668 - val_loss: 0.1651 - val_accuracy: 0.9675\n",
            "Epoch 8/50\n",
            "25/25 [==============================] - 11s 454ms/step - loss: 0.1406 - accuracy: 0.9668 - val_loss: 0.1619 - val_accuracy: 0.9675\n",
            "Epoch 9/50\n",
            "25/25 [==============================] - 11s 454ms/step - loss: 0.1403 - accuracy: 0.9674 - val_loss: 0.1566 - val_accuracy: 0.9675\n",
            "Epoch 10/50\n",
            "25/25 [==============================] - 11s 454ms/step - loss: 0.1246 - accuracy: 0.9712 - val_loss: 0.1561 - val_accuracy: 0.9675\n",
            "Epoch 11/50\n",
            "25/25 [==============================] - 11s 454ms/step - loss: 0.1355 - accuracy: 0.9693 - val_loss: 0.1571 - val_accuracy: 0.9675\n",
            "Epoch 12/50\n",
            "25/25 [==============================] - 11s 457ms/step - loss: 0.1259 - accuracy: 0.9699 - val_loss: 0.1545 - val_accuracy: 0.9700\n",
            "Epoch 13/50\n",
            "25/25 [==============================] - 11s 457ms/step - loss: 0.1203 - accuracy: 0.9724 - val_loss: 0.1600 - val_accuracy: 0.9675\n",
            "Epoch 14/50\n",
            "25/25 [==============================] - 11s 454ms/step - loss: 0.1052 - accuracy: 0.9756 - val_loss: 0.1570 - val_accuracy: 0.9675\n",
            "Epoch 15/50\n",
            "25/25 [==============================] - 11s 453ms/step - loss: 0.1187 - accuracy: 0.9743 - val_loss: 0.1581 - val_accuracy: 0.9675\n",
            "Epoch 16/50\n",
            "25/25 [==============================] - 11s 453ms/step - loss: 0.1112 - accuracy: 0.9718 - val_loss: 0.1654 - val_accuracy: 0.9675\n",
            "Epoch 17/50\n",
            "25/25 [==============================] - 11s 453ms/step - loss: 0.1031 - accuracy: 0.9743 - val_loss: 0.1565 - val_accuracy: 0.9675\n",
            "Epoch 18/50\n",
            "25/25 [==============================] - 11s 453ms/step - loss: 0.1055 - accuracy: 0.9774 - val_loss: 0.1544 - val_accuracy: 0.9650\n",
            "Epoch 19/50\n",
            "25/25 [==============================] - 11s 454ms/step - loss: 0.0960 - accuracy: 0.9756 - val_loss: 0.1543 - val_accuracy: 0.9650\n",
            "Epoch 20/50\n",
            "25/25 [==============================] - 11s 453ms/step - loss: 0.0993 - accuracy: 0.9787 - val_loss: 0.1543 - val_accuracy: 0.9675\n",
            "Epoch 21/50\n",
            "25/25 [==============================] - 11s 453ms/step - loss: 0.0932 - accuracy: 0.9774 - val_loss: 0.1550 - val_accuracy: 0.9675\n",
            "Epoch 22/50\n",
            "25/25 [==============================] - 11s 453ms/step - loss: 0.0880 - accuracy: 0.9787 - val_loss: 0.1546 - val_accuracy: 0.9675\n",
            "Epoch 23/50\n",
            "25/25 [==============================] - 11s 453ms/step - loss: 0.0810 - accuracy: 0.9812 - val_loss: 0.1559 - val_accuracy: 0.9675\n",
            "Epoch 24/50\n",
            "25/25 [==============================] - 11s 452ms/step - loss: 0.0873 - accuracy: 0.9787 - val_loss: 0.1555 - val_accuracy: 0.9650\n",
            "Epoch 25/50\n",
            "25/25 [==============================] - 11s 453ms/step - loss: 0.0893 - accuracy: 0.9781 - val_loss: 0.1515 - val_accuracy: 0.9675\n",
            "Epoch 26/50\n",
            "25/25 [==============================] - 11s 453ms/step - loss: 0.0839 - accuracy: 0.9799 - val_loss: 0.1501 - val_accuracy: 0.9675\n",
            "Epoch 27/50\n",
            "25/25 [==============================] - 11s 452ms/step - loss: 0.0734 - accuracy: 0.9843 - val_loss: 0.1517 - val_accuracy: 0.9675\n",
            "Epoch 28/50\n",
            "25/25 [==============================] - 11s 453ms/step - loss: 0.0732 - accuracy: 0.9825 - val_loss: 0.1509 - val_accuracy: 0.9700\n",
            "Epoch 29/50\n",
            "25/25 [==============================] - 11s 455ms/step - loss: 0.0813 - accuracy: 0.9812 - val_loss: 0.1557 - val_accuracy: 0.9700\n",
            "Epoch 30/50\n",
            "25/25 [==============================] - 11s 453ms/step - loss: 0.0743 - accuracy: 0.9812 - val_loss: 0.1556 - val_accuracy: 0.9700\n",
            "Epoch 31/50\n",
            "25/25 [==============================] - 11s 452ms/step - loss: 0.0758 - accuracy: 0.9831 - val_loss: 0.1598 - val_accuracy: 0.9700\n",
            "Epoch 32/50\n",
            "25/25 [==============================] - 11s 452ms/step - loss: 0.0653 - accuracy: 0.9837 - val_loss: 0.1582 - val_accuracy: 0.9700\n",
            "Epoch 33/50\n",
            "25/25 [==============================] - 11s 453ms/step - loss: 0.0646 - accuracy: 0.9837 - val_loss: 0.1568 - val_accuracy: 0.9700\n",
            "Epoch 34/50\n",
            "25/25 [==============================] - 11s 453ms/step - loss: 0.0672 - accuracy: 0.9831 - val_loss: 0.1559 - val_accuracy: 0.9675\n",
            "Epoch 35/50\n",
            "25/25 [==============================] - 11s 453ms/step - loss: 0.0558 - accuracy: 0.9862 - val_loss: 0.1550 - val_accuracy: 0.9675\n",
            "Epoch 36/50\n",
            "25/25 [==============================] - 11s 454ms/step - loss: 0.0618 - accuracy: 0.9837 - val_loss: 0.1587 - val_accuracy: 0.9675\n",
            "Epoch 37/50\n",
            "25/25 [==============================] - 11s 454ms/step - loss: 0.0634 - accuracy: 0.9831 - val_loss: 0.1631 - val_accuracy: 0.9700\n",
            "Epoch 38/50\n",
            "25/25 [==============================] - 11s 452ms/step - loss: 0.0599 - accuracy: 0.9850 - val_loss: 0.1635 - val_accuracy: 0.9700\n",
            "Epoch 39/50\n",
            "25/25 [==============================] - 11s 452ms/step - loss: 0.0532 - accuracy: 0.9868 - val_loss: 0.1631 - val_accuracy: 0.9700\n",
            "Epoch 40/50\n",
            "25/25 [==============================] - 11s 461ms/step - loss: 0.0526 - accuracy: 0.9868 - val_loss: 0.1688 - val_accuracy: 0.9675\n",
            "Epoch 41/50\n",
            "25/25 [==============================] - 11s 453ms/step - loss: 0.0509 - accuracy: 0.9887 - val_loss: 0.1674 - val_accuracy: 0.9675\n",
            "Epoch 42/50\n",
            "25/25 [==============================] - 11s 452ms/step - loss: 0.0520 - accuracy: 0.9875 - val_loss: 0.1669 - val_accuracy: 0.9700\n",
            "Epoch 43/50\n",
            "25/25 [==============================] - 11s 453ms/step - loss: 0.0547 - accuracy: 0.9856 - val_loss: 0.1635 - val_accuracy: 0.9700\n",
            "Epoch 44/50\n",
            "25/25 [==============================] - 11s 453ms/step - loss: 0.0526 - accuracy: 0.9862 - val_loss: 0.1646 - val_accuracy: 0.9700\n",
            "Epoch 45/50\n",
            "25/25 [==============================] - 11s 453ms/step - loss: 0.0460 - accuracy: 0.9881 - val_loss: 0.1693 - val_accuracy: 0.9700\n",
            "Epoch 46/50\n",
            "25/25 [==============================] - 11s 453ms/step - loss: 0.0401 - accuracy: 0.9887 - val_loss: 0.1683 - val_accuracy: 0.9700\n",
            "Epoch 47/50\n",
            "25/25 [==============================] - 11s 453ms/step - loss: 0.0435 - accuracy: 0.9881 - val_loss: 0.1651 - val_accuracy: 0.9675\n",
            "Epoch 48/50\n",
            "25/25 [==============================] - 11s 453ms/step - loss: 0.0369 - accuracy: 0.9906 - val_loss: 0.1660 - val_accuracy: 0.9700\n",
            "Epoch 49/50\n",
            "25/25 [==============================] - 11s 452ms/step - loss: 0.0438 - accuracy: 0.9881 - val_loss: 0.1672 - val_accuracy: 0.9700\n",
            "Epoch 50/50\n",
            "25/25 [==============================] - 11s 454ms/step - loss: 0.0372 - accuracy: 0.9893 - val_loss: 0.1679 - val_accuracy: 0.9700\n"
          ],
          "name": "stdout"
        }
      ]
    },
    {
      "cell_type": "code",
      "metadata": {
        "colab": {
          "base_uri": "https://localhost:8080/"
        },
        "id": "iT3ASxsLGDk1",
        "outputId": "fd8b7e5c-4237-49f7-bfdb-ec6b20fa8fa8"
      },
      "source": [
        "#Model 3\n",
        "# Ready output data for the model\n",
        "y_label = to_categorical(data['label'])\n",
        "\n",
        "# Tokenize the input (takes some time)\n",
        "x = tokenizer(\n",
        "    text=data['text'].to_list(),\n",
        "    add_special_tokens=True,\n",
        "    max_length=max_length,\n",
        "    truncation=True,\n",
        "    padding=True, \n",
        "    return_tensors='tf',\n",
        "    return_token_type_ids = False,\n",
        "    return_attention_mask = True,\n",
        "    verbose = True)\n",
        "\n",
        "# Fit the model\n",
        "history = model.fit(\n",
        "    x={'input_ids': x['input_ids'], 'attention_mask': x['attention_mask']},\n",
        "    y={'label': y_label},\n",
        "    validation_split=0.2,\n",
        "    batch_size=64,\n",
        "    epochs=50)"
      ],
      "execution_count": 41,
      "outputs": [
        {
          "output_type": "stream",
          "text": [
            "Epoch 1/50\n",
            "200/200 [==============================] - 90s 452ms/step - loss: 0.0052 - accuracy: 0.9985 - val_loss: 0.2436 - val_accuracy: 0.9631\n",
            "Epoch 2/50\n",
            "200/200 [==============================] - 90s 452ms/step - loss: 0.0045 - accuracy: 0.9990 - val_loss: 0.2418 - val_accuracy: 0.9634\n",
            "Epoch 3/50\n",
            "200/200 [==============================] - 90s 452ms/step - loss: 0.0043 - accuracy: 0.9991 - val_loss: 0.2446 - val_accuracy: 0.9631\n",
            "Epoch 4/50\n",
            "200/200 [==============================] - 90s 452ms/step - loss: 0.0057 - accuracy: 0.9987 - val_loss: 0.2462 - val_accuracy: 0.9641\n",
            "Epoch 5/50\n",
            "200/200 [==============================] - 90s 452ms/step - loss: 0.0048 - accuracy: 0.9990 - val_loss: 0.2456 - val_accuracy: 0.9641\n",
            "Epoch 6/50\n",
            "200/200 [==============================] - 90s 452ms/step - loss: 0.0052 - accuracy: 0.9987 - val_loss: 0.2489 - val_accuracy: 0.9625\n",
            "Epoch 7/50\n",
            "200/200 [==============================] - 90s 452ms/step - loss: 0.0057 - accuracy: 0.9985 - val_loss: 0.2481 - val_accuracy: 0.9628\n",
            "Epoch 8/50\n",
            "200/200 [==============================] - 90s 452ms/step - loss: 0.0039 - accuracy: 0.9993 - val_loss: 0.2509 - val_accuracy: 0.9619\n",
            "Epoch 9/50\n",
            "200/200 [==============================] - 90s 452ms/step - loss: 0.0036 - accuracy: 0.9993 - val_loss: 0.2477 - val_accuracy: 0.9628\n",
            "Epoch 10/50\n",
            "200/200 [==============================] - 90s 452ms/step - loss: 0.0050 - accuracy: 0.9987 - val_loss: 0.2514 - val_accuracy: 0.9625\n",
            "Epoch 11/50\n",
            "200/200 [==============================] - 91s 453ms/step - loss: 0.0040 - accuracy: 0.9989 - val_loss: 0.2516 - val_accuracy: 0.9625\n",
            "Epoch 12/50\n",
            "200/200 [==============================] - 90s 452ms/step - loss: 0.0037 - accuracy: 0.9992 - val_loss: 0.2487 - val_accuracy: 0.9637\n",
            "Epoch 13/50\n",
            "200/200 [==============================] - 91s 453ms/step - loss: 0.0044 - accuracy: 0.9990 - val_loss: 0.2507 - val_accuracy: 0.9631\n",
            "Epoch 14/50\n",
            "200/200 [==============================] - 91s 453ms/step - loss: 0.0043 - accuracy: 0.9991 - val_loss: 0.2498 - val_accuracy: 0.9634\n",
            "Epoch 15/50\n",
            "200/200 [==============================] - 91s 453ms/step - loss: 0.0050 - accuracy: 0.9990 - val_loss: 0.2509 - val_accuracy: 0.9619\n",
            "Epoch 16/50\n",
            "200/200 [==============================] - 90s 452ms/step - loss: 0.0044 - accuracy: 0.9991 - val_loss: 0.2499 - val_accuracy: 0.9619\n",
            "Epoch 17/50\n",
            "200/200 [==============================] - 90s 452ms/step - loss: 0.0057 - accuracy: 0.9984 - val_loss: 0.2476 - val_accuracy: 0.9637\n",
            "Epoch 18/50\n",
            "200/200 [==============================] - 91s 453ms/step - loss: 0.0042 - accuracy: 0.9988 - val_loss: 0.2498 - val_accuracy: 0.9641\n",
            "Epoch 19/50\n",
            "200/200 [==============================] - 90s 452ms/step - loss: 0.0049 - accuracy: 0.9990 - val_loss: 0.2485 - val_accuracy: 0.9628\n",
            "Epoch 20/50\n",
            "200/200 [==============================] - 90s 452ms/step - loss: 0.0038 - accuracy: 0.9991 - val_loss: 0.2466 - val_accuracy: 0.9641\n",
            "Epoch 21/50\n",
            "200/200 [==============================] - 91s 453ms/step - loss: 0.0052 - accuracy: 0.9988 - val_loss: 0.2492 - val_accuracy: 0.9634\n",
            "Epoch 22/50\n",
            "200/200 [==============================] - 90s 452ms/step - loss: 0.0035 - accuracy: 0.9990 - val_loss: 0.2503 - val_accuracy: 0.9631\n",
            "Epoch 23/50\n",
            "200/200 [==============================] - 90s 452ms/step - loss: 0.0037 - accuracy: 0.9993 - val_loss: 0.2486 - val_accuracy: 0.9644\n",
            "Epoch 24/50\n",
            "200/200 [==============================] - 90s 452ms/step - loss: 0.0037 - accuracy: 0.9992 - val_loss: 0.2501 - val_accuracy: 0.9634\n",
            "Epoch 25/50\n",
            "200/200 [==============================] - 91s 453ms/step - loss: 0.0044 - accuracy: 0.9989 - val_loss: 0.2498 - val_accuracy: 0.9641\n",
            "Epoch 26/50\n",
            "200/200 [==============================] - 90s 452ms/step - loss: 0.0039 - accuracy: 0.9992 - val_loss: 0.2508 - val_accuracy: 0.9637\n",
            "Epoch 27/50\n",
            "200/200 [==============================] - 90s 452ms/step - loss: 0.0039 - accuracy: 0.9992 - val_loss: 0.2511 - val_accuracy: 0.9631\n",
            "Epoch 28/50\n",
            "200/200 [==============================] - 90s 453ms/step - loss: 0.0048 - accuracy: 0.9991 - val_loss: 0.2496 - val_accuracy: 0.9637\n",
            "Epoch 29/50\n",
            "200/200 [==============================] - 90s 452ms/step - loss: 0.0048 - accuracy: 0.9990 - val_loss: 0.2497 - val_accuracy: 0.9634\n",
            "Epoch 30/50\n",
            "200/200 [==============================] - 90s 452ms/step - loss: 0.0046 - accuracy: 0.9989 - val_loss: 0.2505 - val_accuracy: 0.9637\n",
            "Epoch 31/50\n",
            "200/200 [==============================] - 90s 452ms/step - loss: 0.0037 - accuracy: 0.9992 - val_loss: 0.2546 - val_accuracy: 0.9622\n",
            "Epoch 32/50\n",
            "200/200 [==============================] - 91s 453ms/step - loss: 0.0042 - accuracy: 0.9991 - val_loss: 0.2512 - val_accuracy: 0.9634\n",
            "Epoch 33/50\n",
            "200/200 [==============================] - 90s 452ms/step - loss: 0.0048 - accuracy: 0.9987 - val_loss: 0.2492 - val_accuracy: 0.9637\n",
            "Epoch 34/50\n",
            "200/200 [==============================] - 90s 452ms/step - loss: 0.0041 - accuracy: 0.9988 - val_loss: 0.2506 - val_accuracy: 0.9634\n",
            "Epoch 35/50\n",
            "200/200 [==============================] - 90s 453ms/step - loss: 0.0045 - accuracy: 0.9990 - val_loss: 0.2491 - val_accuracy: 0.9647\n",
            "Epoch 36/50\n",
            "200/200 [==============================] - 90s 452ms/step - loss: 0.0032 - accuracy: 0.9994 - val_loss: 0.2507 - val_accuracy: 0.9637\n",
            "Epoch 37/50\n",
            "200/200 [==============================] - 90s 452ms/step - loss: 0.0045 - accuracy: 0.9990 - val_loss: 0.2485 - val_accuracy: 0.9650\n",
            "Epoch 38/50\n",
            "200/200 [==============================] - 90s 452ms/step - loss: 0.0036 - accuracy: 0.9990 - val_loss: 0.2518 - val_accuracy: 0.9625\n",
            "Epoch 39/50\n",
            "200/200 [==============================] - 91s 453ms/step - loss: 0.0033 - accuracy: 0.9994 - val_loss: 0.2485 - val_accuracy: 0.9631\n",
            "Epoch 40/50\n",
            "200/200 [==============================] - 90s 452ms/step - loss: 0.0037 - accuracy: 0.9990 - val_loss: 0.2487 - val_accuracy: 0.9641\n",
            "Epoch 41/50\n",
            "200/200 [==============================] - 90s 452ms/step - loss: 0.0036 - accuracy: 0.9993 - val_loss: 0.2500 - val_accuracy: 0.9644\n",
            "Epoch 42/50\n",
            "200/200 [==============================] - 91s 453ms/step - loss: 0.0037 - accuracy: 0.9992 - val_loss: 0.2485 - val_accuracy: 0.9647\n",
            "Epoch 43/50\n",
            "200/200 [==============================] - 90s 452ms/step - loss: 0.0035 - accuracy: 0.9990 - val_loss: 0.2471 - val_accuracy: 0.9644\n",
            "Epoch 44/50\n",
            "200/200 [==============================] - 90s 452ms/step - loss: 0.0035 - accuracy: 0.9994 - val_loss: 0.2491 - val_accuracy: 0.9644\n",
            "Epoch 45/50\n",
            "200/200 [==============================] - 91s 453ms/step - loss: 0.0030 - accuracy: 0.9991 - val_loss: 0.2485 - val_accuracy: 0.9650\n",
            "Epoch 46/50\n",
            "200/200 [==============================] - 90s 452ms/step - loss: 0.0034 - accuracy: 0.9992 - val_loss: 0.2468 - val_accuracy: 0.9644\n",
            "Epoch 47/50\n",
            "200/200 [==============================] - 90s 451ms/step - loss: 0.0030 - accuracy: 0.9993 - val_loss: 0.2518 - val_accuracy: 0.9628\n",
            "Epoch 48/50\n",
            "200/200 [==============================] - 90s 452ms/step - loss: 0.0035 - accuracy: 0.9990 - val_loss: 0.2530 - val_accuracy: 0.9628\n",
            "Epoch 49/50\n",
            "200/200 [==============================] - 90s 453ms/step - loss: 0.0024 - accuracy: 0.9995 - val_loss: 0.2532 - val_accuracy: 0.9625\n",
            "Epoch 50/50\n",
            "200/200 [==============================] - 90s 452ms/step - loss: 0.0035 - accuracy: 0.9990 - val_loss: 0.2509 - val_accuracy: 0.9631\n"
          ],
          "name": "stdout"
        }
      ]
    },
    {
      "cell_type": "code",
      "metadata": {
        "id": "kz4e439BRC5E",
        "colab": {
          "base_uri": "https://localhost:8080/"
        },
        "outputId": "444c9c1d-91e3-4998-d8b0-987b865d453f"
      },
      "source": [
        "model.save(\"/tmp/text-classification-malayalam.h5\")\n",
        "#Evaluate the model\n",
        "\n",
        "# Ready test data`\n",
        "test_y_label = to_categorical(data_dev['label'])\n",
        "test_x = tokenizer(\n",
        "    text=data_dev['text'].to_list(),\n",
        "    add_special_tokens=True,\n",
        "    max_length=max_length,\n",
        "    truncation=True,\n",
        "    padding=True, \n",
        "    return_tensors='tf',\n",
        "    return_token_type_ids = False,\n",
        "    return_attention_mask = True,\n",
        "    verbose = True)\n",
        "\n",
        "\n",
        "# Run evaluation\n",
        "model_eval = model.evaluate(\n",
        "    x={'input_ids': test_x['input_ids'], 'attention_mask': test_x['attention_mask']},\n",
        "    y={'label': test_y_label}\n",
        ")"
      ],
      "execution_count": 42,
      "outputs": [
        {
          "output_type": "stream",
          "text": [
            "63/63 [==============================] - 5s 85ms/step - loss: 0.0981 - accuracy: 0.9840\n"
          ],
          "name": "stdout"
        }
      ]
    },
    {
      "cell_type": "code",
      "metadata": {
        "colab": {
          "base_uri": "https://localhost:8080/"
        },
        "id": "UZMxbvsHz-oh",
        "outputId": "5d7d8af7-571a-437a-f093-f3d7b0a16b25"
      },
      "source": [
        "#History object\n",
        "history_dict = history.history\n",
        "history_dict.keys()"
      ],
      "execution_count": 43,
      "outputs": [
        {
          "output_type": "execute_result",
          "data": {
            "text/plain": [
              "dict_keys(['loss', 'accuracy', 'val_loss', 'val_accuracy'])"
            ]
          },
          "metadata": {
            "tags": []
          },
          "execution_count": 43
        }
      ]
    },
    {
      "cell_type": "code",
      "metadata": {
        "id": "6qeKQ_Bl1Z5n"
      },
      "source": [
        "#import matplotlib\n",
        "from matplotlib import pyplot as plt"
      ],
      "execution_count": 44,
      "outputs": []
    },
    {
      "cell_type": "code",
      "metadata": {
        "colab": {
          "base_uri": "https://localhost:8080/",
          "height": 295
        },
        "id": "HrT0cmkm0CBr",
        "outputId": "b43b9f56-dc7a-4360-9e05-96d32ec85c4e"
      },
      "source": [
        "#plot the training and validation loss for comparison\n",
        "\n",
        "acc = history_dict['accuracy']\n",
        "val_acc = history_dict['val_accuracy']\n",
        "loss = history_dict['loss']\n",
        "val_loss = history_dict['val_loss']\n",
        "\n",
        "epochs = range(1, len(acc) + 1)\n",
        "\n",
        "plt.plot(epochs, loss, 'bo', label='Training loss')\n",
        "plt.plot(epochs, val_loss, 'b', label='Validation loss')\n",
        "plt.title('Training and validation loss')\n",
        "plt.xlabel('Epochs')\n",
        "plt.ylabel('Loss')\n",
        "plt.legend()\n",
        "\n",
        "plt.show()"
      ],
      "execution_count": 45,
      "outputs": [
        {
          "output_type": "display_data",
          "data": {
            "image/png": "[encoded data removed]",
            "text/plain": [
              "<Figure size 432x288 with 1 Axes>"
            ]
          },
          "metadata": {
            "tags": [],
            "needs_background": "light"
          }
        }
      ]
    },
    {
      "cell_type": "code",
      "metadata": {
        "colab": {
          "base_uri": "https://localhost:8080/",
          "height": 295
        },
        "id": "TVXDyzTX0e4o",
        "outputId": "46b8caa1-3b41-4036-b40c-dfe47926e80a"
      },
      "source": [
        "#plot the training and validation accuracy for comparison\n",
        "plt.plot(epochs, acc, 'bo', label='Training acc')\n",
        "plt.plot(epochs, val_acc, 'b', label='Validation acc')\n",
        "plt.title('Training and validation accuracy')\n",
        "plt.xlabel('Epochs')\n",
        "plt.ylabel('Accuracy')\n",
        "plt.legend(loc='lower right')\n",
        "\n",
        "plt.show()"
      ],
      "execution_count": 46,
      "outputs": [
        {
          "output_type": "display_data",
          "data": {
            "image/png": "[encoded data removed]",
            "text/plain": [
              "<Figure size 432x288 with 1 Axes>"
            ]
          },
          "metadata": {
            "tags": [],
            "needs_background": "light"
          }
        }
      ]
    },
    {
      "cell_type": "code",
      "metadata": {
        "id": "RUJSw4-Eyyhn"
      },
      "source": [
        "#Model Prediction\n",
        "data_test = pd.read_csv(\"/tmp/mal_full_offensive_test.csv\")\n",
        "\n",
        "# Select required columns\n",
        "data_test = data_test[['text']]\n",
        "\n",
        "# Remove a row if any of the three remaining columns are missing\n",
        "data_test = data_test.dropna()\n",
        "\n",
        "test_x = tokenizer(\n",
        "    text=data_test['text'].to_list(),\n",
        "    add_special_tokens=True,\n",
        "    max_length=max_length,\n",
        "    truncation=True,\n",
        "    padding=True, \n",
        "    return_tensors='tf',\n",
        "    return_token_type_ids = False,\n",
        "    return_attention_mask = True,\n",
        "    verbose = True)\n",
        "\n",
        "predictions = model.predict({'input_ids': test_x['input_ids'], 'attention_mask': test_x['attention_mask']})\n",
        "  "
      ],
      "execution_count": 50,
      "outputs": []
    },
    {
      "cell_type": "code",
      "metadata": {
        "colab": {
          "base_uri": "https://localhost:8080/"
        },
        "id": "CUfCMtCvSM_d",
        "outputId": "adc78187-9c5e-4de1-d426-b8a30f699eed"
      },
      "source": [
        "print(len(data_test))\n",
        "print(predictions['label'])"
      ],
      "execution_count": 51,
      "outputs": [
        {
          "output_type": "stream",
          "text": [
            "2001\n",
            "[[ 7.894426   -2.7112906  -1.7152427  -1.2628812  -2.469767  ]\n",
            " [ 7.5696363  -2.2972863  -1.9287362  -0.40263057 -3.067298  ]\n",
            " [ 6.757382   -1.9493637   0.12304313 -1.4993792  -3.6944978 ]\n",
            " ...\n",
            " [ 7.9810247  -2.3950832  -1.8260133  -1.2898439  -2.752025  ]\n",
            " [ 7.88498    -2.4363232  -1.438932   -1.1393209  -3.052976  ]\n",
            " [ 7.9924555  -2.553345   -1.878277   -1.2250415  -2.5541284 ]]\n"
          ],
          "name": "stdout"
        }
      ]
    },
    {
      "cell_type": "code",
      "metadata": {
        "id": "3i8NfCHz6Bg4"
      },
      "source": [
        "#import Numpy\n",
        "import numpy as np"
      ],
      "execution_count": 48,
      "outputs": []
    },
    {
      "cell_type": "code",
      "metadata": {
        "id": "Wgo96zWlR7Vt"
      },
      "source": [
        "#Write out to the csv file\n",
        "arry = []\n",
        "\n",
        "data_test = np.array(data_test)\n",
        "label_array = np.array(predictions['label'])\n",
        "\n",
        "for i, j in zip(data_test, label_array):\n",
        "  text = i[0]\n",
        "  label_value_max = max(j)\n",
        "  label_index = np.where(label_array == label_value_max)\n",
        "\n",
        "  labels = ['Not_offensive', 'Offensive_Targeted_Insult_Group', 'Offensive_Targeted_Insult_Individual', 'Offensive_Untargetede', 'not-malayalam', 'Offensive_Targeted_Insult_Other']\n",
        "  arry.append([text, labels[label_index[1][0]]])\n",
        "  # print(i[0] + i[1] + ' - ' + labels[label_index[1][0]])\n",
        "\n",
        "\n",
        "pre = pd.DataFrame(arry, columns=['text', 'label'])\n",
        "pre.to_csv('/tmp/prediction-malayalam.csv')"
      ],
      "execution_count": 52,
      "outputs": []
    }
  ]
}